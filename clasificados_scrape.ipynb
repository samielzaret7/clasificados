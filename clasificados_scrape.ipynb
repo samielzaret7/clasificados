{
 "cells": [
  {
   "cell_type": "code",
   "execution_count": null,
   "metadata": {},
   "outputs": [],
   "source": [
    "from selenium import webdriver\n",
    "from selenium.webdriver.chrome.options import Options\n",
    "from selenium.webdriver.common.by import By\n",
    "from selenium.common.exceptions import NoSuchElementException\n",
    "from selenium.webdriver.support.ui import Select\n",
    "import time\n",
    "import pandas as pd\n",
    "import re"
   ]
  },
  {
   "cell_type": "code",
   "execution_count": 45,
   "metadata": {},
   "outputs": [],
   "source": [
    "pd.set_option('display.max_rows',None)\n",
    "pd.set_option('display.max_colwidth', None)"
   ]
  },
  {
   "cell_type": "code",
   "execution_count": 31,
   "metadata": {},
   "outputs": [],
   "source": [
    "options = Options() \n",
    "driver = webdriver.Chrome(options=options)\n",
    "driver.get('https://www.clasificadosonline.com/RealEstate.asp')"
   ]
  },
  {
   "cell_type": "code",
   "execution_count": 49,
   "metadata": {},
   "outputs": [],
   "source": [
    "multi_check_box_toggle = driver.find_element(By.XPATH,'//*[@id=\"form1\"]/div/table[2]/tbody/tr/td/div[1]')\n",
    "multi_check_box_toggle.click()\n",
    "time.sleep(2)"
   ]
  },
  {
   "cell_type": "code",
   "execution_count": 50,
   "metadata": {},
   "outputs": [],
   "source": [
    "select_all = driver.find_element(By.XPATH,'//*[@id=\"form1\"]/div/table[2]/tbody/tr/td/div[2]/div[1]/input')\n",
    "select_all.click()\n",
    "time.sleep(2)"
   ]
  },
  {
   "cell_type": "code",
   "execution_count": 51,
   "metadata": {},
   "outputs": [],
   "source": [
    "time.sleep(10)\n",
    "ver_listado = driver.find_element(By.XPATH,'//*[@id=\"BtnSearchListing\"]')\n",
    "ver_listado.click()"
   ]
  },
  {
   "cell_type": "code",
   "execution_count": 54,
   "metadata": {},
   "outputs": [],
   "source": [
    "order_by = driver.find_element(By.XPATH,'//*[@id=\"jumpMenu\"]')"
   ]
  },
  {
   "cell_type": "code",
   "execution_count": null,
   "metadata": {},
   "outputs": [],
   "source": [
    "order_by = driver.find_element(By.XPATH,'//*[@id=\"jumpMenu\"]')\n",
    "order_by.click()\n",
    "ultimos_publicados = driver.find_element(By.XPATH,'//*[@id=\"jumpMenu\"]/option[7]')\n",
    "ultimos_publicados.click()"
   ]
  },
  {
   "cell_type": "code",
   "execution_count": 12,
   "metadata": {},
   "outputs": [],
   "source": [
    "list_cards = []\n",
    "\n",
    "for i in range(1,16):\n",
    "    table_1 = '#listing > table > tbody > tr > td > table > tbody > tr:nth-child(2) > td > div > div:nth-child(2) > table:nth-child(1)'\n",
    "    table_1_title = table_1 + f' > tbody > tr:nth-child({i}) > td > div.dv-classified-row.dv-classified-row-v2 > table > tbody > tr > td:nth-child(2) > table > tbody > tr:nth-child(1) > td > a > div > span'\n",
    "    table_1_rooms = table_1 + f' > tbody > tr:nth-child({i}) > td > div.dv-classified-row.dv-classified-row-v2 > table > tbody > tr > td:nth-child(2) > table > tbody > tr:nth-child(2) > td:nth-child(1) > div:nth-child(1) > span'\n",
    "    table_1_price = table_1 + f' > tbody > tr:nth-child({i}) > td > div.dv-classified-row.dv-classified-row-v2 > table > tbody > tr > td:nth-child(2) > table > tbody > tr:nth-child(2) > td:nth-child(1) > div:nth-child(2) > span:nth-child(2) > font'\n",
    "    table_1_type = table_1 + f' > tbody > tr:nth-child({i}) > td > div.dv-classified-row.dv-classified-row-v2 > table > tbody > tr > td:nth-child(2) > table > tbody > tr:nth-child(2) > td:nth-child(1) > div:nth-child(2) > span:nth-child(4)'\n",
    "    table_1_location = table_1 + f' > tbody > tr:nth-child({i}) > td > div.dv-classified-row.dv-classified-row-v2 > table > tbody > tr > td:nth-child(2) > table > tbody > tr:nth-child(3) > td'\n",
    "    table_1_link = table_1 + f' > tbody > tr:nth-child({i}) > td > div.dv-classified-row.dv-classified-row-v2 > table > tbody > tr > td:nth-child(2) > table > tbody > tr:nth-child(1) > td > a'\n",
    "    \n",
    "    table_2 = '#listing > table > tbody > tr > td > table > tbody > tr:nth-child(2) > td > div > div:nth-child(2) > table:nth-child(3)'\n",
    "    table_2_title = table_2 + f' > tbody > tr:nth-child({i}) > td > div.dv-classified-row.dv-classified-row-v2 > table > tbody > tr > td:nth-child(2) > table > tbody > tr:nth-child(1) > td > a > div > span'\n",
    "    table_2_rooms = table_2 + f' > tbody > tr:nth-child({i}) > td > div.dv-classified-row.dv-classified-row-v2 > table > tbody > tr > td:nth-child(2) > table > tbody > tr:nth-child(2) > td:nth-child(1) > div:nth-child(1) > span'\n",
    "    table_2_price = table_2 + f' > tbody > tr:nth-child({i}) > td > div.dv-classified-row.dv-classified-row-v2 > table > tbody > tr > td:nth-child(2) > table > tbody > tr:nth-child(2) > td:nth-child(1) > div:nth-child(2) > span:nth-child(2) > font'\n",
    "    table_2_type = table_2 + f' > tbody > tr:nth-child({i}) > td > div.dv-classified-row.dv-classified-row-v2 > table > tbody > tr > td:nth-child(2) > table > tbody > tr:nth-child(2) > td:nth-child(1) > div:nth-child(2) > span:nth-child(4)'\n",
    "    table_2_location = table_2 + f' > tbody > tr:nth-child({i}) > td > div.dv-classified-row.dv-classified-row-v2 > table > tbody > tr > td:nth-child(2) > table > tbody > tr:nth-child(3) > td'\n",
    "    table_2_link = table_2 + f' > tbody > tr:nth-child({i}) > td > div.dv-classified-row.dv-classified-row-v2 > table > tbody > tr > td:nth-child(2) > table > tbody > tr:nth-child(1) > td > a'\n",
    "    \n",
    "    dictionary_cards = {}\n",
    "    dictionary_cards_2 = {}\n",
    "    try:\n",
    "        table_1_type_2 = table_1 + f' > tbody > tr:nth-child({i}) > td > div.dv-classified-row.dv-classified-row-v2 > table > tbody > tr > td:nth-child(2) > table > tbody > tr:nth-child(2) > td:nth-child(1) > div:nth-child(2) > span:nth-child(5)'\n",
    "        table_1_type_2_text = driver.find_element(By.CSS_SELECTOR, table_1_type_2).text\n",
    "        dictionary_cards['Type'] = driver.find_element(By.CSS_SELECTOR, table_1_type).text + ' ' + table_1_type_2_text\n",
    "        \n",
    "        table_2_type_2 = table_2 + f' > tbody > tr:nth-child({i}) > td > div.dv-classified-row.dv-classified-row-v2 > table > tbody > tr > td:nth-child(2) > table > tbody > tr:nth-child(2) > td:nth-child(1) > div:nth-child(2) > span:nth-child(5)'\n",
    "        table_2_type_2_text = driver.find_element(By.CSS_SELECTOR, table_2_type_2).text\n",
    "        dictionary_cards_2['Type'] = driver.find_element(By.CSS_SELECTOR, table_2_type).text + ' ' + table_2_type_2_text\n",
    "\n",
    "    except NoSuchElementException:\n",
    "        dictionary_cards['Type'] = driver.find_element(By.CSS_SELECTOR, table_1_type).text\n",
    "        dictionary_cards_2['Type'] = driver.find_element(By.CSS_SELECTOR, table_2_type).text\n",
    "    try:\n",
    "        table_1_broker = table_1 + f' > tbody > tr:nth-child({i}) > td > div.dv-classified-row.dv-classified-row-v2 > table > tbody > tr > td:nth-child(2) > table > tbody > tr:nth-child(2) > td:nth-child(2) > center > a > img'\n",
    "        dictionary_cards['Broker'] = driver.find_element(By.CSS_SELECTOR, table_1_broker).get_attribute('alt')\n",
    "\n",
    "        table_2_broker = table_2 + f' > tbody > tr:nth-child({i}) > td > div.dv-classified-row.dv-classified-row-v2 > table > tbody > tr > td:nth-child(2) > table > tbody > tr:nth-child(2) > td:nth-child(2) > center > a > img'\n",
    "        dictionary_cards_2['Broker'] = driver.find_element(By.CSS_SELECTOR, table_2_broker).get_attribute('alt')\n",
    "\n",
    "    except NoSuchElementException:\n",
    "        dictionary_cards['Broker'] = 'No Broker'\n",
    "        dictionary_cards_2['Broker'] = 'No Broker'\n",
    "\n",
    "    dictionary_cards['Title'] = driver.find_element(By.CSS_SELECTOR, table_1_title).text\n",
    "    dictionary_cards['Rooms'] = driver.find_element(By.CSS_SELECTOR, table_1_rooms).text\n",
    "    dictionary_cards['Price'] = driver.find_element(By.CSS_SELECTOR, table_1_price).text\n",
    "    dictionary_cards['Location'] = driver.find_element(By.CSS_SELECTOR, table_1_location).text\n",
    "    dictionary_cards['Link'] = driver.find_element(By.CSS_SELECTOR, table_1_link).get_attribute('href')\n",
    "    list_cards.append(dictionary_cards)\n",
    "\n",
    "    dictionary_cards_2['Title'] = driver.find_element(By.CSS_SELECTOR, table_2_title).text\n",
    "    dictionary_cards_2['Rooms'] = driver.find_element(By.CSS_SELECTOR, table_2_rooms).text\n",
    "    dictionary_cards_2['Price'] = driver.find_element(By.CSS_SELECTOR, table_2_price).text\n",
    "    dictionary_cards_2['Location'] = driver.find_element(By.CSS_SELECTOR, table_2_location).text\n",
    "    dictionary_cards_2['Link'] = driver.find_element(By.CSS_SELECTOR, table_2_link).get_attribute('href')\n",
    "    list_cards.append(dictionary_cards_2)\n"
   ]
  },
  {
   "cell_type": "code",
   "execution_count": null,
   "metadata": {},
   "outputs": [],
   "source": [
    "df = pd.json_normalize(list_cards)\n",
    "df"
   ]
  },
  {
   "cell_type": "code",
   "execution_count": null,
   "metadata": {},
   "outputs": [],
   "source": [
    "next_page = driver.find_element(By.XPATH,'//*[@id=\"listing\"]/table/tbody/tr/td/table/tbody/tr[2]/td/table[5]/tbody/tr[1]/td[3]/div/a')\n",
    "next_page.click()"
   ]
  },
  {
   "cell_type": "code",
   "execution_count": 5,
   "metadata": {},
   "outputs": [],
   "source": [
    "last_modified = driver.execute_script(\"return document.lastModified;\")"
   ]
  },
  {
   "cell_type": "code",
   "execution_count": null,
   "metadata": {},
   "outputs": [],
   "source": [
    "last_modified"
   ]
  },
  {
   "cell_type": "code",
   "execution_count": null,
   "metadata": {},
   "outputs": [],
   "source": [
    "import requests\n",
    "\n",
    "# Send a GET request to the webpage\n",
    "response = requests.get(\"https://www.clasificadosonline.com/UDRealEstateDetail.asp?ID=4774562\")  # Replace this URL with the URL of your webpage\n",
    "\n",
    "# Check the Last-Modified header in the response\n",
    "last_modified_header = response.headers.get(\"Last-Modified\")\n",
    "\n",
    "# Print the Last-Modified header\n",
    "print(\"Last modified (from HTTP header):\", last_modified_header)"
   ]
  },
  {
   "cell_type": "code",
   "execution_count": null,
   "metadata": {},
   "outputs": [],
   "source": []
  },
  {
   "cell_type": "code",
   "execution_count": null,
   "metadata": {},
   "outputs": [],
   "source": []
  },
  {
   "cell_type": "code",
   "execution_count": null,
   "metadata": {},
   "outputs": [],
   "source": []
  },
  {
   "cell_type": "code",
   "execution_count": null,
   "metadata": {},
   "outputs": [],
   "source": []
  },
  {
   "cell_type": "code",
   "execution_count": null,
   "metadata": {},
   "outputs": [],
   "source": [
    "all_cards = []\n",
    "\n",
    "# Infinite loop to navigate through pages\n",
    "for x in range(3):\n",
    "    # Extract data from the current page\n",
    "    list_cards = []\n",
    "\n",
    "    for i in range(1, 16):  # Adjust the range as per the number of rows on a page\n",
    "        dictionary_cards = {}\n",
    "        dictionary_cards_2 = {}\n",
    "        \n",
    "        # Table 1 Data\n",
    "        table_1 = '#listing > table > tbody > tr > td > table > tbody > tr:nth-child(2) > td > div > div:nth-child(2) > table:nth-child(1)'\n",
    "        table_1_title = table_1 + f' > tbody > tr:nth-child({i}) > td > div.dv-classified-row.dv-classified-row-v2 > table > tbody > tr > td:nth-child(2) > table > tbody > tr:nth-child(1) > td > a > div > span'\n",
    "        table_1_rooms = table_1 + f' > tbody > tr:nth-child({i}) > td > div.dv-classified-row.dv-classified-row-v2 > table > tbody > tr > td:nth-child(2) > table > tbody > tr:nth-child(2) > td:nth-child(1) > div:nth-child(1) > span'\n",
    "        table_1_price = table_1 + f' > tbody > tr:nth-child({i}) > td > div.dv-classified-row.dv-classified-row-v2 > table > tbody > tr > td:nth-child(2) > table > tbody > tr:nth-child(2) > td:nth-child(1) > div:nth-child(2) > span:nth-child(2) > font'\n",
    "        table_1_type = table_1 + f' > tbody > tr:nth-child({i}) > td > div.dv-classified-row.dv-classified-row-v2 > table > tbody > tr > td:nth-child(2) > table > tbody > tr:nth-child(2) > td:nth-child(1) > div:nth-child(2) > span:nth-child(4)'\n",
    "        table_1_location = table_1 + f' > tbody > tr:nth-child({i}) > td > div.dv-classified-row.dv-classified-row-v2 > table > tbody > tr > td:nth-child(2) > table > tbody > tr:nth-child(3) > td'\n",
    "        table_1_link = table_1 + f' > tbody > tr:nth-child({i}) > td > div.dv-classified-row.dv-classified-row-v2 > table > tbody > tr > td:nth-child(2) > table > tbody > tr:nth-child(1) > td > a'\n",
    "\n",
    "        try:\n",
    "            dictionary_cards['Title'] = driver.find_element(By.CSS_SELECTOR, table_1_title).text\n",
    "            dictionary_cards['Rooms'] = driver.find_element(By.CSS_SELECTOR, table_1_rooms).text\n",
    "            dictionary_cards['Price'] = driver.find_element(By.CSS_SELECTOR, table_1_price).text\n",
    "            dictionary_cards['Type'] = driver.find_element(By.CSS_SELECTOR, table_1_type).text\n",
    "            dictionary_cards['Location'] = driver.find_element(By.CSS_SELECTOR, table_1_location).text\n",
    "            dictionary_cards['Link'] = driver.find_element(By.CSS_SELECTOR, table_1_link).get_attribute('href')\n",
    "            list_cards.append(dictionary_cards)\n",
    "        except NoSuchElementException:\n",
    "            pass\n",
    "\n",
    "        # Table 2 Data (similar logic for table_2)\n",
    "        table_2 = '#listing > table > tbody > tr > td > table > tbody > tr:nth-child(2) > td > div > div:nth-child(2) > table:nth-child(3)'\n",
    "        table_2_title = table_2 + f' > tbody > tr:nth-child({i}) > td > div.dv-classified-row.dv-classified-row-v2 > table > tbody > tr > td:nth-child(2) > table > tbody > tr:nth-child(1) > td > a > div > span'\n",
    "        table_2_rooms = table_2 + f' > tbody > tr:nth-child({i}) > td > div.dv-classified-row.dv-classified-row-v2 > table > tbody > tr > td:nth-child(2) > table > tbody > tr:nth-child(2) > td:nth-child(1) > div:nth-child(1) > span'\n",
    "        table_2_price = table_2 + f' > tbody > tr:nth-child({i}) > td > div.dv-classified-row.dv-classified-row-v2 > table > tbody > tr > td:nth-child(2) > table > tbody > tr:nth-child(2) > td:nth-child(1) > div:nth-child(2) > span:nth-child(2) > font'\n",
    "        table_2_type = table_2 + f' > tbody > tr:nth-child({i}) > td > div.dv-classified-row.dv-classified-row-v2 > table > tbody > tr > td:nth-child(2) > table > tbody > tr:nth-child(2) > td:nth-child(1) > div:nth-child(2) > span:nth-child(4)'\n",
    "        table_2_location = table_2 + f' > tbody > tr:nth-child({i}) > td > div.dv-classified-row.dv-classified-row-v2 > table > tbody > tr > td:nth-child(2) > table > tbody > tr:nth-child(3) > td'\n",
    "        table_2_link = table_2 + f' > tbody > tr:nth-child({i}) > td > div.dv-classified-row.dv-classified-row-v2 > table > tbody > tr > td:nth-child(2) > table > tbody > tr:nth-child(1) > td > a'\n",
    "\n",
    "        try:\n",
    "            dictionary_cards_2['Title'] = driver.find_element(By.CSS_SELECTOR, table_2_title).text\n",
    "            dictionary_cards_2['Rooms'] = driver.find_element(By.CSS_SELECTOR, table_2_rooms).text\n",
    "            dictionary_cards_2['Price'] = driver.find_element(By.CSS_SELECTOR, table_2_price).text\n",
    "            dictionary_cards_2['Type'] = driver.find_element(By.CSS_SELECTOR, table_2_type).text\n",
    "            dictionary_cards_2['Location'] = driver.find_element(By.CSS_SELECTOR, table_2_location).text\n",
    "            dictionary_cards_2['Link'] = driver.find_element(By.CSS_SELECTOR, table_2_link).get_attribute('href')\n",
    "            list_cards.append(dictionary_cards_2)\n",
    "        except NoSuchElementException:\n",
    "            pass\n",
    "\n",
    "    # Append the current page's data to the main list\n",
    "    all_cards.extend(list_cards)\n",
    "\n",
    "    # Try to click the \"Next\" button\n",
    "    try:\n",
    "        time.sleep(10)\n",
    "        next_page = driver.find_element(By.XPATH, '//*[@id=\"listing\"]/table/tbody/tr/td/table/tbody/tr[2]/td/table[5]/tbody/tr[1]/td[3]/div/a')\n",
    "        next_page.click()\n",
    "        time.sleep(7)  # Add delay to allow page to load\n",
    "    except NoSuchElementException:\n",
    "        print(\"No more pages available.\")\n",
    "        break\n",
    "\n",
    "# Create a single DataFrame from all collected data\n",
    "df = pd.DataFrame(all_cards)\n",
    "\n",
    "# Save to CSV or process further\n",
    "df.to_csv(\"classifieds_data.csv\", index=False)\n",
    "\n",
    "print(\"Data collection completed.\")"
   ]
  },
  {
   "cell_type": "code",
   "execution_count": null,
   "metadata": {},
   "outputs": [],
   "source": []
  },
  {
   "cell_type": "code",
   "execution_count": null,
   "metadata": {},
   "outputs": [],
   "source": []
  },
  {
   "cell_type": "code",
   "execution_count": null,
   "metadata": {},
   "outputs": [],
   "source": []
  },
  {
   "cell_type": "code",
   "execution_count": null,
   "metadata": {},
   "outputs": [],
   "source": []
  },
  {
   "cell_type": "code",
   "execution_count": null,
   "metadata": {},
   "outputs": [],
   "source": []
  },
  {
   "cell_type": "code",
   "execution_count": 90,
   "metadata": {},
   "outputs": [],
   "source": [
    "def clean_real_estate_data(df):\n",
    "    # Clean the 'Type' column by removing leading commas and whitespace\n",
    "    df['Type'] = df['Type'].str.replace(r'^,\\s*', '', regex=True)\n",
    "\n",
    "    # Clean the 'Broker' column using the combined logic\n",
    "    def clean_broker(broker_name):\n",
    "        try:\n",
    "            # Remove any text starting with \" - \" followed by anything after it\n",
    "            broker_name = re.sub(r'\\s*-\\s*.*$', '', broker_name)\n",
    "            \n",
    "            # Remove any text starting with \"#\" followed by digits\n",
    "            broker_name = re.sub(r'\\s*#\\d+', '', broker_name)\n",
    "            \n",
    "            # Remove any text starting with \"lic.\" followed by digits\n",
    "            broker_name = re.sub(r'\\s*lic\\.\\s*\\d+', '', broker_name)\n",
    "            \n",
    "        except Exception as e:\n",
    "            print(f\"An error occurred: {e}\")\n",
    "\n",
    "        # Return the cleaned broker name\n",
    "        return broker_name.strip()\n",
    "    \n",
    "    # Apply the clean_broker function to the 'Broker' column\n",
    "    df['Broker'] = df['Broker'].apply(clean_broker)\n",
    "\n",
    "    # Drop the 'Title' column if needed\n",
    "    # df.drop(columns=['Title'], inplace=True)\n",
    "\n",
    "    # Extract the number of bedrooms and bathrooms from the 'Rooms' column\n",
    "    df[['Bedrooms', 'Bathrooms']] = df['Rooms'].str.extract(r'(\\d+)\\s+Cuartos.*\\|\\s*(\\d+)\\s+Baños', expand=True)\n",
    "    df[['Bedrooms', 'Bathrooms']] = df[['Bedrooms', 'Bathrooms']].fillna(0)\n",
    "\n",
    "    df['Location'] = df['Location'].fillna('')\n",
    "\n",
    "    # Split the 'Location' column by the comma into two columns\n",
    "    df[['Neighborhood', 'City']] = df['Location'].str.split(',', n=1, expand=True)\n",
    "\n",
    "    # Strip any leading or trailing whitespace from the new columns\n",
    "    df['Neighborhood'] = df['Neighborhood'].str.strip()\n",
    "    df['City'] = df['City'].str.strip()\n",
    "\n",
    "    df['Broker'] = df['Broker'].str.replace('ClasificadosOnline', '').str.strip()\n",
    "\n",
    "    return df"
   ]
  },
  {
   "cell_type": "code",
   "execution_count": null,
   "metadata": {},
   "outputs": [],
   "source": []
  },
  {
   "cell_type": "code",
   "execution_count": null,
   "metadata": {},
   "outputs": [],
   "source": [
    "# Initialize an empty list to store all data\n",
    "all_cards = []\n",
    "\n",
    "# Initialize a page counter (optional, for debugging or tracking pages)\n",
    "page_number = 1\n",
    "\n",
    "# Infinite loop to navigate through pages\n",
    "for x in range(3):\n",
    "\n",
    "    dropdown_element = driver.find_element(By.XPATH, '//*[@id=\"jumpMenu\"]')\n",
    "    select = Select(dropdown_element)\n",
    "    selected_option = select.first_selected_option\n",
    "\n",
    "    print(f\"Scraping page {page_number}...\")\n",
    "\n",
    "    if selected_option.text !=  'Ultimos Publicados (Más Recientes Primeros)':\n",
    "        dropdown_element.click()\n",
    "        time.sleep(2)\n",
    "        ultimos_publicados = driver.find_element(By.XPATH,'//*[@id=\"jumpMenu\"]/option[7]')\n",
    "        ultimos_publicados.click()\n",
    "        time.sleep(7)\n",
    "\n",
    "\n",
    "    # Extract data from the current page\n",
    "    list_cards = []\n",
    "\n",
    "    for i in range(1, 16):  # Adjust the range as per the number of rows on a page\n",
    "        dictionary_cards = {}\n",
    "        dictionary_cards_2 = {}\n",
    "        \n",
    "        # Table 1 Data\n",
    "        table_1 = '#listing > table > tbody > tr > td > table > tbody > tr:nth-child(2) > td > div > div:nth-child(2) > table:nth-child(1)'\n",
    "        table_1_title = table_1 + f' > tbody > tr:nth-child({i}) > td > div.dv-classified-row.dv-classified-row-v2 > table > tbody > tr > td:nth-child(2) > table > tbody > tr:nth-child(1) > td > a > div > span'\n",
    "        table_1_rooms = table_1 + f' > tbody > tr:nth-child({i}) > td > div.dv-classified-row.dv-classified-row-v2 > table > tbody > tr > td:nth-child(2) > table > tbody > tr:nth-child(2) > td:nth-child(1) > div:nth-child(1) > span'\n",
    "        table_1_price = table_1 + f' > tbody > tr:nth-child({i}) > td > div.dv-classified-row.dv-classified-row-v2 > table > tbody > tr > td:nth-child(2) > table > tbody > tr:nth-child(2) > td:nth-child(1) > div:nth-child(2) > span:nth-child(2) > font'\n",
    "        table_1_type = table_1 + f' > tbody > tr:nth-child({i}) > td > div.dv-classified-row.dv-classified-row-v2 > table > tbody > tr > td:nth-child(2) > table > tbody > tr:nth-child(2) > td:nth-child(1) > div:nth-child(2) > span:nth-child(4)'\n",
    "        table_1_type_2 = table_1 + f' > tbody > tr:nth-child({i}) > td > div.dv-classified-row.dv-classified-row-v2 > table > tbody > tr > td:nth-child(2) > table > tbody > tr:nth-child(2) > td:nth-child(1) > div:nth-child(2) > span:nth-child(5)'\n",
    "        table_1_location = table_1 + f' > tbody > tr:nth-child({i}) > td > div.dv-classified-row.dv-classified-row-v2 > table > tbody > tr > td:nth-child(2) > table > tbody > tr:nth-child(3) > td'\n",
    "        table_1_link = table_1 + f' > tbody > tr:nth-child({i}) > td > div.dv-classified-row.dv-classified-row-v2 > table > tbody > tr > td:nth-child(2) > table > tbody > tr:nth-child(1) > td > a'\n",
    "        table_1_broker = table_1 + f' > tbody > tr:nth-child({i}) > td > div.dv-classified-row.dv-classified-row-v2 > table > tbody > tr > td:nth-child(2) > table > tbody > tr:nth-child(2) > td:nth-child(2) > center > a > img'\n",
    "        \n",
    "        try:\n",
    "            dictionary_cards['Title'] = driver.find_element(By.CSS_SELECTOR, table_1_title).text\n",
    "            dictionary_cards['Rooms'] = driver.find_element(By.CSS_SELECTOR, table_1_rooms).text\n",
    "            dictionary_cards['Price'] = driver.find_element(By.CSS_SELECTOR, table_1_price).text\n",
    "            \n",
    "            # type validation, since a property can have two types\n",
    "            try: \n",
    "\n",
    "                table_1_type_2_text = driver.find_element(By.CSS_SELECTOR, table_1_type_2).text\n",
    "                dictionary_cards['Type'] = driver.find_element(By.CSS_SELECTOR, table_1_type).text + ' ' + table_1_type_2_text\n",
    "\n",
    "            except NoSuchElementException:\n",
    "                dictionary_cards['Type'] = driver.find_element(By.CSS_SELECTOR, table_1_type).text\n",
    "\n",
    "\n",
    "            dictionary_cards['Type'] = driver.find_element(By.CSS_SELECTOR, table_1_type).text\n",
    "            dictionary_cards['Location'] = driver.find_element(By.CSS_SELECTOR, table_1_location).text\n",
    "            dictionary_cards['Link'] = driver.find_element(By.CSS_SELECTOR, table_1_link).get_attribute('href')\n",
    "            \n",
    "            if \"MultipleSellers\" in dictionary_cards['Link']:\n",
    "                dictionary_cards['Broker'] = 'Multiple Sellers'\n",
    "\n",
    "            else:\n",
    "\n",
    "                # not all properties have brokers\n",
    "                try:\n",
    "                    dictionary_cards['Broker'] = driver.find_element(By.CSS_SELECTOR, table_1_broker).get_attribute('alt')\n",
    "                except NoSuchElementException:\n",
    "                    dictionary_cards['Broker'] = 'No Broker'\n",
    "\n",
    "         \n",
    "            list_cards.append(dictionary_cards)\n",
    "            \n",
    "        except NoSuchElementException:\n",
    "            pass\n",
    "\n",
    "        # Table 2 Data (similar logic for table_2)\n",
    "        table_2 = '#listing > table > tbody > tr > td > table > tbody > tr:nth-child(2) > td > div > div:nth-child(2) > table:nth-child(3)'\n",
    "        table_2_title = table_2 + f' > tbody > tr:nth-child({i}) > td > div.dv-classified-row.dv-classified-row-v2 > table > tbody > tr > td:nth-child(2) > table > tbody > tr:nth-child(1) > td > a > div > span'\n",
    "        table_2_rooms = table_2 + f' > tbody > tr:nth-child({i}) > td > div.dv-classified-row.dv-classified-row-v2 > table > tbody > tr > td:nth-child(2) > table > tbody > tr:nth-child(2) > td:nth-child(1) > div:nth-child(1) > span'\n",
    "        table_2_price = table_2 + f' > tbody > tr:nth-child({i}) > td > div.dv-classified-row.dv-classified-row-v2 > table > tbody > tr > td:nth-child(2) > table > tbody > tr:nth-child(2) > td:nth-child(1) > div:nth-child(2) > span:nth-child(2) > font'\n",
    "        table_2_type = table_2 + f' > tbody > tr:nth-child({i}) > td > div.dv-classified-row.dv-classified-row-v2 > table > tbody > tr > td:nth-child(2) > table > tbody > tr:nth-child(2) > td:nth-child(1) > div:nth-child(2) > span:nth-child(4)'\n",
    "        table_2_type_2 = table_2 + f' > tbody > tr:nth-child({i}) > td > div.dv-classified-row.dv-classified-row-v2 > table > tbody > tr > td:nth-child(2) > table > tbody > tr:nth-child(2) > td:nth-child(1) > div:nth-child(2) > span:nth-child(5)'\n",
    "        table_2_location = table_2 + f' > tbody > tr:nth-child({i}) > td > div.dv-classified-row.dv-classified-row-v2 > table > tbody > tr > td:nth-child(2) > table > tbody > tr:nth-child(3) > td'\n",
    "        table_2_link = table_2 + f' > tbody > tr:nth-child({i}) > td > div.dv-classified-row.dv-classified-row-v2 > table > tbody > tr > td:nth-child(2) > table > tbody > tr:nth-child(1) > td > a'\n",
    "        table_2_broker = table_2 + f' > tbody > tr:nth-child({i}) > td > div.dv-classified-row.dv-classified-row-v2 > table > tbody > tr > td:nth-child(2) > table > tbody > tr:nth-child(2) > td:nth-child(2) > center > a > img'\n",
    "        \n",
    "        try:\n",
    "            dictionary_cards_2['Title'] = driver.find_element(By.CSS_SELECTOR, table_2_title).text\n",
    "            dictionary_cards_2['Rooms'] = driver.find_element(By.CSS_SELECTOR, table_2_rooms).text\n",
    "            dictionary_cards_2['Price'] = driver.find_element(By.CSS_SELECTOR, table_2_price).text\n",
    "            \n",
    "            # type validation, since a property can have two types\n",
    "            try:\n",
    "                table_2_type_2_text = driver.find_element(By.CSS_SELECTOR, table_2_type_2).text\n",
    "                dictionary_cards_2['Type'] = driver.find_element(By.CSS_SELECTOR, table_2_type).text + ' ' + table_2_type_2_text\n",
    "            except NoSuchElementException:\n",
    "                dictionary_cards_2['Type'] = driver.find_element(By.CSS_SELECTOR, table_2_type).text\n",
    "            \n",
    "            dictionary_cards_2['Location'] = driver.find_element(By.CSS_SELECTOR, table_2_location).text\n",
    "            dictionary_cards_2['Link'] = driver.find_element(By.CSS_SELECTOR, table_2_link).get_attribute('href')\n",
    "\n",
    "            if \"MultipleSellers\" in dictionary_cards_2['Link']:\n",
    "                dictionary_cards_2['Broker'] = 'Multiple Sellers'\n",
    "\n",
    "            else:\n",
    "                try:\n",
    "                    dictionary_cards_2['Broker'] = driver.find_element(By.CSS_SELECTOR, table_2_broker).get_attribute('alt')\n",
    "                except NoSuchElementException:\n",
    "                    dictionary_cards_2['Broker'] = 'No Broker'\n",
    "    \n",
    "            list_cards.append(dictionary_cards_2)\n",
    "            \n",
    "        except NoSuchElementException:\n",
    "            pass\n",
    "\n",
    "    # Append the current page's data to the main list\n",
    "    all_cards.extend(list_cards)\n",
    "\n",
    "    # Try to click the \"Next\" button\n",
    "    try:\n",
    "        time.sleep(10)\n",
    "        next_page = driver.find_element(By.XPATH, '//*[@id=\"listing\"]/table/tbody/tr/td/table/tbody/tr[2]/td/table[5]/tbody/tr[1]/td[3]/div/a')\n",
    "        next_page.click()\n",
    "        time.sleep(7)  # Add delay to allow page to load\n",
    "        page_number += 1\n",
    "    except NoSuchElementException:\n",
    "        print(\"No more pages available.\")\n",
    "        break\n",
    "\n",
    "# Create a single DataFrame from all collected data\n",
    "df = pd.DataFrame(all_cards)\n",
    "cleaned_df = clean_real_estate_data(df)"
   ]
  },
  {
   "cell_type": "code",
   "execution_count": null,
   "metadata": {},
   "outputs": [],
   "source": [
    "cleaned_df"
   ]
  },
  {
   "cell_type": "code",
   "execution_count": 93,
   "metadata": {},
   "outputs": [],
   "source": [
    "cleaned_df.to_csv(\"classifieds_data.csv\", index=False)"
   ]
  },
  {
   "cell_type": "code",
   "execution_count": null,
   "metadata": {},
   "outputs": [],
   "source": []
  },
  {
   "cell_type": "code",
   "execution_count": null,
   "metadata": {},
   "outputs": [],
   "source": []
  },
  {
   "cell_type": "code",
   "execution_count": null,
   "metadata": {},
   "outputs": [],
   "source": []
  },
  {
   "cell_type": "code",
   "execution_count": null,
   "metadata": {},
   "outputs": [],
   "source": []
  },
  {
   "cell_type": "code",
   "execution_count": 39,
   "metadata": {},
   "outputs": [],
   "source": [
    "data = pd.read_csv('classifieds_data.csv')"
   ]
  },
  {
   "cell_type": "code",
   "execution_count": 40,
   "metadata": {},
   "outputs": [],
   "source": [
    "municipio = pd.read_csv('PR_Municipios')"
   ]
  },
  {
   "cell_type": "code",
   "execution_count": null,
   "metadata": {},
   "outputs": [],
   "source": [
    "municipio"
   ]
  },
  {
   "cell_type": "code",
   "execution_count": null,
   "metadata": {},
   "outputs": [],
   "source": [
    "# Extract the part of the city column before the \"-\" sign\n",
    "#data['city_name'] = data['City'].str.split('-').str[0].str.strip()\n",
    "# Check if the word from the name column in municipio is present in the city column within data\n",
    "data['city_name'] = data['City'].apply(lambda x: next((name for name in municipio['name'] if name in x), None))\n",
    "\n",
    "# Merge the dataframes on the extracted city names and the name column\n",
    "merged_df = pd.merge(data, municipio, left_on='city_name', right_on='name', how='left')\n",
    "\n",
    "# Add the region column to the original data dataframe\n",
    "data['region'] = merged_df['region']\n",
    "\n",
    "# Drop the temporary city_name column\n",
    "data.drop(columns=['city_name'], inplace=True)"
   ]
  },
  {
   "cell_type": "code",
   "execution_count": null,
   "metadata": {},
   "outputs": [],
   "source": [
    "\n",
    "data[data['region'].isna()]"
   ]
  },
  {
   "cell_type": "code",
   "execution_count": null,
   "metadata": {},
   "outputs": [],
   "source": [
    "data['City'][85].split('-')[0]"
   ]
  },
  {
   "cell_type": "code",
   "execution_count": null,
   "metadata": {},
   "outputs": [],
   "source": [
    "data"
   ]
  },
  {
   "cell_type": "code",
   "execution_count": 47,
   "metadata": {},
   "outputs": [],
   "source": [
    "data.to_csv(\"classifieds_data_v2.csv\", index=False)"
   ]
  }
 ],
 "metadata": {
  "kernelspec": {
   "display_name": ".venv",
   "language": "python",
   "name": "python3"
  },
  "language_info": {
   "codemirror_mode": {
    "name": "ipython",
    "version": 3
   },
   "file_extension": ".py",
   "mimetype": "text/x-python",
   "name": "python",
   "nbconvert_exporter": "python",
   "pygments_lexer": "ipython3",
   "version": "3.9.6"
  }
 },
 "nbformat": 4,
 "nbformat_minor": 2
}
