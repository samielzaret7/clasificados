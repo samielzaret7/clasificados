{
 "cells": [
  {
   "cell_type": "code",
   "execution_count": 1,
   "metadata": {},
   "outputs": [],
   "source": [
    "from selenium import webdriver\n",
    "from selenium.webdriver.chrome.options import Options\n",
    "from selenium.webdriver.common.by import By\n",
    "import time\n",
    "import pandas as pd\n",
    "from selenium.common.exceptions import NoSuchElementException"
   ]
  },
  {
   "cell_type": "code",
   "execution_count": 2,
   "metadata": {},
   "outputs": [],
   "source": [
    "pd.set_option('display.max_colwidth', None)"
   ]
  },
  {
   "cell_type": "code",
   "execution_count": 3,
   "metadata": {},
   "outputs": [],
   "source": [
    "options = Options() \n",
    "driver = webdriver.Chrome(options=options)\n",
    "driver.get('https://www.clasificadosonline.com/RealEstate.asp')"
   ]
  },
  {
   "cell_type": "code",
   "execution_count": 4,
   "metadata": {},
   "outputs": [],
   "source": [
    "multi_check_box_toggle = driver.find_element(By.XPATH,'//*[@id=\"form1\"]/div/table[2]/tbody/tr/td/div[1]')"
   ]
  },
  {
   "cell_type": "code",
   "execution_count": 5,
   "metadata": {},
   "outputs": [],
   "source": [
    "select_all = driver.find_element(By.XPATH,'//*[@id=\"form1\"]/div/table[2]/tbody/tr/td/div[2]/div[1]/input')"
   ]
  },
  {
   "cell_type": "code",
   "execution_count": 6,
   "metadata": {},
   "outputs": [],
   "source": [
    "ver_listado = driver.find_element(By.XPATH,'//*[@id=\"BtnSearchListing\"]')"
   ]
  },
  {
   "cell_type": "code",
   "execution_count": 7,
   "metadata": {},
   "outputs": [],
   "source": [
    "multi_check_box_toggle.click()\n",
    "time.sleep(2)\n",
    "select_all.click()\n",
    "time.sleep(2)\n",
    "ver_listado.click()"
   ]
  },
  {
   "cell_type": "code",
   "execution_count": 8,
   "metadata": {},
   "outputs": [],
   "source": [
    "order_by = driver.find_element(By.XPATH,'//*[@id=\"jumpMenu\"]')"
   ]
  },
  {
   "cell_type": "code",
   "execution_count": 9,
   "metadata": {},
   "outputs": [],
   "source": [
    "ultimos_publicados = driver.find_element(By.XPATH,'//*[@id=\"jumpMenu\"]/option[7]')"
   ]
  },
  {
   "cell_type": "code",
   "execution_count": 10,
   "metadata": {},
   "outputs": [],
   "source": [
    "order_by.click()"
   ]
  },
  {
   "cell_type": "code",
   "execution_count": 11,
   "metadata": {},
   "outputs": [],
   "source": [
    "ultimos_publicados.click()"
   ]
  },
  {
   "cell_type": "code",
   "execution_count": 12,
   "metadata": {},
   "outputs": [],
   "source": [
    "list_cards = []\n",
    "\n",
    "for i in range(1,16):\n",
    "    table_1 = '#listing > table > tbody > tr > td > table > tbody > tr:nth-child(2) > td > div > div:nth-child(2) > table:nth-child(1)'\n",
    "    table_1_title = table_1 + f' > tbody > tr:nth-child({i}) > td > div.dv-classified-row.dv-classified-row-v2 > table > tbody > tr > td:nth-child(2) > table > tbody > tr:nth-child(1) > td > a > div > span'\n",
    "    table_1_rooms = table_1 + f' > tbody > tr:nth-child({i}) > td > div.dv-classified-row.dv-classified-row-v2 > table > tbody > tr > td:nth-child(2) > table > tbody > tr:nth-child(2) > td:nth-child(1) > div:nth-child(1) > span'\n",
    "    table_1_price = table_1 + f' > tbody > tr:nth-child({i}) > td > div.dv-classified-row.dv-classified-row-v2 > table > tbody > tr > td:nth-child(2) > table > tbody > tr:nth-child(2) > td:nth-child(1) > div:nth-child(2) > span:nth-child(2) > font'\n",
    "    table_1_type = table_1 + f' > tbody > tr:nth-child({i}) > td > div.dv-classified-row.dv-classified-row-v2 > table > tbody > tr > td:nth-child(2) > table > tbody > tr:nth-child(2) > td:nth-child(1) > div:nth-child(2) > span:nth-child(4)'\n",
    "    table_1_location = table_1 + f' > tbody > tr:nth-child({i}) > td > div.dv-classified-row.dv-classified-row-v2 > table > tbody > tr > td:nth-child(2) > table > tbody > tr:nth-child(3) > td'\n",
    "    table_1_link = table_1 + f' > tbody > tr:nth-child({i}) > td > div.dv-classified-row.dv-classified-row-v2 > table > tbody > tr > td:nth-child(2) > table > tbody > tr:nth-child(1) > td > a'\n",
    "    \n",
    "    table_2 = '#listing > table > tbody > tr > td > table > tbody > tr:nth-child(2) > td > div > div:nth-child(2) > table:nth-child(3)'\n",
    "    table_2_title = table_2 + f' > tbody > tr:nth-child({i}) > td > div.dv-classified-row.dv-classified-row-v2 > table > tbody > tr > td:nth-child(2) > table > tbody > tr:nth-child(1) > td > a > div > span'\n",
    "    table_2_rooms = table_2 + f' > tbody > tr:nth-child({i}) > td > div.dv-classified-row.dv-classified-row-v2 > table > tbody > tr > td:nth-child(2) > table > tbody > tr:nth-child(2) > td:nth-child(1) > div:nth-child(1) > span'\n",
    "    table_2_price = table_2 + f' > tbody > tr:nth-child({i}) > td > div.dv-classified-row.dv-classified-row-v2 > table > tbody > tr > td:nth-child(2) > table > tbody > tr:nth-child(2) > td:nth-child(1) > div:nth-child(2) > span:nth-child(2) > font'\n",
    "    table_2_type = table_2 + f' > tbody > tr:nth-child({i}) > td > div.dv-classified-row.dv-classified-row-v2 > table > tbody > tr > td:nth-child(2) > table > tbody > tr:nth-child(2) > td:nth-child(1) > div:nth-child(2) > span:nth-child(4)'\n",
    "    table_2_location = table_2 + f' > tbody > tr:nth-child({i}) > td > div.dv-classified-row.dv-classified-row-v2 > table > tbody > tr > td:nth-child(2) > table > tbody > tr:nth-child(3) > td'\n",
    "    table_2_link = table_2 + f' > tbody > tr:nth-child({i}) > td > div.dv-classified-row.dv-classified-row-v2 > table > tbody > tr > td:nth-child(2) > table > tbody > tr:nth-child(1) > td > a'\n",
    "    \n",
    "    dictionary_cards = {}\n",
    "    dictionary_cards_2 = {}\n",
    "    try:\n",
    "        table_1_type_2 = table_1 + f' > tbody > tr:nth-child({i}) > td > div.dv-classified-row.dv-classified-row-v2 > table > tbody > tr > td:nth-child(2) > table > tbody > tr:nth-child(2) > td:nth-child(1) > div:nth-child(2) > span:nth-child(5)'\n",
    "        table_1_type_2_text = driver.find_element(By.CSS_SELECTOR, table_1_type_2).text\n",
    "        dictionary_cards['Type'] = driver.find_element(By.CSS_SELECTOR, table_1_type).text + ' ' + table_1_type_2_text\n",
    "        \n",
    "        table_2_type_2 = table_2 + f' > tbody > tr:nth-child({i}) > td > div.dv-classified-row.dv-classified-row-v2 > table > tbody > tr > td:nth-child(2) > table > tbody > tr:nth-child(2) > td:nth-child(1) > div:nth-child(2) > span:nth-child(5)'\n",
    "        table_2_type_2_text = driver.find_element(By.CSS_SELECTOR, table_2_type_2).text\n",
    "        dictionary_cards_2['Type'] = driver.find_element(By.CSS_SELECTOR, table_2_type).text + ' ' + table_2_type_2_text\n",
    "\n",
    "    except NoSuchElementException:\n",
    "        dictionary_cards['Type'] = driver.find_element(By.CSS_SELECTOR, table_1_type).text\n",
    "        dictionary_cards_2['Type'] = driver.find_element(By.CSS_SELECTOR, table_2_type).text\n",
    "    try:\n",
    "        table_1_broker = table_1 + f' > tbody > tr:nth-child({i}) > td > div.dv-classified-row.dv-classified-row-v2 > table > tbody > tr > td:nth-child(2) > table > tbody > tr:nth-child(2) > td:nth-child(2) > center > a > img'\n",
    "        dictionary_cards['Broker'] = driver.find_element(By.CSS_SELECTOR, table_1_broker).get_attribute('alt')\n",
    "\n",
    "        table_2_broker = table_2 + f' > tbody > tr:nth-child({i}) > td > div.dv-classified-row.dv-classified-row-v2 > table > tbody > tr > td:nth-child(2) > table > tbody > tr:nth-child(2) > td:nth-child(2) > center > a > img'\n",
    "        dictionary_cards_2['Broker'] = driver.find_element(By.CSS_SELECTOR, table_2_broker).get_attribute('alt')\n",
    "\n",
    "    except NoSuchElementException:\n",
    "        dictionary_cards['Broker'] = 'No Broker'\n",
    "        dictionary_cards_2['Broker'] = 'No Broker'\n",
    "\n",
    "    dictionary_cards['Title'] = driver.find_element(By.CSS_SELECTOR, table_1_title).text\n",
    "    dictionary_cards['Rooms'] = driver.find_element(By.CSS_SELECTOR, table_1_rooms).text\n",
    "    dictionary_cards['Price'] = driver.find_element(By.CSS_SELECTOR, table_1_price).text\n",
    "    dictionary_cards['Location'] = driver.find_element(By.CSS_SELECTOR, table_1_location).text\n",
    "    dictionary_cards['Link'] = driver.find_element(By.CSS_SELECTOR, table_1_link).get_attribute('href')\n",
    "    list_cards.append(dictionary_cards)\n",
    "\n",
    "    dictionary_cards_2['Title'] = driver.find_element(By.CSS_SELECTOR, table_2_title).text\n",
    "    dictionary_cards_2['Rooms'] = driver.find_element(By.CSS_SELECTOR, table_2_rooms).text\n",
    "    dictionary_cards_2['Price'] = driver.find_element(By.CSS_SELECTOR, table_2_price).text\n",
    "    dictionary_cards_2['Location'] = driver.find_element(By.CSS_SELECTOR, table_2_location).text\n",
    "    dictionary_cards_2['Link'] = driver.find_element(By.CSS_SELECTOR, table_2_link).get_attribute('href')\n",
    "    list_cards.append(dictionary_cards_2)\n"
   ]
  },
  {
   "cell_type": "code",
   "execution_count": 40,
   "metadata": {},
   "outputs": [
    {
     "data": {
      "text/html": [
       "<div>\n",
       "<style scoped>\n",
       "    .dataframe tbody tr th:only-of-type {\n",
       "        vertical-align: middle;\n",
       "    }\n",
       "\n",
       "    .dataframe tbody tr th {\n",
       "        vertical-align: top;\n",
       "    }\n",
       "\n",
       "    .dataframe thead th {\n",
       "        text-align: right;\n",
       "    }\n",
       "</style>\n",
       "<table border=\"1\" class=\"dataframe\">\n",
       "  <thead>\n",
       "    <tr style=\"text-align: right;\">\n",
       "      <th></th>\n",
       "      <th>Type</th>\n",
       "      <th>Broker</th>\n",
       "      <th>Title</th>\n",
       "      <th>Rooms</th>\n",
       "      <th>Price</th>\n",
       "      <th>Location</th>\n",
       "      <th>Link</th>\n",
       "    </tr>\n",
       "  </thead>\n",
       "  <tbody>\n",
       "    <tr>\n",
       "      <th>0</th>\n",
       "      <td>, Solar</td>\n",
       "      <td>ClasificadosOnline Cacao de House Hunt Real Estate #18152</td>\n",
       "      <td>BO. CACAO</td>\n",
       "      <td></td>\n",
       "      <td>$57,999</td>\n",
       "      <td>Barrio-Cacao , Quebradillas</td>\n",
       "      <td>https://www.clasificadosonline.com/UDRealEstateDetail.asp?ID=4767842</td>\n",
       "    </tr>\n",
       "    <tr>\n",
       "      <th>1</th>\n",
       "      <td>, Comercial Repo</td>\n",
       "      <td>ClasificadosOnline Cupey Bajo de SKY REALTY (zona 2)</td>\n",
       "      <td>Comercial * Cupey Bajo * REO</td>\n",
       "      <td></td>\n",
       "      <td>$285,000</td>\n",
       "      <td>Barrio-Cupey Bajo , San Juan - Río Piedras</td>\n",
       "      <td>https://www.clasificadosonline.com/UDRealEstateDetail.asp?ID=4802915</td>\n",
       "    </tr>\n",
       "    <tr>\n",
       "      <th>2</th>\n",
       "      <td>, Casa</td>\n",
       "      <td>ClasificadosOnline Los Altos De Ciudad Jardin de Palma Real Property Group</td>\n",
       "      <td>URB CIUDAD JARDIN-LOS ALTOS-1006 M2</td>\n",
       "      <td>4 Cuartos | 3 Baños</td>\n",
       "      <td>$638,000</td>\n",
       "      <td>Urbanizacion-Los Altos De Ciudad Jardin , Gurabo</td>\n",
       "      <td>https://www.clasificadosonline.com/UDRealEstateDetail.asp?ID=4816780</td>\n",
       "    </tr>\n",
       "    <tr>\n",
       "      <th>3</th>\n",
       "      <td>, Solar</td>\n",
       "      <td>ClasificadosOnline Marin de Dream Properties LLC</td>\n",
       "      <td>Terreno de 20 cuerdas frente al Lago ...</td>\n",
       "      <td></td>\n",
       "      <td>$175,000</td>\n",
       "      <td>Barrio-Marin , Patillas</td>\n",
       "      <td>https://www.clasificadosonline.com/UDRealEstateDetail.asp?ID=4817751</td>\n",
       "    </tr>\n",
       "    <tr>\n",
       "      <th>4</th>\n",
       "      <td>, Casa</td>\n",
       "      <td>ClasificadosOnline Sonadora de RepoExperts</td>\n",
       "      <td>SONADORA , AGUAS BUENAS MANSION</td>\n",
       "      <td>&gt;=6 Cuartos | 5 Baños</td>\n",
       "      <td>$1,150,000</td>\n",
       "      <td>Barrio-Sonadora , Aguas Buenas</td>\n",
       "      <td>https://www.clasificadosonline.com/UDRealEstateDetail.asp?ID=4769002</td>\n",
       "    </tr>\n",
       "    <tr>\n",
       "      <th>5</th>\n",
       "      <td>, Casa</td>\n",
       "      <td>ClasificadosOnline Estancias Reales de Arrieta Realty Group</td>\n",
       "      <td>Urb. Estancias Reales Guaynabo</td>\n",
       "      <td>4 Cuartos | 2 Baños</td>\n",
       "      <td>$1,095,000</td>\n",
       "      <td>Urbanizacion-Estancias Reales , Guaynabo</td>\n",
       "      <td>https://www.clasificadosonline.com/UDRealEstateDetail.asp?ID=4814485</td>\n",
       "    </tr>\n",
       "    <tr>\n",
       "      <th>6</th>\n",
       "      <td>, Apartamento</td>\n",
       "      <td>ClasificadosOnline La Costa de Edgar Molinary</td>\n",
       "      <td>LA COSTA GARDEN APARTMENTS</td>\n",
       "      <td>3 Cuartos | 2 Baños</td>\n",
       "      <td>$187,000</td>\n",
       "      <td>Condominio-La Costa , Fajardo</td>\n",
       "      <td>https://www.clasificadosonline.com/UDRealEstateDetail.asp?ID=4805732</td>\n",
       "    </tr>\n",
       "    <tr>\n",
       "      <th>7</th>\n",
       "      <td>, Apartamento</td>\n",
       "      <td>ClasificadosOnline Balcones De San Juan de 1RUIZ REALTY GROUP</td>\n",
       "      <td>BELLA VISTA APT 3 H Y 2 B 2  PISCINA</td>\n",
       "      <td>3 Cuartos | 2 Baños</td>\n",
       "      <td>$194,500</td>\n",
       "      <td>Condominio-Balcones De San Juan , San Juan - Río Piedras</td>\n",
       "      <td>https://www.clasificadosonline.com/UDRealEstateDetail.asp?ID=4815230</td>\n",
       "    </tr>\n",
       "    <tr>\n",
       "      <th>8</th>\n",
       "      <td>, Casa</td>\n",
       "      <td>ClasificadosOnline Royal Town de Dream Realty</td>\n",
       "      <td>PROPIEDAD (multi-uso)</td>\n",
       "      <td>&gt;=6 Cuartos | 3 Baños</td>\n",
       "      <td>$975,000</td>\n",
       "      <td>Urbanizacion-Royal Town , Bayamón</td>\n",
       "      <td>https://www.clasificadosonline.com/UDRealEstateDetail.asp?ID=4645731</td>\n",
       "    </tr>\n",
       "    <tr>\n",
       "      <th>9</th>\n",
       "      <td>, Casa</td>\n",
       "      <td>ClasificadosOnline Llanos Costa de Unlimited Realty Group</td>\n",
       "      <td>Llanos Costa</td>\n",
       "      <td>3 Cuartos | 2 Baños</td>\n",
       "      <td>$245,000</td>\n",
       "      <td>Barrio-Llanos Costa , Cabo Rojo</td>\n",
       "      <td>https://www.clasificadosonline.com/UDRealEstateDetail.asp?ID=4814244</td>\n",
       "    </tr>\n",
       "    <tr>\n",
       "      <th>10</th>\n",
       "      <td>, Finca</td>\n",
       "      <td>ClasificadosOnline Buena Vista de Imperial Real Estate Broker</td>\n",
       "      <td>Terreno Humacao 5,612.53M/C</td>\n",
       "      <td></td>\n",
       "      <td>$69,000</td>\n",
       "      <td>Barrio-Buena Vista , Humacao</td>\n",
       "      <td>https://www.clasificadosonline.com/UDRealEstateDetail.asp?ID=4771115</td>\n",
       "    </tr>\n",
       "    <tr>\n",
       "      <th>11</th>\n",
       "      <td>, Casa</td>\n",
       "      <td>ClasificadosOnline Alturas De Bucarabones de TU CASA PR</td>\n",
       "      <td>Urb Alturas de Bucarrabones! Excelent...</td>\n",
       "      <td>3 Cuartos | 1 Baños</td>\n",
       "      <td>$159,900</td>\n",
       "      <td>Urbanizacion-Alturas De Bucarabones , Toa Alta</td>\n",
       "      <td>https://www.clasificadosonline.com/UDRealEstateDetail.asp?ID=4811148</td>\n",
       "    </tr>\n",
       "    <tr>\n",
       "      <th>12</th>\n",
       "      <td>, Comercial</td>\n",
       "      <td>ClasificadosOnline Puerta De Tierra de ARK Real Estate</td>\n",
       "      <td>OPORTUNIDAD ÚNICA-PUERTA DE TIERRA</td>\n",
       "      <td>&gt;=6 Cuartos | 4 Baños</td>\n",
       "      <td>$575,000</td>\n",
       "      <td>Sector-Puerta De Tierra , San Juan - Viejo SJ</td>\n",
       "      <td>https://www.clasificadosonline.com/UDRealEstateDetail.asp?ID=4819307</td>\n",
       "    </tr>\n",
       "    <tr>\n",
       "      <th>13</th>\n",
       "      <td>, Comercial</td>\n",
       "      <td>ClasificadosOnline La Gloria de Del Valle Realty</td>\n",
       "      <td>Hogar Envejecie Trujillo Alto, Bo. La...</td>\n",
       "      <td>5 Cuartos | 4 Baños</td>\n",
       "      <td>$350,000</td>\n",
       "      <td>Barrio-La Gloria , Trujillo Alto</td>\n",
       "      <td>https://www.clasificadosonline.com/UDRealEstateDetail.asp?ID=4810105</td>\n",
       "    </tr>\n",
       "    <tr>\n",
       "      <th>14</th>\n",
       "      <td>, Apartamento</td>\n",
       "      <td>ClasificadosOnline Aquablue de Elite Realty LLC</td>\n",
       "      <td>Cond. Aquablue - Stunning Garden Unit</td>\n",
       "      <td>2 Cuartos | 2 Baños</td>\n",
       "      <td>$895,000</td>\n",
       "      <td>Condominio-Aquablue , San Juan - Hato Rey</td>\n",
       "      <td>https://www.clasificadosonline.com/UDRealEstateDetail.asp?ID=4817217</td>\n",
       "    </tr>\n",
       "    <tr>\n",
       "      <th>15</th>\n",
       "      <td>, Casa</td>\n",
       "      <td>ClasificadosOnline Quemado de West Connection Realty</td>\n",
       "      <td>BO QUEMADO MAYAGUEZ</td>\n",
       "      <td>4 Cuartos | 2 Baños</td>\n",
       "      <td>$320,000</td>\n",
       "      <td>Barrio-Quemado , Mayagüez</td>\n",
       "      <td>https://www.clasificadosonline.com/UDRealEstateDetail.asp?ID=4814280</td>\n",
       "    </tr>\n",
       "    <tr>\n",
       "      <th>16</th>\n",
       "      <td>, Casa</td>\n",
       "      <td>ClasificadosOnline Mirsonia de AIRE</td>\n",
       "      <td>Condado Residence - Casa Mirsonia</td>\n",
       "      <td>&gt;=6 Cuartos | 3 Baños</td>\n",
       "      <td>$3,750,000</td>\n",
       "      <td>Condominio-Mirsonia , San Juan - Santurce</td>\n",
       "      <td>https://www.clasificadosonline.com/UDRealEstateDetail.asp?ID=4818733</td>\n",
       "    </tr>\n",
       "    <tr>\n",
       "      <th>17</th>\n",
       "      <td>, Apartamento</td>\n",
       "      <td>ClasificadosOnline El Jardin de BLACKTIE</td>\n",
       "      <td>Cond.El jardin</td>\n",
       "      <td>4 Cuartos | 2 Baños</td>\n",
       "      <td>$450,000</td>\n",
       "      <td>Condominio-El Jardin , Guaynabo</td>\n",
       "      <td>https://www.clasificadosonline.com/UDRealEstateDetail.asp?ID=4802816</td>\n",
       "    </tr>\n",
       "    <tr>\n",
       "      <th>18</th>\n",
       "      <td>, MultiFamiliar</td>\n",
       "      <td>ClasificadosOnline Miramar de Ivelisse Arroyo Realty</td>\n",
       "      <td>Lote para inversión frente a La Lagun...</td>\n",
       "      <td></td>\n",
       "      <td>$4,900,000</td>\n",
       "      <td>Sector-Miramar , San Juan - Condado-Miramar</td>\n",
       "      <td>https://www.clasificadosonline.com/UDRealEstateDetail.asp?ID=4748224</td>\n",
       "    </tr>\n",
       "    <tr>\n",
       "      <th>19</th>\n",
       "      <td>, Comercial</td>\n",
       "      <td>ClasificadosOnline Gonzalez Seijo de REALITY REALTY - Comercial</td>\n",
       "      <td>LOCAL COMERCIAL, AVE DE DIEGO, RIO PI...</td>\n",
       "      <td></td>\n",
       "      <td>$175,000</td>\n",
       "      <td>Urbanizacion-Gonzalez Seijo , San Juan - Río Piedras</td>\n",
       "      <td>https://www.clasificadosonline.com/UDRealEstateDetail.asp?ID=4801341</td>\n",
       "    </tr>\n",
       "    <tr>\n",
       "      <th>20</th>\n",
       "      <td>, Apt/WalkUp</td>\n",
       "      <td>ClasificadosOnline Montecillo Court,  Encantada de Lojo Real Estate</td>\n",
       "      <td>MONTECILLO COURT- SOLO 5 ESCALONES!</td>\n",
       "      <td>2 Cuartos | 2 Baños</td>\n",
       "      <td>$219,000</td>\n",
       "      <td>Condominio-Montecillo Court, Encantada , Trujillo Alto</td>\n",
       "      <td>https://www.clasificadosonline.com/UDRealEstateDetail.asp?ID=4820740</td>\n",
       "    </tr>\n",
       "    <tr>\n",
       "      <th>21</th>\n",
       "      <td>, Casa</td>\n",
       "      <td>ClasificadosOnline Collores de ReiRodRealty</td>\n",
       "      <td>Bo. Collores Humacao $250K, 4C, 2.5B,...</td>\n",
       "      <td>4 Cuartos | 2 Baños</td>\n",
       "      <td>$249,000</td>\n",
       "      <td>Barrio-Collores , Humacao</td>\n",
       "      <td>https://www.clasificadosonline.com/UDRealEstateDetail.asp?ID=4808870</td>\n",
       "    </tr>\n",
       "    <tr>\n",
       "      <th>22</th>\n",
       "      <td>, Solar</td>\n",
       "      <td>ClasificadosOnline Guavate de Real Home of America</td>\n",
       "      <td>Bo. Guavate</td>\n",
       "      <td></td>\n",
       "      <td>$100,000</td>\n",
       "      <td>Barrio-Guavate , Cayey</td>\n",
       "      <td>https://www.clasificadosonline.com/UDRealEstateDetail.asp?ID=4802938</td>\n",
       "    </tr>\n",
       "    <tr>\n",
       "      <th>23</th>\n",
       "      <td>, Casa</td>\n",
       "      <td>ClasificadosOnline Levittown de Lojo Real Estate</td>\n",
       "      <td>MULTIFAMILIAR Levittown, Genera $2600</td>\n",
       "      <td>&gt;= 6 Cuartos | 4 Baños</td>\n",
       "      <td>$254,000</td>\n",
       "      <td>Urbanizacion-Levittown , Toa Baja - Levittown</td>\n",
       "      <td>https://www.clasificadosonline.com/UDRealEstateDetail.asp?ID=4820838</td>\n",
       "    </tr>\n",
       "    <tr>\n",
       "      <th>24</th>\n",
       "      <td>, Finca</td>\n",
       "      <td>ClasificadosOnline Caonillas de Cristy Real Estate</td>\n",
       "      <td>Preciosa Finca Bo. Caonillas, Villalb...</td>\n",
       "      <td></td>\n",
       "      <td>$500,000</td>\n",
       "      <td>Barrio-Caonillas , Villalba</td>\n",
       "      <td>https://www.clasificadosonline.com/UDRealEstateDetail.asp?ID=4258844</td>\n",
       "    </tr>\n",
       "    <tr>\n",
       "      <th>25</th>\n",
       "      <td>, Comercial</td>\n",
       "      <td>ClasificadosOnline Viejo San Juan -Zona Historica de Christiansen Commercial</td>\n",
       "      <td>Mixed-Use Commercial Bldg. in Old San...</td>\n",
       "      <td></td>\n",
       "      <td>$4,500,000</td>\n",
       "      <td>Barrio-Viejo San Juan -Zona Historica , San Juan - Viejo SJ</td>\n",
       "      <td>https://www.clasificadosonline.com/UDRealEstateDetail.asp?ID=4698704</td>\n",
       "    </tr>\n",
       "    <tr>\n",
       "      <th>26</th>\n",
       "      <td>, Apartamento</td>\n",
       "      <td>ClasificadosOnline Oceania de R RUIZ REAL ESTATE</td>\n",
       "      <td>VISTA AL MAR 3 H Y 2 B 2 PARKING NO E...</td>\n",
       "      <td>3 Cuartos | 2 Baños</td>\n",
       "      <td>$279,000</td>\n",
       "      <td>Condominio-Oceania , Arecibo</td>\n",
       "      <td>https://www.clasificadosonline.com/UDRealEstateDetail.asp?ID=4817827</td>\n",
       "    </tr>\n",
       "    <tr>\n",
       "      <th>27</th>\n",
       "      <td>, Casa</td>\n",
       "      <td>ClasificadosOnline Alturas De Bucarabones de House Hunt Real Estate #18152</td>\n",
       "      <td>URB. ALTURAS DE BUCARABONES</td>\n",
       "      <td>3 Cuartos | 2 Baños</td>\n",
       "      <td>$120,000</td>\n",
       "      <td>Urbanizacion-Alturas De Bucarabones , Toa Alta</td>\n",
       "      <td>https://www.clasificadosonline.com/UDRealEstateDetail.asp?ID=4819030</td>\n",
       "    </tr>\n",
       "    <tr>\n",
       "      <th>28</th>\n",
       "      <td>, Solar</td>\n",
       "      <td>ClasificadosOnline Chupacallos de sevendetucasa.com</td>\n",
       "      <td>Vistas de Ceiba! 4.5 - 7 cuerda Vista...</td>\n",
       "      <td></td>\n",
       "      <td>$225,000</td>\n",
       "      <td>Barrio-Chupacallos , Ceiba</td>\n",
       "      <td>https://www.clasificadosonline.com/UDRealEstateDetail.asp?ID=4819872</td>\n",
       "    </tr>\n",
       "    <tr>\n",
       "      <th>29</th>\n",
       "      <td>, Casa</td>\n",
       "      <td>ClasificadosOnline Lomas De Campo Alegre de RepoExperts</td>\n",
       "      <td>URB LOMAS DE CAMPO ALEGRE MULTIFAMILI...</td>\n",
       "      <td>&gt;=6 Cuartos | 4 Baños</td>\n",
       "      <td>$375,000</td>\n",
       "      <td>Urbanizacion-Lomas De Campo Alegre , Humacao</td>\n",
       "      <td>https://www.clasificadosonline.com/UDRealEstateDetail.asp?ID=4793953</td>\n",
       "    </tr>\n",
       "  </tbody>\n",
       "</table>\n",
       "</div>"
      ],
      "text/plain": [
       "                Type  \\\n",
       "0           , Solar    \n",
       "1   , Comercial Repo   \n",
       "2            , Casa    \n",
       "3           , Solar    \n",
       "4            , Casa    \n",
       "5            , Casa    \n",
       "6     , Apartamento    \n",
       "7     , Apartamento    \n",
       "8            , Casa    \n",
       "9            , Casa    \n",
       "10          , Finca    \n",
       "11           , Casa    \n",
       "12      , Comercial    \n",
       "13      , Comercial    \n",
       "14    , Apartamento    \n",
       "15           , Casa    \n",
       "16           , Casa    \n",
       "17    , Apartamento    \n",
       "18  , MultiFamiliar    \n",
       "19      , Comercial    \n",
       "20     , Apt/WalkUp    \n",
       "21           , Casa    \n",
       "22          , Solar    \n",
       "23           , Casa    \n",
       "24          , Finca    \n",
       "25      , Comercial    \n",
       "26    , Apartamento    \n",
       "27           , Casa    \n",
       "28          , Solar    \n",
       "29           , Casa    \n",
       "\n",
       "                                                                          Broker  \\\n",
       "0                      ClasificadosOnline Cacao de House Hunt Real Estate #18152   \n",
       "1                           ClasificadosOnline Cupey Bajo de SKY REALTY (zona 2)   \n",
       "2     ClasificadosOnline Los Altos De Ciudad Jardin de Palma Real Property Group   \n",
       "3                               ClasificadosOnline Marin de Dream Properties LLC   \n",
       "4                                     ClasificadosOnline Sonadora de RepoExperts   \n",
       "5                    ClasificadosOnline Estancias Reales de Arrieta Realty Group   \n",
       "6                                  ClasificadosOnline La Costa de Edgar Molinary   \n",
       "7                 ClasificadosOnline Balcones De San Juan de 1RUIZ REALTY GROUP    \n",
       "8                                  ClasificadosOnline Royal Town de Dream Realty   \n",
       "9                      ClasificadosOnline Llanos Costa de Unlimited Realty Group   \n",
       "10                 ClasificadosOnline Buena Vista de Imperial Real Estate Broker   \n",
       "11                       ClasificadosOnline Alturas De Bucarabones de TU CASA PR   \n",
       "12                        ClasificadosOnline Puerta De Tierra de ARK Real Estate   \n",
       "13                              ClasificadosOnline La Gloria de Del Valle Realty   \n",
       "14                               ClasificadosOnline Aquablue de Elite Realty LLC   \n",
       "15                          ClasificadosOnline Quemado de West Connection Realty   \n",
       "16                                           ClasificadosOnline Mirsonia de AIRE   \n",
       "17                                      ClasificadosOnline El Jardin de BLACKTIE   \n",
       "18                          ClasificadosOnline Miramar de Ivelisse Arroyo Realty   \n",
       "19               ClasificadosOnline Gonzalez Seijo de REALITY REALTY - Comercial   \n",
       "20           ClasificadosOnline Montecillo Court,  Encantada de Lojo Real Estate   \n",
       "21                                   ClasificadosOnline Collores de ReiRodRealty   \n",
       "22                            ClasificadosOnline Guavate de Real Home of America   \n",
       "23                              ClasificadosOnline Levittown de Lojo Real Estate   \n",
       "24                            ClasificadosOnline Caonillas de Cristy Real Estate   \n",
       "25  ClasificadosOnline Viejo San Juan -Zona Historica de Christiansen Commercial   \n",
       "26                              ClasificadosOnline Oceania de R RUIZ REAL ESTATE   \n",
       "27    ClasificadosOnline Alturas De Bucarabones de House Hunt Real Estate #18152   \n",
       "28                           ClasificadosOnline Chupacallos de sevendetucasa.com   \n",
       "29                       ClasificadosOnline Lomas De Campo Alegre de RepoExperts   \n",
       "\n",
       "                                       Title                   Rooms  \\\n",
       "0                                  BO. CACAO                           \n",
       "1               Comercial * Cupey Bajo * REO                           \n",
       "2        URB CIUDAD JARDIN-LOS ALTOS-1006 M2     4 Cuartos | 3 Baños   \n",
       "3   Terreno de 20 cuerdas frente al Lago ...                           \n",
       "4            SONADORA , AGUAS BUENAS MANSION   >=6 Cuartos | 5 Baños   \n",
       "5             Urb. Estancias Reales Guaynabo     4 Cuartos | 2 Baños   \n",
       "6                 LA COSTA GARDEN APARTMENTS     3 Cuartos | 2 Baños   \n",
       "7      BELLA VISTA APT 3 H Y 2 B 2  PISCINA      3 Cuartos | 2 Baños   \n",
       "8                      PROPIEDAD (multi-uso)   >=6 Cuartos | 3 Baños   \n",
       "9                               Llanos Costa     3 Cuartos | 2 Baños   \n",
       "10               Terreno Humacao 5,612.53M/C                           \n",
       "11  Urb Alturas de Bucarrabones! Excelent...     3 Cuartos | 1 Baños   \n",
       "12        OPORTUNIDAD ÚNICA-PUERTA DE TIERRA   >=6 Cuartos | 4 Baños   \n",
       "13  Hogar Envejecie Trujillo Alto, Bo. La...     5 Cuartos | 4 Baños   \n",
       "14    Cond. Aquablue - Stunning Garden Unit      2 Cuartos | 2 Baños   \n",
       "15                       BO QUEMADO MAYAGUEZ     4 Cuartos | 2 Baños   \n",
       "16         Condado Residence - Casa Mirsonia   >=6 Cuartos | 3 Baños   \n",
       "17                            Cond.El jardin     4 Cuartos | 2 Baños   \n",
       "18  Lote para inversión frente a La Lagun...                           \n",
       "19  LOCAL COMERCIAL, AVE DE DIEGO, RIO PI...                           \n",
       "20       MONTECILLO COURT- SOLO 5 ESCALONES!     2 Cuartos | 2 Baños   \n",
       "21  Bo. Collores Humacao $250K, 4C, 2.5B,...     4 Cuartos | 2 Baños   \n",
       "22                               Bo. Guavate                           \n",
       "23     MULTIFAMILIAR Levittown, Genera $2600  >= 6 Cuartos | 4 Baños   \n",
       "24  Preciosa Finca Bo. Caonillas, Villalb...                           \n",
       "25  Mixed-Use Commercial Bldg. in Old San...                           \n",
       "26  VISTA AL MAR 3 H Y 2 B 2 PARKING NO E...     3 Cuartos | 2 Baños   \n",
       "27               URB. ALTURAS DE BUCARABONES     3 Cuartos | 2 Baños   \n",
       "28  Vistas de Ceiba! 4.5 - 7 cuerda Vista...                           \n",
       "29  URB LOMAS DE CAMPO ALEGRE MULTIFAMILI...   >=6 Cuartos | 4 Baños   \n",
       "\n",
       "         Price                                                     Location  \\\n",
       "0      $57,999                                  Barrio-Cacao , Quebradillas   \n",
       "1     $285,000                   Barrio-Cupey Bajo , San Juan - Río Piedras   \n",
       "2     $638,000             Urbanizacion-Los Altos De Ciudad Jardin , Gurabo   \n",
       "3     $175,000                                      Barrio-Marin , Patillas   \n",
       "4   $1,150,000                               Barrio-Sonadora , Aguas Buenas   \n",
       "5   $1,095,000                     Urbanizacion-Estancias Reales , Guaynabo   \n",
       "6     $187,000                                Condominio-La Costa , Fajardo   \n",
       "7     $194,500     Condominio-Balcones De San Juan , San Juan - Río Piedras   \n",
       "8     $975,000                            Urbanizacion-Royal Town , Bayamón   \n",
       "9     $245,000                              Barrio-Llanos Costa , Cabo Rojo   \n",
       "10     $69,000                                 Barrio-Buena Vista , Humacao   \n",
       "11    $159,900               Urbanizacion-Alturas De Bucarabones , Toa Alta   \n",
       "12    $575,000                Sector-Puerta De Tierra , San Juan - Viejo SJ   \n",
       "13    $350,000                             Barrio-La Gloria , Trujillo Alto   \n",
       "14    $895,000                    Condominio-Aquablue , San Juan - Hato Rey   \n",
       "15    $320,000                                    Barrio-Quemado , Mayagüez   \n",
       "16  $3,750,000                    Condominio-Mirsonia , San Juan - Santurce   \n",
       "17    $450,000                              Condominio-El Jardin , Guaynabo   \n",
       "18  $4,900,000                  Sector-Miramar , San Juan - Condado-Miramar   \n",
       "19    $175,000         Urbanizacion-Gonzalez Seijo , San Juan - Río Piedras   \n",
       "20    $219,000       Condominio-Montecillo Court, Encantada , Trujillo Alto   \n",
       "21    $249,000                                    Barrio-Collores , Humacao   \n",
       "22    $100,000                                       Barrio-Guavate , Cayey   \n",
       "23    $254,000                Urbanizacion-Levittown , Toa Baja - Levittown   \n",
       "24    $500,000                                  Barrio-Caonillas , Villalba   \n",
       "25  $4,500,000  Barrio-Viejo San Juan -Zona Historica , San Juan - Viejo SJ   \n",
       "26    $279,000                                 Condominio-Oceania , Arecibo   \n",
       "27    $120,000               Urbanizacion-Alturas De Bucarabones , Toa Alta   \n",
       "28    $225,000                                   Barrio-Chupacallos , Ceiba   \n",
       "29    $375,000                 Urbanizacion-Lomas De Campo Alegre , Humacao   \n",
       "\n",
       "                                                                    Link  \n",
       "0   https://www.clasificadosonline.com/UDRealEstateDetail.asp?ID=4767842  \n",
       "1   https://www.clasificadosonline.com/UDRealEstateDetail.asp?ID=4802915  \n",
       "2   https://www.clasificadosonline.com/UDRealEstateDetail.asp?ID=4816780  \n",
       "3   https://www.clasificadosonline.com/UDRealEstateDetail.asp?ID=4817751  \n",
       "4   https://www.clasificadosonline.com/UDRealEstateDetail.asp?ID=4769002  \n",
       "5   https://www.clasificadosonline.com/UDRealEstateDetail.asp?ID=4814485  \n",
       "6   https://www.clasificadosonline.com/UDRealEstateDetail.asp?ID=4805732  \n",
       "7   https://www.clasificadosonline.com/UDRealEstateDetail.asp?ID=4815230  \n",
       "8   https://www.clasificadosonline.com/UDRealEstateDetail.asp?ID=4645731  \n",
       "9   https://www.clasificadosonline.com/UDRealEstateDetail.asp?ID=4814244  \n",
       "10  https://www.clasificadosonline.com/UDRealEstateDetail.asp?ID=4771115  \n",
       "11  https://www.clasificadosonline.com/UDRealEstateDetail.asp?ID=4811148  \n",
       "12  https://www.clasificadosonline.com/UDRealEstateDetail.asp?ID=4819307  \n",
       "13  https://www.clasificadosonline.com/UDRealEstateDetail.asp?ID=4810105  \n",
       "14  https://www.clasificadosonline.com/UDRealEstateDetail.asp?ID=4817217  \n",
       "15  https://www.clasificadosonline.com/UDRealEstateDetail.asp?ID=4814280  \n",
       "16  https://www.clasificadosonline.com/UDRealEstateDetail.asp?ID=4818733  \n",
       "17  https://www.clasificadosonline.com/UDRealEstateDetail.asp?ID=4802816  \n",
       "18  https://www.clasificadosonline.com/UDRealEstateDetail.asp?ID=4748224  \n",
       "19  https://www.clasificadosonline.com/UDRealEstateDetail.asp?ID=4801341  \n",
       "20  https://www.clasificadosonline.com/UDRealEstateDetail.asp?ID=4820740  \n",
       "21  https://www.clasificadosonline.com/UDRealEstateDetail.asp?ID=4808870  \n",
       "22  https://www.clasificadosonline.com/UDRealEstateDetail.asp?ID=4802938  \n",
       "23  https://www.clasificadosonline.com/UDRealEstateDetail.asp?ID=4820838  \n",
       "24  https://www.clasificadosonline.com/UDRealEstateDetail.asp?ID=4258844  \n",
       "25  https://www.clasificadosonline.com/UDRealEstateDetail.asp?ID=4698704  \n",
       "26  https://www.clasificadosonline.com/UDRealEstateDetail.asp?ID=4817827  \n",
       "27  https://www.clasificadosonline.com/UDRealEstateDetail.asp?ID=4819030  \n",
       "28  https://www.clasificadosonline.com/UDRealEstateDetail.asp?ID=4819872  \n",
       "29  https://www.clasificadosonline.com/UDRealEstateDetail.asp?ID=4793953  "
      ]
     },
     "execution_count": 40,
     "metadata": {},
     "output_type": "execute_result"
    }
   ],
   "source": [
    "list_cards\n",
    "df = pd.json_normalize(list_cards)\n",
    "df"
   ]
  },
  {
   "cell_type": "code",
   "execution_count": 14,
   "metadata": {},
   "outputs": [],
   "source": [
    "last_modified = driver.execute_script(\"return document.lastModified;\")"
   ]
  },
  {
   "cell_type": "code",
   "execution_count": 15,
   "metadata": {},
   "outputs": [
    {
     "data": {
      "text/plain": [
       "'08/28/2024 21:32:27'"
      ]
     },
     "execution_count": 15,
     "metadata": {},
     "output_type": "execute_result"
    }
   ],
   "source": [
    "last_modified"
   ]
  },
  {
   "cell_type": "code",
   "execution_count": 16,
   "metadata": {},
   "outputs": [
    {
     "name": "stdout",
     "output_type": "stream",
     "text": [
      "Last modified (from HTTP header): None\n"
     ]
    }
   ],
   "source": [
    "import requests\n",
    "\n",
    "# Send a GET request to the webpage\n",
    "response = requests.get(\"https://www.clasificadosonline.com/UDRealEstateDetail.asp?ID=4774562\")  # Replace this URL with the URL of your webpage\n",
    "\n",
    "# Check the Last-Modified header in the response\n",
    "last_modified_header = response.headers.get(\"Last-Modified\")\n",
    "\n",
    "# Print the Last-Modified header\n",
    "print(\"Last modified (from HTTP header):\", last_modified_header)"
   ]
  },
  {
   "cell_type": "code",
   "execution_count": null,
   "metadata": {},
   "outputs": [],
   "source": [
    "import re\n",
    "import pandas as pd\n",
    "\n",
    "def clean_real_estate_data(df):\n",
    "    # Clean the 'Type' column by removing leading commas and whitespace\n",
    "    df['Type'] = df['Type'].str.replace(r'^,\\s*', '', regex=True)\n",
    "\n",
    "    # Clean the 'Broker' column using the combined logic\n",
    "    def clean_broker(broker_name):\n",
    "        try:\n",
    "            # Remove any text starting with \" - \" followed by anything after it\n",
    "            broker_name = re.sub(r'\\s*-\\s*.*$', '', broker_name)\n",
    "            \n",
    "            # Remove any text starting with \"#\" followed by digits\n",
    "            broker_name = re.sub(r'\\s*#\\d+', '', broker_name)\n",
    "            \n",
    "            # Remove any text starting with \"lic.\" followed by digits\n",
    "            broker_name = re.sub(r'\\s*lic\\.\\s*\\d+', '', broker_name)\n",
    "            \n",
    "        except Exception as e:\n",
    "            print(f\"An error occurred: {e}\")\n",
    "\n",
    "        # Return the cleaned broker name\n",
    "        return broker_name.strip()\n",
    "    \n",
    "    # Apply the clean_broker function to the 'Broker' column\n",
    "    df['Broker'] = df['Broker'].apply(clean_broker)\n",
    "\n",
    "    # Drop the 'Title' column if needed\n",
    "    # df.drop(columns=['Title'], inplace=True)\n",
    "\n",
    "    # Extract the number of bedrooms and bathrooms from the 'Rooms' column\n",
    "    df[['Bedrooms', 'Bathrooms']] = df['Rooms'].str.extract(r'(\\d+)\\s+Cuartos.*\\|\\s*(\\d+)\\s+Baños', expand=True)\n",
    "    df[['Bedrooms', 'Bathrooms']] = df[['Bedrooms', 'Bathrooms']].fillna(0)\n",
    "\n",
    "    # Split the 'Location' column by commas\n",
    "    split_location = df['Location'].str.split\n"
   ]
  },
  {
   "cell_type": "code",
   "execution_count": 41,
   "metadata": {},
   "outputs": [],
   "source": [
    "cleaned_df = clean_real_estate_data(df)"
   ]
  },
  {
   "cell_type": "code",
   "execution_count": 42,
   "metadata": {},
   "outputs": [
    {
     "data": {
      "text/html": [
       "<div>\n",
       "<style scoped>\n",
       "    .dataframe tbody tr th:only-of-type {\n",
       "        vertical-align: middle;\n",
       "    }\n",
       "\n",
       "    .dataframe tbody tr th {\n",
       "        vertical-align: top;\n",
       "    }\n",
       "\n",
       "    .dataframe thead th {\n",
       "        text-align: right;\n",
       "    }\n",
       "</style>\n",
       "<table border=\"1\" class=\"dataframe\">\n",
       "  <thead>\n",
       "    <tr style=\"text-align: right;\">\n",
       "      <th></th>\n",
       "      <th>Type</th>\n",
       "      <th>Broker</th>\n",
       "      <th>Title</th>\n",
       "      <th>Rooms</th>\n",
       "      <th>Price</th>\n",
       "      <th>Location</th>\n",
       "      <th>Link</th>\n",
       "      <th>Bedrooms</th>\n",
       "      <th>Bathrooms</th>\n",
       "      <th>Neighborhood</th>\n",
       "      <th>City</th>\n",
       "    </tr>\n",
       "  </thead>\n",
       "  <tbody>\n",
       "    <tr>\n",
       "      <th>0</th>\n",
       "      <td>Solar</td>\n",
       "      <td>House Hunt Real Estate #18152</td>\n",
       "      <td>BO. CACAO</td>\n",
       "      <td></td>\n",
       "      <td>$57,999</td>\n",
       "      <td>Barrio-Cacao , Quebradillas</td>\n",
       "      <td>https://www.clasificadosonline.com/UDRealEstateDetail.asp?ID=4767842</td>\n",
       "      <td>0</td>\n",
       "      <td>0</td>\n",
       "      <td>Barrio-Cacao</td>\n",
       "      <td>Quebradillas</td>\n",
       "    </tr>\n",
       "    <tr>\n",
       "      <th>1</th>\n",
       "      <td>Comercial Repo</td>\n",
       "      <td>SKY REALTY (zona 2)</td>\n",
       "      <td>Comercial * Cupey Bajo * REO</td>\n",
       "      <td></td>\n",
       "      <td>$285,000</td>\n",
       "      <td>Barrio-Cupey Bajo , San Juan - Río Piedras</td>\n",
       "      <td>https://www.clasificadosonline.com/UDRealEstateDetail.asp?ID=4802915</td>\n",
       "      <td>0</td>\n",
       "      <td>0</td>\n",
       "      <td>Barrio-Cupey Bajo</td>\n",
       "      <td>San Juan - Río Piedras</td>\n",
       "    </tr>\n",
       "    <tr>\n",
       "      <th>2</th>\n",
       "      <td>Casa</td>\n",
       "      <td>Palma Real Property Group</td>\n",
       "      <td>URB CIUDAD JARDIN-LOS ALTOS-1006 M2</td>\n",
       "      <td>4 Cuartos | 3 Baños</td>\n",
       "      <td>$638,000</td>\n",
       "      <td>Urbanizacion-Los Altos De Ciudad Jardin , Gurabo</td>\n",
       "      <td>https://www.clasificadosonline.com/UDRealEstateDetail.asp?ID=4816780</td>\n",
       "      <td>4</td>\n",
       "      <td>3</td>\n",
       "      <td>Urbanizacion-Los Altos De Ciudad Jardin</td>\n",
       "      <td>Gurabo</td>\n",
       "    </tr>\n",
       "    <tr>\n",
       "      <th>3</th>\n",
       "      <td>Solar</td>\n",
       "      <td>Dream Properties LLC</td>\n",
       "      <td>Terreno de 20 cuerdas frente al Lago ...</td>\n",
       "      <td></td>\n",
       "      <td>$175,000</td>\n",
       "      <td>Barrio-Marin , Patillas</td>\n",
       "      <td>https://www.clasificadosonline.com/UDRealEstateDetail.asp?ID=4817751</td>\n",
       "      <td>0</td>\n",
       "      <td>0</td>\n",
       "      <td>Barrio-Marin</td>\n",
       "      <td>Patillas</td>\n",
       "    </tr>\n",
       "    <tr>\n",
       "      <th>4</th>\n",
       "      <td>Casa</td>\n",
       "      <td>RepoExperts</td>\n",
       "      <td>SONADORA , AGUAS BUENAS MANSION</td>\n",
       "      <td>&gt;=6 Cuartos | 5 Baños</td>\n",
       "      <td>$1,150,000</td>\n",
       "      <td>Barrio-Sonadora , Aguas Buenas</td>\n",
       "      <td>https://www.clasificadosonline.com/UDRealEstateDetail.asp?ID=4769002</td>\n",
       "      <td>6</td>\n",
       "      <td>5</td>\n",
       "      <td>Barrio-Sonadora</td>\n",
       "      <td>Aguas Buenas</td>\n",
       "    </tr>\n",
       "    <tr>\n",
       "      <th>5</th>\n",
       "      <td>Casa</td>\n",
       "      <td>Arrieta Realty Group</td>\n",
       "      <td>Urb. Estancias Reales Guaynabo</td>\n",
       "      <td>4 Cuartos | 2 Baños</td>\n",
       "      <td>$1,095,000</td>\n",
       "      <td>Urbanizacion-Estancias Reales , Guaynabo</td>\n",
       "      <td>https://www.clasificadosonline.com/UDRealEstateDetail.asp?ID=4814485</td>\n",
       "      <td>4</td>\n",
       "      <td>2</td>\n",
       "      <td>Urbanizacion-Estancias Reales</td>\n",
       "      <td>Guaynabo</td>\n",
       "    </tr>\n",
       "    <tr>\n",
       "      <th>6</th>\n",
       "      <td>Apartamento</td>\n",
       "      <td>Edgar Molinary</td>\n",
       "      <td>LA COSTA GARDEN APARTMENTS</td>\n",
       "      <td>3 Cuartos | 2 Baños</td>\n",
       "      <td>$187,000</td>\n",
       "      <td>Condominio-La Costa , Fajardo</td>\n",
       "      <td>https://www.clasificadosonline.com/UDRealEstateDetail.asp?ID=4805732</td>\n",
       "      <td>3</td>\n",
       "      <td>2</td>\n",
       "      <td>Condominio-La Costa</td>\n",
       "      <td>Fajardo</td>\n",
       "    </tr>\n",
       "    <tr>\n",
       "      <th>7</th>\n",
       "      <td>Apartamento</td>\n",
       "      <td>1RUIZ REALTY GROUP</td>\n",
       "      <td>BELLA VISTA APT 3 H Y 2 B 2  PISCINA</td>\n",
       "      <td>3 Cuartos | 2 Baños</td>\n",
       "      <td>$194,500</td>\n",
       "      <td>Condominio-Balcones De San Juan , San Juan - Río Piedras</td>\n",
       "      <td>https://www.clasificadosonline.com/UDRealEstateDetail.asp?ID=4815230</td>\n",
       "      <td>3</td>\n",
       "      <td>2</td>\n",
       "      <td>Condominio-Balcones De San Juan</td>\n",
       "      <td>San Juan - Río Piedras</td>\n",
       "    </tr>\n",
       "    <tr>\n",
       "      <th>8</th>\n",
       "      <td>Casa</td>\n",
       "      <td>Dream Realty</td>\n",
       "      <td>PROPIEDAD (multi-uso)</td>\n",
       "      <td>&gt;=6 Cuartos | 3 Baños</td>\n",
       "      <td>$975,000</td>\n",
       "      <td>Urbanizacion-Royal Town , Bayamón</td>\n",
       "      <td>https://www.clasificadosonline.com/UDRealEstateDetail.asp?ID=4645731</td>\n",
       "      <td>6</td>\n",
       "      <td>3</td>\n",
       "      <td>Urbanizacion-Royal Town</td>\n",
       "      <td>Bayamón</td>\n",
       "    </tr>\n",
       "    <tr>\n",
       "      <th>9</th>\n",
       "      <td>Casa</td>\n",
       "      <td>Unlimited Realty Group</td>\n",
       "      <td>Llanos Costa</td>\n",
       "      <td>3 Cuartos | 2 Baños</td>\n",
       "      <td>$245,000</td>\n",
       "      <td>Barrio-Llanos Costa , Cabo Rojo</td>\n",
       "      <td>https://www.clasificadosonline.com/UDRealEstateDetail.asp?ID=4814244</td>\n",
       "      <td>3</td>\n",
       "      <td>2</td>\n",
       "      <td>Barrio-Llanos Costa</td>\n",
       "      <td>Cabo Rojo</td>\n",
       "    </tr>\n",
       "    <tr>\n",
       "      <th>10</th>\n",
       "      <td>Finca</td>\n",
       "      <td>Imperial Real Estate Broker</td>\n",
       "      <td>Terreno Humacao 5,612.53M/C</td>\n",
       "      <td></td>\n",
       "      <td>$69,000</td>\n",
       "      <td>Barrio-Buena Vista , Humacao</td>\n",
       "      <td>https://www.clasificadosonline.com/UDRealEstateDetail.asp?ID=4771115</td>\n",
       "      <td>0</td>\n",
       "      <td>0</td>\n",
       "      <td>Barrio-Buena Vista</td>\n",
       "      <td>Humacao</td>\n",
       "    </tr>\n",
       "    <tr>\n",
       "      <th>11</th>\n",
       "      <td>Casa</td>\n",
       "      <td>TU CASA PR</td>\n",
       "      <td>Urb Alturas de Bucarrabones! Excelent...</td>\n",
       "      <td>3 Cuartos | 1 Baños</td>\n",
       "      <td>$159,900</td>\n",
       "      <td>Urbanizacion-Alturas De Bucarabones , Toa Alta</td>\n",
       "      <td>https://www.clasificadosonline.com/UDRealEstateDetail.asp?ID=4811148</td>\n",
       "      <td>3</td>\n",
       "      <td>1</td>\n",
       "      <td>Urbanizacion-Alturas De Bucarabones</td>\n",
       "      <td>Toa Alta</td>\n",
       "    </tr>\n",
       "    <tr>\n",
       "      <th>12</th>\n",
       "      <td>Comercial</td>\n",
       "      <td>ARK Real Estate</td>\n",
       "      <td>OPORTUNIDAD ÚNICA-PUERTA DE TIERRA</td>\n",
       "      <td>&gt;=6 Cuartos | 4 Baños</td>\n",
       "      <td>$575,000</td>\n",
       "      <td>Sector-Puerta De Tierra , San Juan - Viejo SJ</td>\n",
       "      <td>https://www.clasificadosonline.com/UDRealEstateDetail.asp?ID=4819307</td>\n",
       "      <td>6</td>\n",
       "      <td>4</td>\n",
       "      <td>Sector-Puerta De Tierra</td>\n",
       "      <td>San Juan - Viejo SJ</td>\n",
       "    </tr>\n",
       "    <tr>\n",
       "      <th>13</th>\n",
       "      <td>Comercial</td>\n",
       "      <td>Del Valle Realty</td>\n",
       "      <td>Hogar Envejecie Trujillo Alto, Bo. La...</td>\n",
       "      <td>5 Cuartos | 4 Baños</td>\n",
       "      <td>$350,000</td>\n",
       "      <td>Barrio-La Gloria , Trujillo Alto</td>\n",
       "      <td>https://www.clasificadosonline.com/UDRealEstateDetail.asp?ID=4810105</td>\n",
       "      <td>5</td>\n",
       "      <td>4</td>\n",
       "      <td>Barrio-La Gloria</td>\n",
       "      <td>Trujillo Alto</td>\n",
       "    </tr>\n",
       "    <tr>\n",
       "      <th>14</th>\n",
       "      <td>Apartamento</td>\n",
       "      <td>Elite Realty LLC</td>\n",
       "      <td>Cond. Aquablue - Stunning Garden Unit</td>\n",
       "      <td>2 Cuartos | 2 Baños</td>\n",
       "      <td>$895,000</td>\n",
       "      <td>Condominio-Aquablue , San Juan - Hato Rey</td>\n",
       "      <td>https://www.clasificadosonline.com/UDRealEstateDetail.asp?ID=4817217</td>\n",
       "      <td>2</td>\n",
       "      <td>2</td>\n",
       "      <td>Condominio-Aquablue</td>\n",
       "      <td>San Juan - Hato Rey</td>\n",
       "    </tr>\n",
       "    <tr>\n",
       "      <th>15</th>\n",
       "      <td>Casa</td>\n",
       "      <td>West Connection Realty</td>\n",
       "      <td>BO QUEMADO MAYAGUEZ</td>\n",
       "      <td>4 Cuartos | 2 Baños</td>\n",
       "      <td>$320,000</td>\n",
       "      <td>Barrio-Quemado , Mayagüez</td>\n",
       "      <td>https://www.clasificadosonline.com/UDRealEstateDetail.asp?ID=4814280</td>\n",
       "      <td>4</td>\n",
       "      <td>2</td>\n",
       "      <td>Barrio-Quemado</td>\n",
       "      <td>Mayagüez</td>\n",
       "    </tr>\n",
       "    <tr>\n",
       "      <th>16</th>\n",
       "      <td>Casa</td>\n",
       "      <td>AIRE</td>\n",
       "      <td>Condado Residence - Casa Mirsonia</td>\n",
       "      <td>&gt;=6 Cuartos | 3 Baños</td>\n",
       "      <td>$3,750,000</td>\n",
       "      <td>Condominio-Mirsonia , San Juan - Santurce</td>\n",
       "      <td>https://www.clasificadosonline.com/UDRealEstateDetail.asp?ID=4818733</td>\n",
       "      <td>6</td>\n",
       "      <td>3</td>\n",
       "      <td>Condominio-Mirsonia</td>\n",
       "      <td>San Juan - Santurce</td>\n",
       "    </tr>\n",
       "    <tr>\n",
       "      <th>17</th>\n",
       "      <td>Apartamento</td>\n",
       "      <td>BLACKTIE</td>\n",
       "      <td>Cond.El jardin</td>\n",
       "      <td>4 Cuartos | 2 Baños</td>\n",
       "      <td>$450,000</td>\n",
       "      <td>Condominio-El Jardin , Guaynabo</td>\n",
       "      <td>https://www.clasificadosonline.com/UDRealEstateDetail.asp?ID=4802816</td>\n",
       "      <td>4</td>\n",
       "      <td>2</td>\n",
       "      <td>Condominio-El Jardin</td>\n",
       "      <td>Guaynabo</td>\n",
       "    </tr>\n",
       "    <tr>\n",
       "      <th>18</th>\n",
       "      <td>MultiFamiliar</td>\n",
       "      <td>Ivelisse Arroyo Realty</td>\n",
       "      <td>Lote para inversión frente a La Lagun...</td>\n",
       "      <td></td>\n",
       "      <td>$4,900,000</td>\n",
       "      <td>Sector-Miramar , San Juan - Condado-Miramar</td>\n",
       "      <td>https://www.clasificadosonline.com/UDRealEstateDetail.asp?ID=4748224</td>\n",
       "      <td>0</td>\n",
       "      <td>0</td>\n",
       "      <td>Sector-Miramar</td>\n",
       "      <td>San Juan - Condado-Miramar</td>\n",
       "    </tr>\n",
       "    <tr>\n",
       "      <th>19</th>\n",
       "      <td>Comercial</td>\n",
       "      <td>REALITY REALTY - Comercial</td>\n",
       "      <td>LOCAL COMERCIAL, AVE DE DIEGO, RIO PI...</td>\n",
       "      <td></td>\n",
       "      <td>$175,000</td>\n",
       "      <td>Urbanizacion-Gonzalez Seijo , San Juan - Río Piedras</td>\n",
       "      <td>https://www.clasificadosonline.com/UDRealEstateDetail.asp?ID=4801341</td>\n",
       "      <td>0</td>\n",
       "      <td>0</td>\n",
       "      <td>Urbanizacion-Gonzalez Seijo</td>\n",
       "      <td>San Juan - Río Piedras</td>\n",
       "    </tr>\n",
       "    <tr>\n",
       "      <th>20</th>\n",
       "      <td>Apt/WalkUp</td>\n",
       "      <td>Lojo Real Estate</td>\n",
       "      <td>MONTECILLO COURT- SOLO 5 ESCALONES!</td>\n",
       "      <td>2 Cuartos | 2 Baños</td>\n",
       "      <td>$219,000</td>\n",
       "      <td>Condominio-Montecillo Court, Encantada , Trujillo Alto</td>\n",
       "      <td>https://www.clasificadosonline.com/UDRealEstateDetail.asp?ID=4820740</td>\n",
       "      <td>2</td>\n",
       "      <td>2</td>\n",
       "      <td>Condominio-Montecillo Court</td>\n",
       "      <td>Encantada</td>\n",
       "    </tr>\n",
       "    <tr>\n",
       "      <th>21</th>\n",
       "      <td>Casa</td>\n",
       "      <td>ReiRodRealty</td>\n",
       "      <td>Bo. Collores Humacao $250K, 4C, 2.5B,...</td>\n",
       "      <td>4 Cuartos | 2 Baños</td>\n",
       "      <td>$249,000</td>\n",
       "      <td>Barrio-Collores , Humacao</td>\n",
       "      <td>https://www.clasificadosonline.com/UDRealEstateDetail.asp?ID=4808870</td>\n",
       "      <td>4</td>\n",
       "      <td>2</td>\n",
       "      <td>Barrio-Collores</td>\n",
       "      <td>Humacao</td>\n",
       "    </tr>\n",
       "    <tr>\n",
       "      <th>22</th>\n",
       "      <td>Solar</td>\n",
       "      <td>Real Home of America</td>\n",
       "      <td>Bo. Guavate</td>\n",
       "      <td></td>\n",
       "      <td>$100,000</td>\n",
       "      <td>Barrio-Guavate , Cayey</td>\n",
       "      <td>https://www.clasificadosonline.com/UDRealEstateDetail.asp?ID=4802938</td>\n",
       "      <td>0</td>\n",
       "      <td>0</td>\n",
       "      <td>Barrio-Guavate</td>\n",
       "      <td>Cayey</td>\n",
       "    </tr>\n",
       "    <tr>\n",
       "      <th>23</th>\n",
       "      <td>Casa</td>\n",
       "      <td>Lojo Real Estate</td>\n",
       "      <td>MULTIFAMILIAR Levittown, Genera $2600</td>\n",
       "      <td>&gt;= 6 Cuartos | 4 Baños</td>\n",
       "      <td>$254,000</td>\n",
       "      <td>Urbanizacion-Levittown , Toa Baja - Levittown</td>\n",
       "      <td>https://www.clasificadosonline.com/UDRealEstateDetail.asp?ID=4820838</td>\n",
       "      <td>6</td>\n",
       "      <td>4</td>\n",
       "      <td>Urbanizacion-Levittown</td>\n",
       "      <td>Toa Baja - Levittown</td>\n",
       "    </tr>\n",
       "    <tr>\n",
       "      <th>24</th>\n",
       "      <td>Finca</td>\n",
       "      <td>Cristy Real Estate</td>\n",
       "      <td>Preciosa Finca Bo. Caonillas, Villalb...</td>\n",
       "      <td></td>\n",
       "      <td>$500,000</td>\n",
       "      <td>Barrio-Caonillas , Villalba</td>\n",
       "      <td>https://www.clasificadosonline.com/UDRealEstateDetail.asp?ID=4258844</td>\n",
       "      <td>0</td>\n",
       "      <td>0</td>\n",
       "      <td>Barrio-Caonillas</td>\n",
       "      <td>Villalba</td>\n",
       "    </tr>\n",
       "    <tr>\n",
       "      <th>25</th>\n",
       "      <td>Comercial</td>\n",
       "      <td>Christiansen Commercial</td>\n",
       "      <td>Mixed-Use Commercial Bldg. in Old San...</td>\n",
       "      <td></td>\n",
       "      <td>$4,500,000</td>\n",
       "      <td>Barrio-Viejo San Juan -Zona Historica , San Juan - Viejo SJ</td>\n",
       "      <td>https://www.clasificadosonline.com/UDRealEstateDetail.asp?ID=4698704</td>\n",
       "      <td>0</td>\n",
       "      <td>0</td>\n",
       "      <td>Barrio-Viejo San Juan -Zona Historica</td>\n",
       "      <td>San Juan - Viejo SJ</td>\n",
       "    </tr>\n",
       "    <tr>\n",
       "      <th>26</th>\n",
       "      <td>Apartamento</td>\n",
       "      <td>R RUIZ REAL ESTATE</td>\n",
       "      <td>VISTA AL MAR 3 H Y 2 B 2 PARKING NO E...</td>\n",
       "      <td>3 Cuartos | 2 Baños</td>\n",
       "      <td>$279,000</td>\n",
       "      <td>Condominio-Oceania , Arecibo</td>\n",
       "      <td>https://www.clasificadosonline.com/UDRealEstateDetail.asp?ID=4817827</td>\n",
       "      <td>3</td>\n",
       "      <td>2</td>\n",
       "      <td>Condominio-Oceania</td>\n",
       "      <td>Arecibo</td>\n",
       "    </tr>\n",
       "    <tr>\n",
       "      <th>27</th>\n",
       "      <td>Casa</td>\n",
       "      <td>House Hunt Real Estate #18152</td>\n",
       "      <td>URB. ALTURAS DE BUCARABONES</td>\n",
       "      <td>3 Cuartos | 2 Baños</td>\n",
       "      <td>$120,000</td>\n",
       "      <td>Urbanizacion-Alturas De Bucarabones , Toa Alta</td>\n",
       "      <td>https://www.clasificadosonline.com/UDRealEstateDetail.asp?ID=4819030</td>\n",
       "      <td>3</td>\n",
       "      <td>2</td>\n",
       "      <td>Urbanizacion-Alturas De Bucarabones</td>\n",
       "      <td>Toa Alta</td>\n",
       "    </tr>\n",
       "    <tr>\n",
       "      <th>28</th>\n",
       "      <td>Solar</td>\n",
       "      <td>sevendetucasa.com</td>\n",
       "      <td>Vistas de Ceiba! 4.5 - 7 cuerda Vista...</td>\n",
       "      <td></td>\n",
       "      <td>$225,000</td>\n",
       "      <td>Barrio-Chupacallos , Ceiba</td>\n",
       "      <td>https://www.clasificadosonline.com/UDRealEstateDetail.asp?ID=4819872</td>\n",
       "      <td>0</td>\n",
       "      <td>0</td>\n",
       "      <td>Barrio-Chupacallos</td>\n",
       "      <td>Ceiba</td>\n",
       "    </tr>\n",
       "    <tr>\n",
       "      <th>29</th>\n",
       "      <td>Casa</td>\n",
       "      <td>RepoExperts</td>\n",
       "      <td>URB LOMAS DE CAMPO ALEGRE MULTIFAMILI...</td>\n",
       "      <td>&gt;=6 Cuartos | 4 Baños</td>\n",
       "      <td>$375,000</td>\n",
       "      <td>Urbanizacion-Lomas De Campo Alegre , Humacao</td>\n",
       "      <td>https://www.clasificadosonline.com/UDRealEstateDetail.asp?ID=4793953</td>\n",
       "      <td>6</td>\n",
       "      <td>4</td>\n",
       "      <td>Urbanizacion-Lomas De Campo Alegre</td>\n",
       "      <td>Humacao</td>\n",
       "    </tr>\n",
       "  </tbody>\n",
       "</table>\n",
       "</div>"
      ],
      "text/plain": [
       "              Type                         Broker  \\\n",
       "0           Solar   House Hunt Real Estate #18152   \n",
       "1   Comercial Repo            SKY REALTY (zona 2)   \n",
       "2            Casa       Palma Real Property Group   \n",
       "3           Solar            Dream Properties LLC   \n",
       "4            Casa                     RepoExperts   \n",
       "5            Casa            Arrieta Realty Group   \n",
       "6     Apartamento                  Edgar Molinary   \n",
       "7     Apartamento             1RUIZ REALTY GROUP    \n",
       "8            Casa                    Dream Realty   \n",
       "9            Casa          Unlimited Realty Group   \n",
       "10          Finca     Imperial Real Estate Broker   \n",
       "11           Casa                      TU CASA PR   \n",
       "12      Comercial                 ARK Real Estate   \n",
       "13      Comercial                Del Valle Realty   \n",
       "14    Apartamento                Elite Realty LLC   \n",
       "15           Casa          West Connection Realty   \n",
       "16           Casa                            AIRE   \n",
       "17    Apartamento                        BLACKTIE   \n",
       "18  MultiFamiliar          Ivelisse Arroyo Realty   \n",
       "19      Comercial      REALITY REALTY - Comercial   \n",
       "20     Apt/WalkUp                Lojo Real Estate   \n",
       "21           Casa                    ReiRodRealty   \n",
       "22          Solar            Real Home of America   \n",
       "23           Casa                Lojo Real Estate   \n",
       "24          Finca              Cristy Real Estate   \n",
       "25      Comercial         Christiansen Commercial   \n",
       "26    Apartamento              R RUIZ REAL ESTATE   \n",
       "27           Casa   House Hunt Real Estate #18152   \n",
       "28          Solar               sevendetucasa.com   \n",
       "29           Casa                     RepoExperts   \n",
       "\n",
       "                                       Title                   Rooms  \\\n",
       "0                                  BO. CACAO                           \n",
       "1               Comercial * Cupey Bajo * REO                           \n",
       "2        URB CIUDAD JARDIN-LOS ALTOS-1006 M2     4 Cuartos | 3 Baños   \n",
       "3   Terreno de 20 cuerdas frente al Lago ...                           \n",
       "4            SONADORA , AGUAS BUENAS MANSION   >=6 Cuartos | 5 Baños   \n",
       "5             Urb. Estancias Reales Guaynabo     4 Cuartos | 2 Baños   \n",
       "6                 LA COSTA GARDEN APARTMENTS     3 Cuartos | 2 Baños   \n",
       "7      BELLA VISTA APT 3 H Y 2 B 2  PISCINA      3 Cuartos | 2 Baños   \n",
       "8                      PROPIEDAD (multi-uso)   >=6 Cuartos | 3 Baños   \n",
       "9                               Llanos Costa     3 Cuartos | 2 Baños   \n",
       "10               Terreno Humacao 5,612.53M/C                           \n",
       "11  Urb Alturas de Bucarrabones! Excelent...     3 Cuartos | 1 Baños   \n",
       "12        OPORTUNIDAD ÚNICA-PUERTA DE TIERRA   >=6 Cuartos | 4 Baños   \n",
       "13  Hogar Envejecie Trujillo Alto, Bo. La...     5 Cuartos | 4 Baños   \n",
       "14    Cond. Aquablue - Stunning Garden Unit      2 Cuartos | 2 Baños   \n",
       "15                       BO QUEMADO MAYAGUEZ     4 Cuartos | 2 Baños   \n",
       "16         Condado Residence - Casa Mirsonia   >=6 Cuartos | 3 Baños   \n",
       "17                            Cond.El jardin     4 Cuartos | 2 Baños   \n",
       "18  Lote para inversión frente a La Lagun...                           \n",
       "19  LOCAL COMERCIAL, AVE DE DIEGO, RIO PI...                           \n",
       "20       MONTECILLO COURT- SOLO 5 ESCALONES!     2 Cuartos | 2 Baños   \n",
       "21  Bo. Collores Humacao $250K, 4C, 2.5B,...     4 Cuartos | 2 Baños   \n",
       "22                               Bo. Guavate                           \n",
       "23     MULTIFAMILIAR Levittown, Genera $2600  >= 6 Cuartos | 4 Baños   \n",
       "24  Preciosa Finca Bo. Caonillas, Villalb...                           \n",
       "25  Mixed-Use Commercial Bldg. in Old San...                           \n",
       "26  VISTA AL MAR 3 H Y 2 B 2 PARKING NO E...     3 Cuartos | 2 Baños   \n",
       "27               URB. ALTURAS DE BUCARABONES     3 Cuartos | 2 Baños   \n",
       "28  Vistas de Ceiba! 4.5 - 7 cuerda Vista...                           \n",
       "29  URB LOMAS DE CAMPO ALEGRE MULTIFAMILI...   >=6 Cuartos | 4 Baños   \n",
       "\n",
       "         Price                                                     Location  \\\n",
       "0      $57,999                                  Barrio-Cacao , Quebradillas   \n",
       "1     $285,000                   Barrio-Cupey Bajo , San Juan - Río Piedras   \n",
       "2     $638,000             Urbanizacion-Los Altos De Ciudad Jardin , Gurabo   \n",
       "3     $175,000                                      Barrio-Marin , Patillas   \n",
       "4   $1,150,000                               Barrio-Sonadora , Aguas Buenas   \n",
       "5   $1,095,000                     Urbanizacion-Estancias Reales , Guaynabo   \n",
       "6     $187,000                                Condominio-La Costa , Fajardo   \n",
       "7     $194,500     Condominio-Balcones De San Juan , San Juan - Río Piedras   \n",
       "8     $975,000                            Urbanizacion-Royal Town , Bayamón   \n",
       "9     $245,000                              Barrio-Llanos Costa , Cabo Rojo   \n",
       "10     $69,000                                 Barrio-Buena Vista , Humacao   \n",
       "11    $159,900               Urbanizacion-Alturas De Bucarabones , Toa Alta   \n",
       "12    $575,000                Sector-Puerta De Tierra , San Juan - Viejo SJ   \n",
       "13    $350,000                             Barrio-La Gloria , Trujillo Alto   \n",
       "14    $895,000                    Condominio-Aquablue , San Juan - Hato Rey   \n",
       "15    $320,000                                    Barrio-Quemado , Mayagüez   \n",
       "16  $3,750,000                    Condominio-Mirsonia , San Juan - Santurce   \n",
       "17    $450,000                              Condominio-El Jardin , Guaynabo   \n",
       "18  $4,900,000                  Sector-Miramar , San Juan - Condado-Miramar   \n",
       "19    $175,000         Urbanizacion-Gonzalez Seijo , San Juan - Río Piedras   \n",
       "20    $219,000       Condominio-Montecillo Court, Encantada , Trujillo Alto   \n",
       "21    $249,000                                    Barrio-Collores , Humacao   \n",
       "22    $100,000                                       Barrio-Guavate , Cayey   \n",
       "23    $254,000                Urbanizacion-Levittown , Toa Baja - Levittown   \n",
       "24    $500,000                                  Barrio-Caonillas , Villalba   \n",
       "25  $4,500,000  Barrio-Viejo San Juan -Zona Historica , San Juan - Viejo SJ   \n",
       "26    $279,000                                 Condominio-Oceania , Arecibo   \n",
       "27    $120,000               Urbanizacion-Alturas De Bucarabones , Toa Alta   \n",
       "28    $225,000                                   Barrio-Chupacallos , Ceiba   \n",
       "29    $375,000                 Urbanizacion-Lomas De Campo Alegre , Humacao   \n",
       "\n",
       "                                                                    Link  \\\n",
       "0   https://www.clasificadosonline.com/UDRealEstateDetail.asp?ID=4767842   \n",
       "1   https://www.clasificadosonline.com/UDRealEstateDetail.asp?ID=4802915   \n",
       "2   https://www.clasificadosonline.com/UDRealEstateDetail.asp?ID=4816780   \n",
       "3   https://www.clasificadosonline.com/UDRealEstateDetail.asp?ID=4817751   \n",
       "4   https://www.clasificadosonline.com/UDRealEstateDetail.asp?ID=4769002   \n",
       "5   https://www.clasificadosonline.com/UDRealEstateDetail.asp?ID=4814485   \n",
       "6   https://www.clasificadosonline.com/UDRealEstateDetail.asp?ID=4805732   \n",
       "7   https://www.clasificadosonline.com/UDRealEstateDetail.asp?ID=4815230   \n",
       "8   https://www.clasificadosonline.com/UDRealEstateDetail.asp?ID=4645731   \n",
       "9   https://www.clasificadosonline.com/UDRealEstateDetail.asp?ID=4814244   \n",
       "10  https://www.clasificadosonline.com/UDRealEstateDetail.asp?ID=4771115   \n",
       "11  https://www.clasificadosonline.com/UDRealEstateDetail.asp?ID=4811148   \n",
       "12  https://www.clasificadosonline.com/UDRealEstateDetail.asp?ID=4819307   \n",
       "13  https://www.clasificadosonline.com/UDRealEstateDetail.asp?ID=4810105   \n",
       "14  https://www.clasificadosonline.com/UDRealEstateDetail.asp?ID=4817217   \n",
       "15  https://www.clasificadosonline.com/UDRealEstateDetail.asp?ID=4814280   \n",
       "16  https://www.clasificadosonline.com/UDRealEstateDetail.asp?ID=4818733   \n",
       "17  https://www.clasificadosonline.com/UDRealEstateDetail.asp?ID=4802816   \n",
       "18  https://www.clasificadosonline.com/UDRealEstateDetail.asp?ID=4748224   \n",
       "19  https://www.clasificadosonline.com/UDRealEstateDetail.asp?ID=4801341   \n",
       "20  https://www.clasificadosonline.com/UDRealEstateDetail.asp?ID=4820740   \n",
       "21  https://www.clasificadosonline.com/UDRealEstateDetail.asp?ID=4808870   \n",
       "22  https://www.clasificadosonline.com/UDRealEstateDetail.asp?ID=4802938   \n",
       "23  https://www.clasificadosonline.com/UDRealEstateDetail.asp?ID=4820838   \n",
       "24  https://www.clasificadosonline.com/UDRealEstateDetail.asp?ID=4258844   \n",
       "25  https://www.clasificadosonline.com/UDRealEstateDetail.asp?ID=4698704   \n",
       "26  https://www.clasificadosonline.com/UDRealEstateDetail.asp?ID=4817827   \n",
       "27  https://www.clasificadosonline.com/UDRealEstateDetail.asp?ID=4819030   \n",
       "28  https://www.clasificadosonline.com/UDRealEstateDetail.asp?ID=4819872   \n",
       "29  https://www.clasificadosonline.com/UDRealEstateDetail.asp?ID=4793953   \n",
       "\n",
       "   Bedrooms Bathrooms                              Neighborhood  \\\n",
       "0         0         0                             Barrio-Cacao    \n",
       "1         0         0                        Barrio-Cupey Bajo    \n",
       "2         4         3  Urbanizacion-Los Altos De Ciudad Jardin    \n",
       "3         0         0                             Barrio-Marin    \n",
       "4         6         5                          Barrio-Sonadora    \n",
       "5         4         2            Urbanizacion-Estancias Reales    \n",
       "6         3         2                      Condominio-La Costa    \n",
       "7         3         2          Condominio-Balcones De San Juan    \n",
       "8         6         3                  Urbanizacion-Royal Town    \n",
       "9         3         2                      Barrio-Llanos Costa    \n",
       "10        0         0                       Barrio-Buena Vista    \n",
       "11        3         1      Urbanizacion-Alturas De Bucarabones    \n",
       "12        6         4                  Sector-Puerta De Tierra    \n",
       "13        5         4                         Barrio-La Gloria    \n",
       "14        2         2                      Condominio-Aquablue    \n",
       "15        4         2                           Barrio-Quemado    \n",
       "16        6         3                      Condominio-Mirsonia    \n",
       "17        4         2                     Condominio-El Jardin    \n",
       "18        0         0                           Sector-Miramar    \n",
       "19        0         0              Urbanizacion-Gonzalez Seijo    \n",
       "20        2         2               Condominio-Montecillo Court   \n",
       "21        4         2                          Barrio-Collores    \n",
       "22        0         0                           Barrio-Guavate    \n",
       "23        6         4                   Urbanizacion-Levittown    \n",
       "24        0         0                         Barrio-Caonillas    \n",
       "25        0         0    Barrio-Viejo San Juan -Zona Historica    \n",
       "26        3         2                       Condominio-Oceania    \n",
       "27        3         2      Urbanizacion-Alturas De Bucarabones    \n",
       "28        0         0                       Barrio-Chupacallos    \n",
       "29        6         4       Urbanizacion-Lomas De Campo Alegre    \n",
       "\n",
       "                           City  \n",
       "0                  Quebradillas  \n",
       "1        San Juan - Río Piedras  \n",
       "2                        Gurabo  \n",
       "3                      Patillas  \n",
       "4                  Aguas Buenas  \n",
       "5                      Guaynabo  \n",
       "6                       Fajardo  \n",
       "7        San Juan - Río Piedras  \n",
       "8                       Bayamón  \n",
       "9                     Cabo Rojo  \n",
       "10                      Humacao  \n",
       "11                     Toa Alta  \n",
       "12          San Juan - Viejo SJ  \n",
       "13                Trujillo Alto  \n",
       "14          San Juan - Hato Rey  \n",
       "15                     Mayagüez  \n",
       "16          San Juan - Santurce  \n",
       "17                     Guaynabo  \n",
       "18   San Juan - Condado-Miramar  \n",
       "19       San Juan - Río Piedras  \n",
       "20                   Encantada   \n",
       "21                      Humacao  \n",
       "22                        Cayey  \n",
       "23         Toa Baja - Levittown  \n",
       "24                     Villalba  \n",
       "25          San Juan - Viejo SJ  \n",
       "26                      Arecibo  \n",
       "27                     Toa Alta  \n",
       "28                        Ceiba  \n",
       "29                      Humacao  "
      ]
     },
     "execution_count": 42,
     "metadata": {},
     "output_type": "execute_result"
    }
   ],
   "source": [
    "cleaned_df"
   ]
  },
  {
   "cell_type": "code",
   "execution_count": 43,
   "metadata": {},
   "outputs": [],
   "source": [
    "cleaned_df.to_csv('clasificados_sample.csv',index=False)"
   ]
  },
  {
   "cell_type": "code",
   "execution_count": 1,
   "metadata": {},
   "outputs": [
    {
     "name": "stdout",
     "output_type": "stream",
     "text": [
      "Collecting plotly\n",
      "  Obtaining dependency information for plotly from https://files.pythonhosted.org/packages/b3/f6/64fe388089588a0c364b03809443cd628fe0261d1364313fb7aec6bb0ebc/plotly-5.24.0-py3-none-any.whl.metadata\n",
      "  Downloading plotly-5.24.0-py3-none-any.whl.metadata (7.3 kB)\n",
      "Collecting tenacity>=6.2.0 (from plotly)\n",
      "  Obtaining dependency information for tenacity>=6.2.0 from https://files.pythonhosted.org/packages/b6/cb/b86984bed139586d01532a587464b5805f12e397594f19f931c4c2fbfa61/tenacity-9.0.0-py3-none-any.whl.metadata\n",
      "  Downloading tenacity-9.0.0-py3-none-any.whl.metadata (1.2 kB)\n",
      "Requirement already satisfied: packaging in /Users/natalielewis/Library/Python/3.11/lib/python/site-packages (from plotly) (23.2)\n",
      "Downloading plotly-5.24.0-py3-none-any.whl (19.0 MB)\n",
      "\u001b[2K   \u001b[90m━━━━━━━━━━━━━━━━━━━━━━━━━━━━━━━━━━━━━━━━\u001b[0m \u001b[32m19.0/19.0 MB\u001b[0m \u001b[31m3.9 MB/s\u001b[0m eta \u001b[36m0:00:00\u001b[0m00:01\u001b[0m00:01\u001b[0m\n",
      "\u001b[?25hDownloading tenacity-9.0.0-py3-none-any.whl (28 kB)\n",
      "Installing collected packages: tenacity, plotly\n",
      "Successfully installed plotly-5.24.0 tenacity-9.0.0\n",
      "\n",
      "\u001b[1m[\u001b[0m\u001b[34;49mnotice\u001b[0m\u001b[1;39;49m]\u001b[0m\u001b[39;49m A new release of pip is available: \u001b[0m\u001b[31;49m23.2.1\u001b[0m\u001b[39;49m -> \u001b[0m\u001b[32;49m24.2\u001b[0m\n",
      "\u001b[1m[\u001b[0m\u001b[34;49mnotice\u001b[0m\u001b[1;39;49m]\u001b[0m\u001b[39;49m To update, run: \u001b[0m\u001b[32;49mpip3 install --upgrade pip\u001b[0m\n",
      "Note: you may need to restart the kernel to use updated packages.\n"
     ]
    }
   ],
   "source": [
    "pip install plotly"
   ]
  },
  {
   "cell_type": "code",
   "execution_count": 4,
   "metadata": {},
   "outputs": [],
   "source": [
    "# Load and prepare your dataframe here\n",
    "df = pd.read_csv('/Users/natalielewis/Desktop/p/clasificados/clasificados_sample.csv')  # Load your cleaned dataframe\n",
    "\n",
    "# Ensure price is numeric\n",
    "df['Price'] = df['Price'].replace('[\\$,]', '', regex=True).astype(float)\n",
    "\n",
    "# Group by County and calculate the number of listings and average price\n",
    "county_summary = df.groupby('City').agg(\n",
    "    properties_listed=('City', 'size'),\n",
    "    average_price=('Price', 'mean')\n",
    ").reset_index()"
   ]
  },
  {
   "cell_type": "code",
   "execution_count": 15,
   "metadata": {},
   "outputs": [],
   "source": [
    "county_summary_sorted = county_summary.sort_values(by='properties_listed', ascending=True)"
   ]
  },
  {
   "cell_type": "code",
   "execution_count": 2,
   "metadata": {},
   "outputs": [],
   "source": [
    "import pandas as pd\n",
    "import plotly.express as px"
   ]
  },
  {
   "cell_type": "code",
   "execution_count": 11,
   "metadata": {},
   "outputs": [],
   "source": [
    "custom_colors = ['#add057']#, '#00bca3']"
   ]
  },
  {
   "cell_type": "code",
   "execution_count": 16,
   "metadata": {},
   "outputs": [],
   "source": [
    "# Create a bar chart with Plotly\n",
    "fig = px.bar(\n",
    "    county_summary,\n",
    "    x='City',\n",
    "    y='properties_listed',\n",
    "    title='Number of Properties Listed in Each County',\n",
    "    labels={'City': 'County', 'properties_listed': 'Number of Properties Listed'},\n",
    "    color='City',\n",
    "    color_discrete_sequence=custom_colors\n",
    ")"
   ]
  },
  {
   "cell_type": "code",
   "execution_count": 17,
   "metadata": {},
   "outputs": [
    {
     "data": {
      "application/vnd.plotly.v1+json": {
       "config": {
        "plotlyServerURL": "https://plot.ly"
       },
       "data": [
        {
         "alignmentgroup": "True",
         "hovertemplate": "County=%{x}<br>Number of Properties Listed=%{y}<extra></extra>",
         "legendgroup": " Aguas Buenas",
         "marker": {
          "color": "#add057",
          "pattern": {
           "shape": ""
          }
         },
         "name": " Aguas Buenas",
         "offsetgroup": " Aguas Buenas",
         "orientation": "v",
         "showlegend": true,
         "textposition": "auto",
         "type": "bar",
         "x": [
          " Aguas Buenas"
         ],
         "xaxis": "x",
         "y": [
          1
         ],
         "yaxis": "y"
        },
        {
         "alignmentgroup": "True",
         "hovertemplate": "County=%{x}<br>Number of Properties Listed=%{y}<extra></extra>",
         "legendgroup": " Arecibo",
         "marker": {
          "color": "#add057",
          "pattern": {
           "shape": ""
          }
         },
         "name": " Arecibo",
         "offsetgroup": " Arecibo",
         "orientation": "v",
         "showlegend": true,
         "textposition": "auto",
         "type": "bar",
         "x": [
          " Arecibo"
         ],
         "xaxis": "x",
         "y": [
          1
         ],
         "yaxis": "y"
        },
        {
         "alignmentgroup": "True",
         "hovertemplate": "County=%{x}<br>Number of Properties Listed=%{y}<extra></extra>",
         "legendgroup": " Bayamón",
         "marker": {
          "color": "#add057",
          "pattern": {
           "shape": ""
          }
         },
         "name": " Bayamón",
         "offsetgroup": " Bayamón",
         "orientation": "v",
         "showlegend": true,
         "textposition": "auto",
         "type": "bar",
         "x": [
          " Bayamón"
         ],
         "xaxis": "x",
         "y": [
          1
         ],
         "yaxis": "y"
        },
        {
         "alignmentgroup": "True",
         "hovertemplate": "County=%{x}<br>Number of Properties Listed=%{y}<extra></extra>",
         "legendgroup": " Cabo Rojo",
         "marker": {
          "color": "#add057",
          "pattern": {
           "shape": ""
          }
         },
         "name": " Cabo Rojo",
         "offsetgroup": " Cabo Rojo",
         "orientation": "v",
         "showlegend": true,
         "textposition": "auto",
         "type": "bar",
         "x": [
          " Cabo Rojo"
         ],
         "xaxis": "x",
         "y": [
          1
         ],
         "yaxis": "y"
        },
        {
         "alignmentgroup": "True",
         "hovertemplate": "County=%{x}<br>Number of Properties Listed=%{y}<extra></extra>",
         "legendgroup": " Cayey",
         "marker": {
          "color": "#add057",
          "pattern": {
           "shape": ""
          }
         },
         "name": " Cayey",
         "offsetgroup": " Cayey",
         "orientation": "v",
         "showlegend": true,
         "textposition": "auto",
         "type": "bar",
         "x": [
          " Cayey"
         ],
         "xaxis": "x",
         "y": [
          1
         ],
         "yaxis": "y"
        },
        {
         "alignmentgroup": "True",
         "hovertemplate": "County=%{x}<br>Number of Properties Listed=%{y}<extra></extra>",
         "legendgroup": " Ceiba",
         "marker": {
          "color": "#add057",
          "pattern": {
           "shape": ""
          }
         },
         "name": " Ceiba",
         "offsetgroup": " Ceiba",
         "orientation": "v",
         "showlegend": true,
         "textposition": "auto",
         "type": "bar",
         "x": [
          " Ceiba"
         ],
         "xaxis": "x",
         "y": [
          1
         ],
         "yaxis": "y"
        },
        {
         "alignmentgroup": "True",
         "hovertemplate": "County=%{x}<br>Number of Properties Listed=%{y}<extra></extra>",
         "legendgroup": " Encantada ",
         "marker": {
          "color": "#add057",
          "pattern": {
           "shape": ""
          }
         },
         "name": " Encantada ",
         "offsetgroup": " Encantada ",
         "orientation": "v",
         "showlegend": true,
         "textposition": "auto",
         "type": "bar",
         "x": [
          " Encantada "
         ],
         "xaxis": "x",
         "y": [
          1
         ],
         "yaxis": "y"
        },
        {
         "alignmentgroup": "True",
         "hovertemplate": "County=%{x}<br>Number of Properties Listed=%{y}<extra></extra>",
         "legendgroup": " Fajardo",
         "marker": {
          "color": "#add057",
          "pattern": {
           "shape": ""
          }
         },
         "name": " Fajardo",
         "offsetgroup": " Fajardo",
         "orientation": "v",
         "showlegend": true,
         "textposition": "auto",
         "type": "bar",
         "x": [
          " Fajardo"
         ],
         "xaxis": "x",
         "y": [
          1
         ],
         "yaxis": "y"
        },
        {
         "alignmentgroup": "True",
         "hovertemplate": "County=%{x}<br>Number of Properties Listed=%{y}<extra></extra>",
         "legendgroup": " Guaynabo",
         "marker": {
          "color": "#add057",
          "pattern": {
           "shape": ""
          }
         },
         "name": " Guaynabo",
         "offsetgroup": " Guaynabo",
         "orientation": "v",
         "showlegend": true,
         "textposition": "auto",
         "type": "bar",
         "x": [
          " Guaynabo"
         ],
         "xaxis": "x",
         "y": [
          2
         ],
         "yaxis": "y"
        },
        {
         "alignmentgroup": "True",
         "hovertemplate": "County=%{x}<br>Number of Properties Listed=%{y}<extra></extra>",
         "legendgroup": " Gurabo",
         "marker": {
          "color": "#add057",
          "pattern": {
           "shape": ""
          }
         },
         "name": " Gurabo",
         "offsetgroup": " Gurabo",
         "orientation": "v",
         "showlegend": true,
         "textposition": "auto",
         "type": "bar",
         "x": [
          " Gurabo"
         ],
         "xaxis": "x",
         "y": [
          1
         ],
         "yaxis": "y"
        },
        {
         "alignmentgroup": "True",
         "hovertemplate": "County=%{x}<br>Number of Properties Listed=%{y}<extra></extra>",
         "legendgroup": " Humacao",
         "marker": {
          "color": "#add057",
          "pattern": {
           "shape": ""
          }
         },
         "name": " Humacao",
         "offsetgroup": " Humacao",
         "orientation": "v",
         "showlegend": true,
         "textposition": "auto",
         "type": "bar",
         "x": [
          " Humacao"
         ],
         "xaxis": "x",
         "y": [
          3
         ],
         "yaxis": "y"
        },
        {
         "alignmentgroup": "True",
         "hovertemplate": "County=%{x}<br>Number of Properties Listed=%{y}<extra></extra>",
         "legendgroup": " Mayagüez",
         "marker": {
          "color": "#add057",
          "pattern": {
           "shape": ""
          }
         },
         "name": " Mayagüez",
         "offsetgroup": " Mayagüez",
         "orientation": "v",
         "showlegend": true,
         "textposition": "auto",
         "type": "bar",
         "x": [
          " Mayagüez"
         ],
         "xaxis": "x",
         "y": [
          1
         ],
         "yaxis": "y"
        },
        {
         "alignmentgroup": "True",
         "hovertemplate": "County=%{x}<br>Number of Properties Listed=%{y}<extra></extra>",
         "legendgroup": " Patillas",
         "marker": {
          "color": "#add057",
          "pattern": {
           "shape": ""
          }
         },
         "name": " Patillas",
         "offsetgroup": " Patillas",
         "orientation": "v",
         "showlegend": true,
         "textposition": "auto",
         "type": "bar",
         "x": [
          " Patillas"
         ],
         "xaxis": "x",
         "y": [
          1
         ],
         "yaxis": "y"
        },
        {
         "alignmentgroup": "True",
         "hovertemplate": "County=%{x}<br>Number of Properties Listed=%{y}<extra></extra>",
         "legendgroup": " Quebradillas",
         "marker": {
          "color": "#add057",
          "pattern": {
           "shape": ""
          }
         },
         "name": " Quebradillas",
         "offsetgroup": " Quebradillas",
         "orientation": "v",
         "showlegend": true,
         "textposition": "auto",
         "type": "bar",
         "x": [
          " Quebradillas"
         ],
         "xaxis": "x",
         "y": [
          1
         ],
         "yaxis": "y"
        },
        {
         "alignmentgroup": "True",
         "hovertemplate": "County=%{x}<br>Number of Properties Listed=%{y}<extra></extra>",
         "legendgroup": " San Juan - Condado-Miramar",
         "marker": {
          "color": "#add057",
          "pattern": {
           "shape": ""
          }
         },
         "name": " San Juan - Condado-Miramar",
         "offsetgroup": " San Juan - Condado-Miramar",
         "orientation": "v",
         "showlegend": true,
         "textposition": "auto",
         "type": "bar",
         "x": [
          " San Juan - Condado-Miramar"
         ],
         "xaxis": "x",
         "y": [
          1
         ],
         "yaxis": "y"
        },
        {
         "alignmentgroup": "True",
         "hovertemplate": "County=%{x}<br>Number of Properties Listed=%{y}<extra></extra>",
         "legendgroup": " San Juan - Hato Rey",
         "marker": {
          "color": "#add057",
          "pattern": {
           "shape": ""
          }
         },
         "name": " San Juan - Hato Rey",
         "offsetgroup": " San Juan - Hato Rey",
         "orientation": "v",
         "showlegend": true,
         "textposition": "auto",
         "type": "bar",
         "x": [
          " San Juan - Hato Rey"
         ],
         "xaxis": "x",
         "y": [
          1
         ],
         "yaxis": "y"
        },
        {
         "alignmentgroup": "True",
         "hovertemplate": "County=%{x}<br>Number of Properties Listed=%{y}<extra></extra>",
         "legendgroup": " San Juan - Río Piedras",
         "marker": {
          "color": "#add057",
          "pattern": {
           "shape": ""
          }
         },
         "name": " San Juan - Río Piedras",
         "offsetgroup": " San Juan - Río Piedras",
         "orientation": "v",
         "showlegend": true,
         "textposition": "auto",
         "type": "bar",
         "x": [
          " San Juan - Río Piedras"
         ],
         "xaxis": "x",
         "y": [
          3
         ],
         "yaxis": "y"
        },
        {
         "alignmentgroup": "True",
         "hovertemplate": "County=%{x}<br>Number of Properties Listed=%{y}<extra></extra>",
         "legendgroup": " San Juan - Santurce",
         "marker": {
          "color": "#add057",
          "pattern": {
           "shape": ""
          }
         },
         "name": " San Juan - Santurce",
         "offsetgroup": " San Juan - Santurce",
         "orientation": "v",
         "showlegend": true,
         "textposition": "auto",
         "type": "bar",
         "x": [
          " San Juan - Santurce"
         ],
         "xaxis": "x",
         "y": [
          1
         ],
         "yaxis": "y"
        },
        {
         "alignmentgroup": "True",
         "hovertemplate": "County=%{x}<br>Number of Properties Listed=%{y}<extra></extra>",
         "legendgroup": " San Juan - Viejo SJ",
         "marker": {
          "color": "#add057",
          "pattern": {
           "shape": ""
          }
         },
         "name": " San Juan - Viejo SJ",
         "offsetgroup": " San Juan - Viejo SJ",
         "orientation": "v",
         "showlegend": true,
         "textposition": "auto",
         "type": "bar",
         "x": [
          " San Juan - Viejo SJ"
         ],
         "xaxis": "x",
         "y": [
          2
         ],
         "yaxis": "y"
        },
        {
         "alignmentgroup": "True",
         "hovertemplate": "County=%{x}<br>Number of Properties Listed=%{y}<extra></extra>",
         "legendgroup": " Toa Alta",
         "marker": {
          "color": "#add057",
          "pattern": {
           "shape": ""
          }
         },
         "name": " Toa Alta",
         "offsetgroup": " Toa Alta",
         "orientation": "v",
         "showlegend": true,
         "textposition": "auto",
         "type": "bar",
         "x": [
          " Toa Alta"
         ],
         "xaxis": "x",
         "y": [
          2
         ],
         "yaxis": "y"
        },
        {
         "alignmentgroup": "True",
         "hovertemplate": "County=%{x}<br>Number of Properties Listed=%{y}<extra></extra>",
         "legendgroup": " Toa Baja - Levittown",
         "marker": {
          "color": "#add057",
          "pattern": {
           "shape": ""
          }
         },
         "name": " Toa Baja - Levittown",
         "offsetgroup": " Toa Baja - Levittown",
         "orientation": "v",
         "showlegend": true,
         "textposition": "auto",
         "type": "bar",
         "x": [
          " Toa Baja - Levittown"
         ],
         "xaxis": "x",
         "y": [
          1
         ],
         "yaxis": "y"
        },
        {
         "alignmentgroup": "True",
         "hovertemplate": "County=%{x}<br>Number of Properties Listed=%{y}<extra></extra>",
         "legendgroup": " Trujillo Alto",
         "marker": {
          "color": "#add057",
          "pattern": {
           "shape": ""
          }
         },
         "name": " Trujillo Alto",
         "offsetgroup": " Trujillo Alto",
         "orientation": "v",
         "showlegend": true,
         "textposition": "auto",
         "type": "bar",
         "x": [
          " Trujillo Alto"
         ],
         "xaxis": "x",
         "y": [
          1
         ],
         "yaxis": "y"
        },
        {
         "alignmentgroup": "True",
         "hovertemplate": "County=%{x}<br>Number of Properties Listed=%{y}<extra></extra>",
         "legendgroup": " Villalba",
         "marker": {
          "color": "#add057",
          "pattern": {
           "shape": ""
          }
         },
         "name": " Villalba",
         "offsetgroup": " Villalba",
         "orientation": "v",
         "showlegend": true,
         "textposition": "auto",
         "type": "bar",
         "x": [
          " Villalba"
         ],
         "xaxis": "x",
         "y": [
          1
         ],
         "yaxis": "y"
        }
       ],
       "layout": {
        "barmode": "relative",
        "legend": {
         "title": {
          "text": "County"
         },
         "tracegroupgap": 0
        },
        "template": {
         "data": {
          "bar": [
           {
            "error_x": {
             "color": "#2a3f5f"
            },
            "error_y": {
             "color": "#2a3f5f"
            },
            "marker": {
             "line": {
              "color": "#E5ECF6",
              "width": 0.5
             },
             "pattern": {
              "fillmode": "overlay",
              "size": 10,
              "solidity": 0.2
             }
            },
            "type": "bar"
           }
          ],
          "barpolar": [
           {
            "marker": {
             "line": {
              "color": "#E5ECF6",
              "width": 0.5
             },
             "pattern": {
              "fillmode": "overlay",
              "size": 10,
              "solidity": 0.2
             }
            },
            "type": "barpolar"
           }
          ],
          "carpet": [
           {
            "aaxis": {
             "endlinecolor": "#2a3f5f",
             "gridcolor": "white",
             "linecolor": "white",
             "minorgridcolor": "white",
             "startlinecolor": "#2a3f5f"
            },
            "baxis": {
             "endlinecolor": "#2a3f5f",
             "gridcolor": "white",
             "linecolor": "white",
             "minorgridcolor": "white",
             "startlinecolor": "#2a3f5f"
            },
            "type": "carpet"
           }
          ],
          "choropleth": [
           {
            "colorbar": {
             "outlinewidth": 0,
             "ticks": ""
            },
            "type": "choropleth"
           }
          ],
          "contour": [
           {
            "colorbar": {
             "outlinewidth": 0,
             "ticks": ""
            },
            "colorscale": [
             [
              0,
              "#0d0887"
             ],
             [
              0.1111111111111111,
              "#46039f"
             ],
             [
              0.2222222222222222,
              "#7201a8"
             ],
             [
              0.3333333333333333,
              "#9c179e"
             ],
             [
              0.4444444444444444,
              "#bd3786"
             ],
             [
              0.5555555555555556,
              "#d8576b"
             ],
             [
              0.6666666666666666,
              "#ed7953"
             ],
             [
              0.7777777777777778,
              "#fb9f3a"
             ],
             [
              0.8888888888888888,
              "#fdca26"
             ],
             [
              1,
              "#f0f921"
             ]
            ],
            "type": "contour"
           }
          ],
          "contourcarpet": [
           {
            "colorbar": {
             "outlinewidth": 0,
             "ticks": ""
            },
            "type": "contourcarpet"
           }
          ],
          "heatmap": [
           {
            "colorbar": {
             "outlinewidth": 0,
             "ticks": ""
            },
            "colorscale": [
             [
              0,
              "#0d0887"
             ],
             [
              0.1111111111111111,
              "#46039f"
             ],
             [
              0.2222222222222222,
              "#7201a8"
             ],
             [
              0.3333333333333333,
              "#9c179e"
             ],
             [
              0.4444444444444444,
              "#bd3786"
             ],
             [
              0.5555555555555556,
              "#d8576b"
             ],
             [
              0.6666666666666666,
              "#ed7953"
             ],
             [
              0.7777777777777778,
              "#fb9f3a"
             ],
             [
              0.8888888888888888,
              "#fdca26"
             ],
             [
              1,
              "#f0f921"
             ]
            ],
            "type": "heatmap"
           }
          ],
          "heatmapgl": [
           {
            "colorbar": {
             "outlinewidth": 0,
             "ticks": ""
            },
            "colorscale": [
             [
              0,
              "#0d0887"
             ],
             [
              0.1111111111111111,
              "#46039f"
             ],
             [
              0.2222222222222222,
              "#7201a8"
             ],
             [
              0.3333333333333333,
              "#9c179e"
             ],
             [
              0.4444444444444444,
              "#bd3786"
             ],
             [
              0.5555555555555556,
              "#d8576b"
             ],
             [
              0.6666666666666666,
              "#ed7953"
             ],
             [
              0.7777777777777778,
              "#fb9f3a"
             ],
             [
              0.8888888888888888,
              "#fdca26"
             ],
             [
              1,
              "#f0f921"
             ]
            ],
            "type": "heatmapgl"
           }
          ],
          "histogram": [
           {
            "marker": {
             "pattern": {
              "fillmode": "overlay",
              "size": 10,
              "solidity": 0.2
             }
            },
            "type": "histogram"
           }
          ],
          "histogram2d": [
           {
            "colorbar": {
             "outlinewidth": 0,
             "ticks": ""
            },
            "colorscale": [
             [
              0,
              "#0d0887"
             ],
             [
              0.1111111111111111,
              "#46039f"
             ],
             [
              0.2222222222222222,
              "#7201a8"
             ],
             [
              0.3333333333333333,
              "#9c179e"
             ],
             [
              0.4444444444444444,
              "#bd3786"
             ],
             [
              0.5555555555555556,
              "#d8576b"
             ],
             [
              0.6666666666666666,
              "#ed7953"
             ],
             [
              0.7777777777777778,
              "#fb9f3a"
             ],
             [
              0.8888888888888888,
              "#fdca26"
             ],
             [
              1,
              "#f0f921"
             ]
            ],
            "type": "histogram2d"
           }
          ],
          "histogram2dcontour": [
           {
            "colorbar": {
             "outlinewidth": 0,
             "ticks": ""
            },
            "colorscale": [
             [
              0,
              "#0d0887"
             ],
             [
              0.1111111111111111,
              "#46039f"
             ],
             [
              0.2222222222222222,
              "#7201a8"
             ],
             [
              0.3333333333333333,
              "#9c179e"
             ],
             [
              0.4444444444444444,
              "#bd3786"
             ],
             [
              0.5555555555555556,
              "#d8576b"
             ],
             [
              0.6666666666666666,
              "#ed7953"
             ],
             [
              0.7777777777777778,
              "#fb9f3a"
             ],
             [
              0.8888888888888888,
              "#fdca26"
             ],
             [
              1,
              "#f0f921"
             ]
            ],
            "type": "histogram2dcontour"
           }
          ],
          "mesh3d": [
           {
            "colorbar": {
             "outlinewidth": 0,
             "ticks": ""
            },
            "type": "mesh3d"
           }
          ],
          "parcoords": [
           {
            "line": {
             "colorbar": {
              "outlinewidth": 0,
              "ticks": ""
             }
            },
            "type": "parcoords"
           }
          ],
          "pie": [
           {
            "automargin": true,
            "type": "pie"
           }
          ],
          "scatter": [
           {
            "fillpattern": {
             "fillmode": "overlay",
             "size": 10,
             "solidity": 0.2
            },
            "type": "scatter"
           }
          ],
          "scatter3d": [
           {
            "line": {
             "colorbar": {
              "outlinewidth": 0,
              "ticks": ""
             }
            },
            "marker": {
             "colorbar": {
              "outlinewidth": 0,
              "ticks": ""
             }
            },
            "type": "scatter3d"
           }
          ],
          "scattercarpet": [
           {
            "marker": {
             "colorbar": {
              "outlinewidth": 0,
              "ticks": ""
             }
            },
            "type": "scattercarpet"
           }
          ],
          "scattergeo": [
           {
            "marker": {
             "colorbar": {
              "outlinewidth": 0,
              "ticks": ""
             }
            },
            "type": "scattergeo"
           }
          ],
          "scattergl": [
           {
            "marker": {
             "colorbar": {
              "outlinewidth": 0,
              "ticks": ""
             }
            },
            "type": "scattergl"
           }
          ],
          "scattermapbox": [
           {
            "marker": {
             "colorbar": {
              "outlinewidth": 0,
              "ticks": ""
             }
            },
            "type": "scattermapbox"
           }
          ],
          "scatterpolar": [
           {
            "marker": {
             "colorbar": {
              "outlinewidth": 0,
              "ticks": ""
             }
            },
            "type": "scatterpolar"
           }
          ],
          "scatterpolargl": [
           {
            "marker": {
             "colorbar": {
              "outlinewidth": 0,
              "ticks": ""
             }
            },
            "type": "scatterpolargl"
           }
          ],
          "scatterternary": [
           {
            "marker": {
             "colorbar": {
              "outlinewidth": 0,
              "ticks": ""
             }
            },
            "type": "scatterternary"
           }
          ],
          "surface": [
           {
            "colorbar": {
             "outlinewidth": 0,
             "ticks": ""
            },
            "colorscale": [
             [
              0,
              "#0d0887"
             ],
             [
              0.1111111111111111,
              "#46039f"
             ],
             [
              0.2222222222222222,
              "#7201a8"
             ],
             [
              0.3333333333333333,
              "#9c179e"
             ],
             [
              0.4444444444444444,
              "#bd3786"
             ],
             [
              0.5555555555555556,
              "#d8576b"
             ],
             [
              0.6666666666666666,
              "#ed7953"
             ],
             [
              0.7777777777777778,
              "#fb9f3a"
             ],
             [
              0.8888888888888888,
              "#fdca26"
             ],
             [
              1,
              "#f0f921"
             ]
            ],
            "type": "surface"
           }
          ],
          "table": [
           {
            "cells": {
             "fill": {
              "color": "#EBF0F8"
             },
             "line": {
              "color": "white"
             }
            },
            "header": {
             "fill": {
              "color": "#C8D4E3"
             },
             "line": {
              "color": "white"
             }
            },
            "type": "table"
           }
          ]
         },
         "layout": {
          "annotationdefaults": {
           "arrowcolor": "#2a3f5f",
           "arrowhead": 0,
           "arrowwidth": 1
          },
          "autotypenumbers": "strict",
          "coloraxis": {
           "colorbar": {
            "outlinewidth": 0,
            "ticks": ""
           }
          },
          "colorscale": {
           "diverging": [
            [
             0,
             "#8e0152"
            ],
            [
             0.1,
             "#c51b7d"
            ],
            [
             0.2,
             "#de77ae"
            ],
            [
             0.3,
             "#f1b6da"
            ],
            [
             0.4,
             "#fde0ef"
            ],
            [
             0.5,
             "#f7f7f7"
            ],
            [
             0.6,
             "#e6f5d0"
            ],
            [
             0.7,
             "#b8e186"
            ],
            [
             0.8,
             "#7fbc41"
            ],
            [
             0.9,
             "#4d9221"
            ],
            [
             1,
             "#276419"
            ]
           ],
           "sequential": [
            [
             0,
             "#0d0887"
            ],
            [
             0.1111111111111111,
             "#46039f"
            ],
            [
             0.2222222222222222,
             "#7201a8"
            ],
            [
             0.3333333333333333,
             "#9c179e"
            ],
            [
             0.4444444444444444,
             "#bd3786"
            ],
            [
             0.5555555555555556,
             "#d8576b"
            ],
            [
             0.6666666666666666,
             "#ed7953"
            ],
            [
             0.7777777777777778,
             "#fb9f3a"
            ],
            [
             0.8888888888888888,
             "#fdca26"
            ],
            [
             1,
             "#f0f921"
            ]
           ],
           "sequentialminus": [
            [
             0,
             "#0d0887"
            ],
            [
             0.1111111111111111,
             "#46039f"
            ],
            [
             0.2222222222222222,
             "#7201a8"
            ],
            [
             0.3333333333333333,
             "#9c179e"
            ],
            [
             0.4444444444444444,
             "#bd3786"
            ],
            [
             0.5555555555555556,
             "#d8576b"
            ],
            [
             0.6666666666666666,
             "#ed7953"
            ],
            [
             0.7777777777777778,
             "#fb9f3a"
            ],
            [
             0.8888888888888888,
             "#fdca26"
            ],
            [
             1,
             "#f0f921"
            ]
           ]
          },
          "colorway": [
           "#636efa",
           "#EF553B",
           "#00cc96",
           "#ab63fa",
           "#FFA15A",
           "#19d3f3",
           "#FF6692",
           "#B6E880",
           "#FF97FF",
           "#FECB52"
          ],
          "font": {
           "color": "#2a3f5f"
          },
          "geo": {
           "bgcolor": "white",
           "lakecolor": "white",
           "landcolor": "#E5ECF6",
           "showlakes": true,
           "showland": true,
           "subunitcolor": "white"
          },
          "hoverlabel": {
           "align": "left"
          },
          "hovermode": "closest",
          "mapbox": {
           "style": "light"
          },
          "paper_bgcolor": "white",
          "plot_bgcolor": "#E5ECF6",
          "polar": {
           "angularaxis": {
            "gridcolor": "white",
            "linecolor": "white",
            "ticks": ""
           },
           "bgcolor": "#E5ECF6",
           "radialaxis": {
            "gridcolor": "white",
            "linecolor": "white",
            "ticks": ""
           }
          },
          "scene": {
           "xaxis": {
            "backgroundcolor": "#E5ECF6",
            "gridcolor": "white",
            "gridwidth": 2,
            "linecolor": "white",
            "showbackground": true,
            "ticks": "",
            "zerolinecolor": "white"
           },
           "yaxis": {
            "backgroundcolor": "#E5ECF6",
            "gridcolor": "white",
            "gridwidth": 2,
            "linecolor": "white",
            "showbackground": true,
            "ticks": "",
            "zerolinecolor": "white"
           },
           "zaxis": {
            "backgroundcolor": "#E5ECF6",
            "gridcolor": "white",
            "gridwidth": 2,
            "linecolor": "white",
            "showbackground": true,
            "ticks": "",
            "zerolinecolor": "white"
           }
          },
          "shapedefaults": {
           "line": {
            "color": "#2a3f5f"
           }
          },
          "ternary": {
           "aaxis": {
            "gridcolor": "white",
            "linecolor": "white",
            "ticks": ""
           },
           "baxis": {
            "gridcolor": "white",
            "linecolor": "white",
            "ticks": ""
           },
           "bgcolor": "#E5ECF6",
           "caxis": {
            "gridcolor": "white",
            "linecolor": "white",
            "ticks": ""
           }
          },
          "title": {
           "x": 0.05
          },
          "xaxis": {
           "automargin": true,
           "gridcolor": "white",
           "linecolor": "white",
           "ticks": "",
           "title": {
            "standoff": 15
           },
           "zerolinecolor": "white",
           "zerolinewidth": 2
          },
          "yaxis": {
           "automargin": true,
           "gridcolor": "white",
           "linecolor": "white",
           "ticks": "",
           "title": {
            "standoff": 15
           },
           "zerolinecolor": "white",
           "zerolinewidth": 2
          }
         }
        },
        "title": {
         "text": "Number of Properties Listed in Each County"
        },
        "xaxis": {
         "anchor": "y",
         "categoryarray": [
          " Aguas Buenas",
          " Arecibo",
          " Bayamón",
          " Cabo Rojo",
          " Cayey",
          " Ceiba",
          " Encantada ",
          " Fajardo",
          " Guaynabo",
          " Gurabo",
          " Humacao",
          " Mayagüez",
          " Patillas",
          " Quebradillas",
          " San Juan - Condado-Miramar",
          " San Juan - Hato Rey",
          " San Juan - Río Piedras",
          " San Juan - Santurce",
          " San Juan - Viejo SJ",
          " Toa Alta",
          " Toa Baja - Levittown",
          " Trujillo Alto",
          " Villalba"
         ],
         "categoryorder": "array",
         "domain": [
          0,
          1
         ],
         "title": {
          "text": "County"
         }
        },
        "yaxis": {
         "anchor": "x",
         "domain": [
          0,
          1
         ],
         "title": {
          "text": "Number of Properties Listed"
         }
        }
       }
      }
     },
     "metadata": {},
     "output_type": "display_data"
    }
   ],
   "source": [
    "fig.show()"
   ]
  },
  {
   "cell_type": "code",
   "execution_count": 19,
   "metadata": {},
   "outputs": [],
   "source": [
    "county_summary_sorted_price = county_summary.sort_values(by='average_price', ascending=False)"
   ]
  },
  {
   "cell_type": "code",
   "execution_count": 22,
   "metadata": {},
   "outputs": [],
   "source": [
    "fig2 = px.bar(\n",
    "    county_summary_sorted_price,\n",
    "    x='City',\n",
    "    y='average_price',\n",
    "    title='Average Property Price in Each County',\n",
    "    labels={'City': 'County', 'average_price': 'Average Price ($)'},\n",
    "    color='City',\n",
    "    color_discrete_sequence=custom_colors\n",
    ")"
   ]
  },
  {
   "cell_type": "code",
   "execution_count": 23,
   "metadata": {},
   "outputs": [
    {
     "data": {
      "application/vnd.plotly.v1+json": {
       "config": {
        "plotlyServerURL": "https://plot.ly"
       },
       "data": [
        {
         "alignmentgroup": "True",
         "hovertemplate": "County=%{x}<br>Average Price ($)=%{y}<extra></extra>",
         "legendgroup": " San Juan - Condado-Miramar",
         "marker": {
          "color": "#add057",
          "pattern": {
           "shape": ""
          }
         },
         "name": " San Juan - Condado-Miramar",
         "offsetgroup": " San Juan - Condado-Miramar",
         "orientation": "v",
         "showlegend": true,
         "textposition": "auto",
         "type": "bar",
         "x": [
          " San Juan - Condado-Miramar"
         ],
         "xaxis": "x",
         "y": [
          4900000
         ],
         "yaxis": "y"
        },
        {
         "alignmentgroup": "True",
         "hovertemplate": "County=%{x}<br>Average Price ($)=%{y}<extra></extra>",
         "legendgroup": " San Juan - Santurce",
         "marker": {
          "color": "#add057",
          "pattern": {
           "shape": ""
          }
         },
         "name": " San Juan - Santurce",
         "offsetgroup": " San Juan - Santurce",
         "orientation": "v",
         "showlegend": true,
         "textposition": "auto",
         "type": "bar",
         "x": [
          " San Juan - Santurce"
         ],
         "xaxis": "x",
         "y": [
          3750000
         ],
         "yaxis": "y"
        },
        {
         "alignmentgroup": "True",
         "hovertemplate": "County=%{x}<br>Average Price ($)=%{y}<extra></extra>",
         "legendgroup": " San Juan - Viejo SJ",
         "marker": {
          "color": "#add057",
          "pattern": {
           "shape": ""
          }
         },
         "name": " San Juan - Viejo SJ",
         "offsetgroup": " San Juan - Viejo SJ",
         "orientation": "v",
         "showlegend": true,
         "textposition": "auto",
         "type": "bar",
         "x": [
          " San Juan - Viejo SJ"
         ],
         "xaxis": "x",
         "y": [
          2537500
         ],
         "yaxis": "y"
        },
        {
         "alignmentgroup": "True",
         "hovertemplate": "County=%{x}<br>Average Price ($)=%{y}<extra></extra>",
         "legendgroup": " Aguas Buenas",
         "marker": {
          "color": "#add057",
          "pattern": {
           "shape": ""
          }
         },
         "name": " Aguas Buenas",
         "offsetgroup": " Aguas Buenas",
         "orientation": "v",
         "showlegend": true,
         "textposition": "auto",
         "type": "bar",
         "x": [
          " Aguas Buenas"
         ],
         "xaxis": "x",
         "y": [
          1150000
         ],
         "yaxis": "y"
        },
        {
         "alignmentgroup": "True",
         "hovertemplate": "County=%{x}<br>Average Price ($)=%{y}<extra></extra>",
         "legendgroup": " Bayamón",
         "marker": {
          "color": "#add057",
          "pattern": {
           "shape": ""
          }
         },
         "name": " Bayamón",
         "offsetgroup": " Bayamón",
         "orientation": "v",
         "showlegend": true,
         "textposition": "auto",
         "type": "bar",
         "x": [
          " Bayamón"
         ],
         "xaxis": "x",
         "y": [
          975000
         ],
         "yaxis": "y"
        },
        {
         "alignmentgroup": "True",
         "hovertemplate": "County=%{x}<br>Average Price ($)=%{y}<extra></extra>",
         "legendgroup": " San Juan - Hato Rey",
         "marker": {
          "color": "#add057",
          "pattern": {
           "shape": ""
          }
         },
         "name": " San Juan - Hato Rey",
         "offsetgroup": " San Juan - Hato Rey",
         "orientation": "v",
         "showlegend": true,
         "textposition": "auto",
         "type": "bar",
         "x": [
          " San Juan - Hato Rey"
         ],
         "xaxis": "x",
         "y": [
          895000
         ],
         "yaxis": "y"
        },
        {
         "alignmentgroup": "True",
         "hovertemplate": "County=%{x}<br>Average Price ($)=%{y}<extra></extra>",
         "legendgroup": " Guaynabo",
         "marker": {
          "color": "#add057",
          "pattern": {
           "shape": ""
          }
         },
         "name": " Guaynabo",
         "offsetgroup": " Guaynabo",
         "orientation": "v",
         "showlegend": true,
         "textposition": "auto",
         "type": "bar",
         "x": [
          " Guaynabo"
         ],
         "xaxis": "x",
         "y": [
          772500
         ],
         "yaxis": "y"
        },
        {
         "alignmentgroup": "True",
         "hovertemplate": "County=%{x}<br>Average Price ($)=%{y}<extra></extra>",
         "legendgroup": " Gurabo",
         "marker": {
          "color": "#add057",
          "pattern": {
           "shape": ""
          }
         },
         "name": " Gurabo",
         "offsetgroup": " Gurabo",
         "orientation": "v",
         "showlegend": true,
         "textposition": "auto",
         "type": "bar",
         "x": [
          " Gurabo"
         ],
         "xaxis": "x",
         "y": [
          638000
         ],
         "yaxis": "y"
        },
        {
         "alignmentgroup": "True",
         "hovertemplate": "County=%{x}<br>Average Price ($)=%{y}<extra></extra>",
         "legendgroup": " Villalba",
         "marker": {
          "color": "#add057",
          "pattern": {
           "shape": ""
          }
         },
         "name": " Villalba",
         "offsetgroup": " Villalba",
         "orientation": "v",
         "showlegend": true,
         "textposition": "auto",
         "type": "bar",
         "x": [
          " Villalba"
         ],
         "xaxis": "x",
         "y": [
          500000
         ],
         "yaxis": "y"
        },
        {
         "alignmentgroup": "True",
         "hovertemplate": "County=%{x}<br>Average Price ($)=%{y}<extra></extra>",
         "legendgroup": " Trujillo Alto",
         "marker": {
          "color": "#add057",
          "pattern": {
           "shape": ""
          }
         },
         "name": " Trujillo Alto",
         "offsetgroup": " Trujillo Alto",
         "orientation": "v",
         "showlegend": true,
         "textposition": "auto",
         "type": "bar",
         "x": [
          " Trujillo Alto"
         ],
         "xaxis": "x",
         "y": [
          350000
         ],
         "yaxis": "y"
        },
        {
         "alignmentgroup": "True",
         "hovertemplate": "County=%{x}<br>Average Price ($)=%{y}<extra></extra>",
         "legendgroup": " Mayagüez",
         "marker": {
          "color": "#add057",
          "pattern": {
           "shape": ""
          }
         },
         "name": " Mayagüez",
         "offsetgroup": " Mayagüez",
         "orientation": "v",
         "showlegend": true,
         "textposition": "auto",
         "type": "bar",
         "x": [
          " Mayagüez"
         ],
         "xaxis": "x",
         "y": [
          320000
         ],
         "yaxis": "y"
        },
        {
         "alignmentgroup": "True",
         "hovertemplate": "County=%{x}<br>Average Price ($)=%{y}<extra></extra>",
         "legendgroup": " Arecibo",
         "marker": {
          "color": "#add057",
          "pattern": {
           "shape": ""
          }
         },
         "name": " Arecibo",
         "offsetgroup": " Arecibo",
         "orientation": "v",
         "showlegend": true,
         "textposition": "auto",
         "type": "bar",
         "x": [
          " Arecibo"
         ],
         "xaxis": "x",
         "y": [
          279000
         ],
         "yaxis": "y"
        },
        {
         "alignmentgroup": "True",
         "hovertemplate": "County=%{x}<br>Average Price ($)=%{y}<extra></extra>",
         "legendgroup": " Toa Baja - Levittown",
         "marker": {
          "color": "#add057",
          "pattern": {
           "shape": ""
          }
         },
         "name": " Toa Baja - Levittown",
         "offsetgroup": " Toa Baja - Levittown",
         "orientation": "v",
         "showlegend": true,
         "textposition": "auto",
         "type": "bar",
         "x": [
          " Toa Baja - Levittown"
         ],
         "xaxis": "x",
         "y": [
          254000
         ],
         "yaxis": "y"
        },
        {
         "alignmentgroup": "True",
         "hovertemplate": "County=%{x}<br>Average Price ($)=%{y}<extra></extra>",
         "legendgroup": " Cabo Rojo",
         "marker": {
          "color": "#add057",
          "pattern": {
           "shape": ""
          }
         },
         "name": " Cabo Rojo",
         "offsetgroup": " Cabo Rojo",
         "orientation": "v",
         "showlegend": true,
         "textposition": "auto",
         "type": "bar",
         "x": [
          " Cabo Rojo"
         ],
         "xaxis": "x",
         "y": [
          245000
         ],
         "yaxis": "y"
        },
        {
         "alignmentgroup": "True",
         "hovertemplate": "County=%{x}<br>Average Price ($)=%{y}<extra></extra>",
         "legendgroup": " Humacao",
         "marker": {
          "color": "#add057",
          "pattern": {
           "shape": ""
          }
         },
         "name": " Humacao",
         "offsetgroup": " Humacao",
         "orientation": "v",
         "showlegend": true,
         "textposition": "auto",
         "type": "bar",
         "x": [
          " Humacao"
         ],
         "xaxis": "x",
         "y": [
          231000
         ],
         "yaxis": "y"
        },
        {
         "alignmentgroup": "True",
         "hovertemplate": "County=%{x}<br>Average Price ($)=%{y}<extra></extra>",
         "legendgroup": " Ceiba",
         "marker": {
          "color": "#add057",
          "pattern": {
           "shape": ""
          }
         },
         "name": " Ceiba",
         "offsetgroup": " Ceiba",
         "orientation": "v",
         "showlegend": true,
         "textposition": "auto",
         "type": "bar",
         "x": [
          " Ceiba"
         ],
         "xaxis": "x",
         "y": [
          225000
         ],
         "yaxis": "y"
        },
        {
         "alignmentgroup": "True",
         "hovertemplate": "County=%{x}<br>Average Price ($)=%{y}<extra></extra>",
         "legendgroup": " Encantada ",
         "marker": {
          "color": "#add057",
          "pattern": {
           "shape": ""
          }
         },
         "name": " Encantada ",
         "offsetgroup": " Encantada ",
         "orientation": "v",
         "showlegend": true,
         "textposition": "auto",
         "type": "bar",
         "x": [
          " Encantada "
         ],
         "xaxis": "x",
         "y": [
          219000
         ],
         "yaxis": "y"
        },
        {
         "alignmentgroup": "True",
         "hovertemplate": "County=%{x}<br>Average Price ($)=%{y}<extra></extra>",
         "legendgroup": " San Juan - Río Piedras",
         "marker": {
          "color": "#add057",
          "pattern": {
           "shape": ""
          }
         },
         "name": " San Juan - Río Piedras",
         "offsetgroup": " San Juan - Río Piedras",
         "orientation": "v",
         "showlegend": true,
         "textposition": "auto",
         "type": "bar",
         "x": [
          " San Juan - Río Piedras"
         ],
         "xaxis": "x",
         "y": [
          218166.66666666666
         ],
         "yaxis": "y"
        },
        {
         "alignmentgroup": "True",
         "hovertemplate": "County=%{x}<br>Average Price ($)=%{y}<extra></extra>",
         "legendgroup": " Fajardo",
         "marker": {
          "color": "#add057",
          "pattern": {
           "shape": ""
          }
         },
         "name": " Fajardo",
         "offsetgroup": " Fajardo",
         "orientation": "v",
         "showlegend": true,
         "textposition": "auto",
         "type": "bar",
         "x": [
          " Fajardo"
         ],
         "xaxis": "x",
         "y": [
          187000
         ],
         "yaxis": "y"
        },
        {
         "alignmentgroup": "True",
         "hovertemplate": "County=%{x}<br>Average Price ($)=%{y}<extra></extra>",
         "legendgroup": " Patillas",
         "marker": {
          "color": "#add057",
          "pattern": {
           "shape": ""
          }
         },
         "name": " Patillas",
         "offsetgroup": " Patillas",
         "orientation": "v",
         "showlegend": true,
         "textposition": "auto",
         "type": "bar",
         "x": [
          " Patillas"
         ],
         "xaxis": "x",
         "y": [
          175000
         ],
         "yaxis": "y"
        },
        {
         "alignmentgroup": "True",
         "hovertemplate": "County=%{x}<br>Average Price ($)=%{y}<extra></extra>",
         "legendgroup": " Toa Alta",
         "marker": {
          "color": "#add057",
          "pattern": {
           "shape": ""
          }
         },
         "name": " Toa Alta",
         "offsetgroup": " Toa Alta",
         "orientation": "v",
         "showlegend": true,
         "textposition": "auto",
         "type": "bar",
         "x": [
          " Toa Alta"
         ],
         "xaxis": "x",
         "y": [
          139950
         ],
         "yaxis": "y"
        },
        {
         "alignmentgroup": "True",
         "hovertemplate": "County=%{x}<br>Average Price ($)=%{y}<extra></extra>",
         "legendgroup": " Cayey",
         "marker": {
          "color": "#add057",
          "pattern": {
           "shape": ""
          }
         },
         "name": " Cayey",
         "offsetgroup": " Cayey",
         "orientation": "v",
         "showlegend": true,
         "textposition": "auto",
         "type": "bar",
         "x": [
          " Cayey"
         ],
         "xaxis": "x",
         "y": [
          100000
         ],
         "yaxis": "y"
        },
        {
         "alignmentgroup": "True",
         "hovertemplate": "County=%{x}<br>Average Price ($)=%{y}<extra></extra>",
         "legendgroup": " Quebradillas",
         "marker": {
          "color": "#add057",
          "pattern": {
           "shape": ""
          }
         },
         "name": " Quebradillas",
         "offsetgroup": " Quebradillas",
         "orientation": "v",
         "showlegend": true,
         "textposition": "auto",
         "type": "bar",
         "x": [
          " Quebradillas"
         ],
         "xaxis": "x",
         "y": [
          57999
         ],
         "yaxis": "y"
        }
       ],
       "layout": {
        "barmode": "relative",
        "legend": {
         "title": {
          "text": "County"
         },
         "tracegroupgap": 0
        },
        "template": {
         "data": {
          "bar": [
           {
            "error_x": {
             "color": "#2a3f5f"
            },
            "error_y": {
             "color": "#2a3f5f"
            },
            "marker": {
             "line": {
              "color": "#E5ECF6",
              "width": 0.5
             },
             "pattern": {
              "fillmode": "overlay",
              "size": 10,
              "solidity": 0.2
             }
            },
            "type": "bar"
           }
          ],
          "barpolar": [
           {
            "marker": {
             "line": {
              "color": "#E5ECF6",
              "width": 0.5
             },
             "pattern": {
              "fillmode": "overlay",
              "size": 10,
              "solidity": 0.2
             }
            },
            "type": "barpolar"
           }
          ],
          "carpet": [
           {
            "aaxis": {
             "endlinecolor": "#2a3f5f",
             "gridcolor": "white",
             "linecolor": "white",
             "minorgridcolor": "white",
             "startlinecolor": "#2a3f5f"
            },
            "baxis": {
             "endlinecolor": "#2a3f5f",
             "gridcolor": "white",
             "linecolor": "white",
             "minorgridcolor": "white",
             "startlinecolor": "#2a3f5f"
            },
            "type": "carpet"
           }
          ],
          "choropleth": [
           {
            "colorbar": {
             "outlinewidth": 0,
             "ticks": ""
            },
            "type": "choropleth"
           }
          ],
          "contour": [
           {
            "colorbar": {
             "outlinewidth": 0,
             "ticks": ""
            },
            "colorscale": [
             [
              0,
              "#0d0887"
             ],
             [
              0.1111111111111111,
              "#46039f"
             ],
             [
              0.2222222222222222,
              "#7201a8"
             ],
             [
              0.3333333333333333,
              "#9c179e"
             ],
             [
              0.4444444444444444,
              "#bd3786"
             ],
             [
              0.5555555555555556,
              "#d8576b"
             ],
             [
              0.6666666666666666,
              "#ed7953"
             ],
             [
              0.7777777777777778,
              "#fb9f3a"
             ],
             [
              0.8888888888888888,
              "#fdca26"
             ],
             [
              1,
              "#f0f921"
             ]
            ],
            "type": "contour"
           }
          ],
          "contourcarpet": [
           {
            "colorbar": {
             "outlinewidth": 0,
             "ticks": ""
            },
            "type": "contourcarpet"
           }
          ],
          "heatmap": [
           {
            "colorbar": {
             "outlinewidth": 0,
             "ticks": ""
            },
            "colorscale": [
             [
              0,
              "#0d0887"
             ],
             [
              0.1111111111111111,
              "#46039f"
             ],
             [
              0.2222222222222222,
              "#7201a8"
             ],
             [
              0.3333333333333333,
              "#9c179e"
             ],
             [
              0.4444444444444444,
              "#bd3786"
             ],
             [
              0.5555555555555556,
              "#d8576b"
             ],
             [
              0.6666666666666666,
              "#ed7953"
             ],
             [
              0.7777777777777778,
              "#fb9f3a"
             ],
             [
              0.8888888888888888,
              "#fdca26"
             ],
             [
              1,
              "#f0f921"
             ]
            ],
            "type": "heatmap"
           }
          ],
          "heatmapgl": [
           {
            "colorbar": {
             "outlinewidth": 0,
             "ticks": ""
            },
            "colorscale": [
             [
              0,
              "#0d0887"
             ],
             [
              0.1111111111111111,
              "#46039f"
             ],
             [
              0.2222222222222222,
              "#7201a8"
             ],
             [
              0.3333333333333333,
              "#9c179e"
             ],
             [
              0.4444444444444444,
              "#bd3786"
             ],
             [
              0.5555555555555556,
              "#d8576b"
             ],
             [
              0.6666666666666666,
              "#ed7953"
             ],
             [
              0.7777777777777778,
              "#fb9f3a"
             ],
             [
              0.8888888888888888,
              "#fdca26"
             ],
             [
              1,
              "#f0f921"
             ]
            ],
            "type": "heatmapgl"
           }
          ],
          "histogram": [
           {
            "marker": {
             "pattern": {
              "fillmode": "overlay",
              "size": 10,
              "solidity": 0.2
             }
            },
            "type": "histogram"
           }
          ],
          "histogram2d": [
           {
            "colorbar": {
             "outlinewidth": 0,
             "ticks": ""
            },
            "colorscale": [
             [
              0,
              "#0d0887"
             ],
             [
              0.1111111111111111,
              "#46039f"
             ],
             [
              0.2222222222222222,
              "#7201a8"
             ],
             [
              0.3333333333333333,
              "#9c179e"
             ],
             [
              0.4444444444444444,
              "#bd3786"
             ],
             [
              0.5555555555555556,
              "#d8576b"
             ],
             [
              0.6666666666666666,
              "#ed7953"
             ],
             [
              0.7777777777777778,
              "#fb9f3a"
             ],
             [
              0.8888888888888888,
              "#fdca26"
             ],
             [
              1,
              "#f0f921"
             ]
            ],
            "type": "histogram2d"
           }
          ],
          "histogram2dcontour": [
           {
            "colorbar": {
             "outlinewidth": 0,
             "ticks": ""
            },
            "colorscale": [
             [
              0,
              "#0d0887"
             ],
             [
              0.1111111111111111,
              "#46039f"
             ],
             [
              0.2222222222222222,
              "#7201a8"
             ],
             [
              0.3333333333333333,
              "#9c179e"
             ],
             [
              0.4444444444444444,
              "#bd3786"
             ],
             [
              0.5555555555555556,
              "#d8576b"
             ],
             [
              0.6666666666666666,
              "#ed7953"
             ],
             [
              0.7777777777777778,
              "#fb9f3a"
             ],
             [
              0.8888888888888888,
              "#fdca26"
             ],
             [
              1,
              "#f0f921"
             ]
            ],
            "type": "histogram2dcontour"
           }
          ],
          "mesh3d": [
           {
            "colorbar": {
             "outlinewidth": 0,
             "ticks": ""
            },
            "type": "mesh3d"
           }
          ],
          "parcoords": [
           {
            "line": {
             "colorbar": {
              "outlinewidth": 0,
              "ticks": ""
             }
            },
            "type": "parcoords"
           }
          ],
          "pie": [
           {
            "automargin": true,
            "type": "pie"
           }
          ],
          "scatter": [
           {
            "fillpattern": {
             "fillmode": "overlay",
             "size": 10,
             "solidity": 0.2
            },
            "type": "scatter"
           }
          ],
          "scatter3d": [
           {
            "line": {
             "colorbar": {
              "outlinewidth": 0,
              "ticks": ""
             }
            },
            "marker": {
             "colorbar": {
              "outlinewidth": 0,
              "ticks": ""
             }
            },
            "type": "scatter3d"
           }
          ],
          "scattercarpet": [
           {
            "marker": {
             "colorbar": {
              "outlinewidth": 0,
              "ticks": ""
             }
            },
            "type": "scattercarpet"
           }
          ],
          "scattergeo": [
           {
            "marker": {
             "colorbar": {
              "outlinewidth": 0,
              "ticks": ""
             }
            },
            "type": "scattergeo"
           }
          ],
          "scattergl": [
           {
            "marker": {
             "colorbar": {
              "outlinewidth": 0,
              "ticks": ""
             }
            },
            "type": "scattergl"
           }
          ],
          "scattermapbox": [
           {
            "marker": {
             "colorbar": {
              "outlinewidth": 0,
              "ticks": ""
             }
            },
            "type": "scattermapbox"
           }
          ],
          "scatterpolar": [
           {
            "marker": {
             "colorbar": {
              "outlinewidth": 0,
              "ticks": ""
             }
            },
            "type": "scatterpolar"
           }
          ],
          "scatterpolargl": [
           {
            "marker": {
             "colorbar": {
              "outlinewidth": 0,
              "ticks": ""
             }
            },
            "type": "scatterpolargl"
           }
          ],
          "scatterternary": [
           {
            "marker": {
             "colorbar": {
              "outlinewidth": 0,
              "ticks": ""
             }
            },
            "type": "scatterternary"
           }
          ],
          "surface": [
           {
            "colorbar": {
             "outlinewidth": 0,
             "ticks": ""
            },
            "colorscale": [
             [
              0,
              "#0d0887"
             ],
             [
              0.1111111111111111,
              "#46039f"
             ],
             [
              0.2222222222222222,
              "#7201a8"
             ],
             [
              0.3333333333333333,
              "#9c179e"
             ],
             [
              0.4444444444444444,
              "#bd3786"
             ],
             [
              0.5555555555555556,
              "#d8576b"
             ],
             [
              0.6666666666666666,
              "#ed7953"
             ],
             [
              0.7777777777777778,
              "#fb9f3a"
             ],
             [
              0.8888888888888888,
              "#fdca26"
             ],
             [
              1,
              "#f0f921"
             ]
            ],
            "type": "surface"
           }
          ],
          "table": [
           {
            "cells": {
             "fill": {
              "color": "#EBF0F8"
             },
             "line": {
              "color": "white"
             }
            },
            "header": {
             "fill": {
              "color": "#C8D4E3"
             },
             "line": {
              "color": "white"
             }
            },
            "type": "table"
           }
          ]
         },
         "layout": {
          "annotationdefaults": {
           "arrowcolor": "#2a3f5f",
           "arrowhead": 0,
           "arrowwidth": 1
          },
          "autotypenumbers": "strict",
          "coloraxis": {
           "colorbar": {
            "outlinewidth": 0,
            "ticks": ""
           }
          },
          "colorscale": {
           "diverging": [
            [
             0,
             "#8e0152"
            ],
            [
             0.1,
             "#c51b7d"
            ],
            [
             0.2,
             "#de77ae"
            ],
            [
             0.3,
             "#f1b6da"
            ],
            [
             0.4,
             "#fde0ef"
            ],
            [
             0.5,
             "#f7f7f7"
            ],
            [
             0.6,
             "#e6f5d0"
            ],
            [
             0.7,
             "#b8e186"
            ],
            [
             0.8,
             "#7fbc41"
            ],
            [
             0.9,
             "#4d9221"
            ],
            [
             1,
             "#276419"
            ]
           ],
           "sequential": [
            [
             0,
             "#0d0887"
            ],
            [
             0.1111111111111111,
             "#46039f"
            ],
            [
             0.2222222222222222,
             "#7201a8"
            ],
            [
             0.3333333333333333,
             "#9c179e"
            ],
            [
             0.4444444444444444,
             "#bd3786"
            ],
            [
             0.5555555555555556,
             "#d8576b"
            ],
            [
             0.6666666666666666,
             "#ed7953"
            ],
            [
             0.7777777777777778,
             "#fb9f3a"
            ],
            [
             0.8888888888888888,
             "#fdca26"
            ],
            [
             1,
             "#f0f921"
            ]
           ],
           "sequentialminus": [
            [
             0,
             "#0d0887"
            ],
            [
             0.1111111111111111,
             "#46039f"
            ],
            [
             0.2222222222222222,
             "#7201a8"
            ],
            [
             0.3333333333333333,
             "#9c179e"
            ],
            [
             0.4444444444444444,
             "#bd3786"
            ],
            [
             0.5555555555555556,
             "#d8576b"
            ],
            [
             0.6666666666666666,
             "#ed7953"
            ],
            [
             0.7777777777777778,
             "#fb9f3a"
            ],
            [
             0.8888888888888888,
             "#fdca26"
            ],
            [
             1,
             "#f0f921"
            ]
           ]
          },
          "colorway": [
           "#636efa",
           "#EF553B",
           "#00cc96",
           "#ab63fa",
           "#FFA15A",
           "#19d3f3",
           "#FF6692",
           "#B6E880",
           "#FF97FF",
           "#FECB52"
          ],
          "font": {
           "color": "#2a3f5f"
          },
          "geo": {
           "bgcolor": "white",
           "lakecolor": "white",
           "landcolor": "#E5ECF6",
           "showlakes": true,
           "showland": true,
           "subunitcolor": "white"
          },
          "hoverlabel": {
           "align": "left"
          },
          "hovermode": "closest",
          "mapbox": {
           "style": "light"
          },
          "paper_bgcolor": "white",
          "plot_bgcolor": "#E5ECF6",
          "polar": {
           "angularaxis": {
            "gridcolor": "white",
            "linecolor": "white",
            "ticks": ""
           },
           "bgcolor": "#E5ECF6",
           "radialaxis": {
            "gridcolor": "white",
            "linecolor": "white",
            "ticks": ""
           }
          },
          "scene": {
           "xaxis": {
            "backgroundcolor": "#E5ECF6",
            "gridcolor": "white",
            "gridwidth": 2,
            "linecolor": "white",
            "showbackground": true,
            "ticks": "",
            "zerolinecolor": "white"
           },
           "yaxis": {
            "backgroundcolor": "#E5ECF6",
            "gridcolor": "white",
            "gridwidth": 2,
            "linecolor": "white",
            "showbackground": true,
            "ticks": "",
            "zerolinecolor": "white"
           },
           "zaxis": {
            "backgroundcolor": "#E5ECF6",
            "gridcolor": "white",
            "gridwidth": 2,
            "linecolor": "white",
            "showbackground": true,
            "ticks": "",
            "zerolinecolor": "white"
           }
          },
          "shapedefaults": {
           "line": {
            "color": "#2a3f5f"
           }
          },
          "ternary": {
           "aaxis": {
            "gridcolor": "white",
            "linecolor": "white",
            "ticks": ""
           },
           "baxis": {
            "gridcolor": "white",
            "linecolor": "white",
            "ticks": ""
           },
           "bgcolor": "#E5ECF6",
           "caxis": {
            "gridcolor": "white",
            "linecolor": "white",
            "ticks": ""
           }
          },
          "title": {
           "x": 0.05
          },
          "xaxis": {
           "automargin": true,
           "gridcolor": "white",
           "linecolor": "white",
           "ticks": "",
           "title": {
            "standoff": 15
           },
           "zerolinecolor": "white",
           "zerolinewidth": 2
          },
          "yaxis": {
           "automargin": true,
           "gridcolor": "white",
           "linecolor": "white",
           "ticks": "",
           "title": {
            "standoff": 15
           },
           "zerolinecolor": "white",
           "zerolinewidth": 2
          }
         }
        },
        "title": {
         "text": "Average Property Price in Each County"
        },
        "xaxis": {
         "anchor": "y",
         "categoryarray": [
          " San Juan - Condado-Miramar",
          " San Juan - Santurce",
          " San Juan - Viejo SJ",
          " Aguas Buenas",
          " Bayamón",
          " San Juan - Hato Rey",
          " Guaynabo",
          " Gurabo",
          " Villalba",
          " Trujillo Alto",
          " Mayagüez",
          " Arecibo",
          " Toa Baja - Levittown",
          " Cabo Rojo",
          " Humacao",
          " Ceiba",
          " Encantada ",
          " San Juan - Río Piedras",
          " Fajardo",
          " Patillas",
          " Toa Alta",
          " Cayey",
          " Quebradillas"
         ],
         "categoryorder": "array",
         "domain": [
          0,
          1
         ],
         "title": {
          "text": "County"
         }
        },
        "yaxis": {
         "anchor": "x",
         "domain": [
          0,
          1
         ],
         "title": {
          "text": "Average Price ($)"
         }
        }
       }
      }
     },
     "metadata": {},
     "output_type": "display_data"
    }
   ],
   "source": [
    "fig2.show()"
   ]
  },
  {
   "cell_type": "code",
   "execution_count": 32,
   "metadata": {},
   "outputs": [],
   "source": [
    "type_counts = df['Type'].value_counts().reset_index()\n",
    "type_counts.columns = ['Type','Count']\n",
    "type_per_county = df.groupby(['City' , 'Type']).size().reset_index(name='Count')"
   ]
  },
  {
   "cell_type": "code",
   "execution_count": 33,
   "metadata": {},
   "outputs": [
    {
     "data": {
      "text/html": [
       "<div>\n",
       "<style scoped>\n",
       "    .dataframe tbody tr th:only-of-type {\n",
       "        vertical-align: middle;\n",
       "    }\n",
       "\n",
       "    .dataframe tbody tr th {\n",
       "        vertical-align: top;\n",
       "    }\n",
       "\n",
       "    .dataframe thead th {\n",
       "        text-align: right;\n",
       "    }\n",
       "</style>\n",
       "<table border=\"1\" class=\"dataframe\">\n",
       "  <thead>\n",
       "    <tr style=\"text-align: right;\">\n",
       "      <th></th>\n",
       "      <th>Type</th>\n",
       "      <th>Count</th>\n",
       "    </tr>\n",
       "  </thead>\n",
       "  <tbody>\n",
       "    <tr>\n",
       "      <th>0</th>\n",
       "      <td>Casa</td>\n",
       "      <td>12</td>\n",
       "    </tr>\n",
       "    <tr>\n",
       "      <th>1</th>\n",
       "      <td>Apartamento</td>\n",
       "      <td>5</td>\n",
       "    </tr>\n",
       "    <tr>\n",
       "      <th>2</th>\n",
       "      <td>Solar</td>\n",
       "      <td>4</td>\n",
       "    </tr>\n",
       "    <tr>\n",
       "      <th>3</th>\n",
       "      <td>Comercial</td>\n",
       "      <td>4</td>\n",
       "    </tr>\n",
       "    <tr>\n",
       "      <th>4</th>\n",
       "      <td>Finca</td>\n",
       "      <td>2</td>\n",
       "    </tr>\n",
       "    <tr>\n",
       "      <th>5</th>\n",
       "      <td>Comercial Repo</td>\n",
       "      <td>1</td>\n",
       "    </tr>\n",
       "    <tr>\n",
       "      <th>6</th>\n",
       "      <td>MultiFamiliar</td>\n",
       "      <td>1</td>\n",
       "    </tr>\n",
       "    <tr>\n",
       "      <th>7</th>\n",
       "      <td>Apt/WalkUp</td>\n",
       "      <td>1</td>\n",
       "    </tr>\n",
       "  </tbody>\n",
       "</table>\n",
       "</div>"
      ],
      "text/plain": [
       "             Type  Count\n",
       "0           Casa      12\n",
       "1    Apartamento       5\n",
       "2          Solar       4\n",
       "3      Comercial       4\n",
       "4          Finca       2\n",
       "5  Comercial Repo      1\n",
       "6  MultiFamiliar       1\n",
       "7     Apt/WalkUp       1"
      ]
     },
     "execution_count": 33,
     "metadata": {},
     "output_type": "execute_result"
    }
   ],
   "source": [
    "type_counts"
   ]
  },
  {
   "cell_type": "code",
   "execution_count": 35,
   "metadata": {},
   "outputs": [],
   "source": [
    "pie_fig = px.pie(\n",
    "    type_counts,\n",
    "    names = 'Type',\n",
    "    values = 'Count',\n",
    "     title = 'Distribution of Properties by Type',\n",
    "     color_discrete_sequence=px.colors.qualitative.Pastel\n",
    ")"
   ]
  },
  {
   "cell_type": "code",
   "execution_count": 36,
   "metadata": {},
   "outputs": [
    {
     "data": {
      "application/vnd.plotly.v1+json": {
       "config": {
        "plotlyServerURL": "https://plot.ly"
       },
       "data": [
        {
         "domain": {
          "x": [
           0,
           1
          ],
          "y": [
           0,
           1
          ]
         },
         "hovertemplate": "Type=%{label}<br>Count=%{value}<extra></extra>",
         "labels": [
          "Casa ",
          "Apartamento ",
          "Solar ",
          "Comercial ",
          "Finca ",
          "Comercial Repo",
          "MultiFamiliar ",
          "Apt/WalkUp "
         ],
         "legendgroup": "",
         "name": "",
         "showlegend": true,
         "type": "pie",
         "values": [
          12,
          5,
          4,
          4,
          2,
          1,
          1,
          1
         ]
        }
       ],
       "layout": {
        "legend": {
         "tracegroupgap": 0
        },
        "piecolorway": [
         "rgb(102, 197, 204)",
         "rgb(246, 207, 113)",
         "rgb(248, 156, 116)",
         "rgb(220, 176, 242)",
         "rgb(135, 197, 95)",
         "rgb(158, 185, 243)",
         "rgb(254, 136, 177)",
         "rgb(201, 219, 116)",
         "rgb(139, 224, 164)",
         "rgb(180, 151, 231)",
         "rgb(179, 179, 179)"
        ],
        "template": {
         "data": {
          "bar": [
           {
            "error_x": {
             "color": "#2a3f5f"
            },
            "error_y": {
             "color": "#2a3f5f"
            },
            "marker": {
             "line": {
              "color": "#E5ECF6",
              "width": 0.5
             },
             "pattern": {
              "fillmode": "overlay",
              "size": 10,
              "solidity": 0.2
             }
            },
            "type": "bar"
           }
          ],
          "barpolar": [
           {
            "marker": {
             "line": {
              "color": "#E5ECF6",
              "width": 0.5
             },
             "pattern": {
              "fillmode": "overlay",
              "size": 10,
              "solidity": 0.2
             }
            },
            "type": "barpolar"
           }
          ],
          "carpet": [
           {
            "aaxis": {
             "endlinecolor": "#2a3f5f",
             "gridcolor": "white",
             "linecolor": "white",
             "minorgridcolor": "white",
             "startlinecolor": "#2a3f5f"
            },
            "baxis": {
             "endlinecolor": "#2a3f5f",
             "gridcolor": "white",
             "linecolor": "white",
             "minorgridcolor": "white",
             "startlinecolor": "#2a3f5f"
            },
            "type": "carpet"
           }
          ],
          "choropleth": [
           {
            "colorbar": {
             "outlinewidth": 0,
             "ticks": ""
            },
            "type": "choropleth"
           }
          ],
          "contour": [
           {
            "colorbar": {
             "outlinewidth": 0,
             "ticks": ""
            },
            "colorscale": [
             [
              0,
              "#0d0887"
             ],
             [
              0.1111111111111111,
              "#46039f"
             ],
             [
              0.2222222222222222,
              "#7201a8"
             ],
             [
              0.3333333333333333,
              "#9c179e"
             ],
             [
              0.4444444444444444,
              "#bd3786"
             ],
             [
              0.5555555555555556,
              "#d8576b"
             ],
             [
              0.6666666666666666,
              "#ed7953"
             ],
             [
              0.7777777777777778,
              "#fb9f3a"
             ],
             [
              0.8888888888888888,
              "#fdca26"
             ],
             [
              1,
              "#f0f921"
             ]
            ],
            "type": "contour"
           }
          ],
          "contourcarpet": [
           {
            "colorbar": {
             "outlinewidth": 0,
             "ticks": ""
            },
            "type": "contourcarpet"
           }
          ],
          "heatmap": [
           {
            "colorbar": {
             "outlinewidth": 0,
             "ticks": ""
            },
            "colorscale": [
             [
              0,
              "#0d0887"
             ],
             [
              0.1111111111111111,
              "#46039f"
             ],
             [
              0.2222222222222222,
              "#7201a8"
             ],
             [
              0.3333333333333333,
              "#9c179e"
             ],
             [
              0.4444444444444444,
              "#bd3786"
             ],
             [
              0.5555555555555556,
              "#d8576b"
             ],
             [
              0.6666666666666666,
              "#ed7953"
             ],
             [
              0.7777777777777778,
              "#fb9f3a"
             ],
             [
              0.8888888888888888,
              "#fdca26"
             ],
             [
              1,
              "#f0f921"
             ]
            ],
            "type": "heatmap"
           }
          ],
          "heatmapgl": [
           {
            "colorbar": {
             "outlinewidth": 0,
             "ticks": ""
            },
            "colorscale": [
             [
              0,
              "#0d0887"
             ],
             [
              0.1111111111111111,
              "#46039f"
             ],
             [
              0.2222222222222222,
              "#7201a8"
             ],
             [
              0.3333333333333333,
              "#9c179e"
             ],
             [
              0.4444444444444444,
              "#bd3786"
             ],
             [
              0.5555555555555556,
              "#d8576b"
             ],
             [
              0.6666666666666666,
              "#ed7953"
             ],
             [
              0.7777777777777778,
              "#fb9f3a"
             ],
             [
              0.8888888888888888,
              "#fdca26"
             ],
             [
              1,
              "#f0f921"
             ]
            ],
            "type": "heatmapgl"
           }
          ],
          "histogram": [
           {
            "marker": {
             "pattern": {
              "fillmode": "overlay",
              "size": 10,
              "solidity": 0.2
             }
            },
            "type": "histogram"
           }
          ],
          "histogram2d": [
           {
            "colorbar": {
             "outlinewidth": 0,
             "ticks": ""
            },
            "colorscale": [
             [
              0,
              "#0d0887"
             ],
             [
              0.1111111111111111,
              "#46039f"
             ],
             [
              0.2222222222222222,
              "#7201a8"
             ],
             [
              0.3333333333333333,
              "#9c179e"
             ],
             [
              0.4444444444444444,
              "#bd3786"
             ],
             [
              0.5555555555555556,
              "#d8576b"
             ],
             [
              0.6666666666666666,
              "#ed7953"
             ],
             [
              0.7777777777777778,
              "#fb9f3a"
             ],
             [
              0.8888888888888888,
              "#fdca26"
             ],
             [
              1,
              "#f0f921"
             ]
            ],
            "type": "histogram2d"
           }
          ],
          "histogram2dcontour": [
           {
            "colorbar": {
             "outlinewidth": 0,
             "ticks": ""
            },
            "colorscale": [
             [
              0,
              "#0d0887"
             ],
             [
              0.1111111111111111,
              "#46039f"
             ],
             [
              0.2222222222222222,
              "#7201a8"
             ],
             [
              0.3333333333333333,
              "#9c179e"
             ],
             [
              0.4444444444444444,
              "#bd3786"
             ],
             [
              0.5555555555555556,
              "#d8576b"
             ],
             [
              0.6666666666666666,
              "#ed7953"
             ],
             [
              0.7777777777777778,
              "#fb9f3a"
             ],
             [
              0.8888888888888888,
              "#fdca26"
             ],
             [
              1,
              "#f0f921"
             ]
            ],
            "type": "histogram2dcontour"
           }
          ],
          "mesh3d": [
           {
            "colorbar": {
             "outlinewidth": 0,
             "ticks": ""
            },
            "type": "mesh3d"
           }
          ],
          "parcoords": [
           {
            "line": {
             "colorbar": {
              "outlinewidth": 0,
              "ticks": ""
             }
            },
            "type": "parcoords"
           }
          ],
          "pie": [
           {
            "automargin": true,
            "type": "pie"
           }
          ],
          "scatter": [
           {
            "fillpattern": {
             "fillmode": "overlay",
             "size": 10,
             "solidity": 0.2
            },
            "type": "scatter"
           }
          ],
          "scatter3d": [
           {
            "line": {
             "colorbar": {
              "outlinewidth": 0,
              "ticks": ""
             }
            },
            "marker": {
             "colorbar": {
              "outlinewidth": 0,
              "ticks": ""
             }
            },
            "type": "scatter3d"
           }
          ],
          "scattercarpet": [
           {
            "marker": {
             "colorbar": {
              "outlinewidth": 0,
              "ticks": ""
             }
            },
            "type": "scattercarpet"
           }
          ],
          "scattergeo": [
           {
            "marker": {
             "colorbar": {
              "outlinewidth": 0,
              "ticks": ""
             }
            },
            "type": "scattergeo"
           }
          ],
          "scattergl": [
           {
            "marker": {
             "colorbar": {
              "outlinewidth": 0,
              "ticks": ""
             }
            },
            "type": "scattergl"
           }
          ],
          "scattermapbox": [
           {
            "marker": {
             "colorbar": {
              "outlinewidth": 0,
              "ticks": ""
             }
            },
            "type": "scattermapbox"
           }
          ],
          "scatterpolar": [
           {
            "marker": {
             "colorbar": {
              "outlinewidth": 0,
              "ticks": ""
             }
            },
            "type": "scatterpolar"
           }
          ],
          "scatterpolargl": [
           {
            "marker": {
             "colorbar": {
              "outlinewidth": 0,
              "ticks": ""
             }
            },
            "type": "scatterpolargl"
           }
          ],
          "scatterternary": [
           {
            "marker": {
             "colorbar": {
              "outlinewidth": 0,
              "ticks": ""
             }
            },
            "type": "scatterternary"
           }
          ],
          "surface": [
           {
            "colorbar": {
             "outlinewidth": 0,
             "ticks": ""
            },
            "colorscale": [
             [
              0,
              "#0d0887"
             ],
             [
              0.1111111111111111,
              "#46039f"
             ],
             [
              0.2222222222222222,
              "#7201a8"
             ],
             [
              0.3333333333333333,
              "#9c179e"
             ],
             [
              0.4444444444444444,
              "#bd3786"
             ],
             [
              0.5555555555555556,
              "#d8576b"
             ],
             [
              0.6666666666666666,
              "#ed7953"
             ],
             [
              0.7777777777777778,
              "#fb9f3a"
             ],
             [
              0.8888888888888888,
              "#fdca26"
             ],
             [
              1,
              "#f0f921"
             ]
            ],
            "type": "surface"
           }
          ],
          "table": [
           {
            "cells": {
             "fill": {
              "color": "#EBF0F8"
             },
             "line": {
              "color": "white"
             }
            },
            "header": {
             "fill": {
              "color": "#C8D4E3"
             },
             "line": {
              "color": "white"
             }
            },
            "type": "table"
           }
          ]
         },
         "layout": {
          "annotationdefaults": {
           "arrowcolor": "#2a3f5f",
           "arrowhead": 0,
           "arrowwidth": 1
          },
          "autotypenumbers": "strict",
          "coloraxis": {
           "colorbar": {
            "outlinewidth": 0,
            "ticks": ""
           }
          },
          "colorscale": {
           "diverging": [
            [
             0,
             "#8e0152"
            ],
            [
             0.1,
             "#c51b7d"
            ],
            [
             0.2,
             "#de77ae"
            ],
            [
             0.3,
             "#f1b6da"
            ],
            [
             0.4,
             "#fde0ef"
            ],
            [
             0.5,
             "#f7f7f7"
            ],
            [
             0.6,
             "#e6f5d0"
            ],
            [
             0.7,
             "#b8e186"
            ],
            [
             0.8,
             "#7fbc41"
            ],
            [
             0.9,
             "#4d9221"
            ],
            [
             1,
             "#276419"
            ]
           ],
           "sequential": [
            [
             0,
             "#0d0887"
            ],
            [
             0.1111111111111111,
             "#46039f"
            ],
            [
             0.2222222222222222,
             "#7201a8"
            ],
            [
             0.3333333333333333,
             "#9c179e"
            ],
            [
             0.4444444444444444,
             "#bd3786"
            ],
            [
             0.5555555555555556,
             "#d8576b"
            ],
            [
             0.6666666666666666,
             "#ed7953"
            ],
            [
             0.7777777777777778,
             "#fb9f3a"
            ],
            [
             0.8888888888888888,
             "#fdca26"
            ],
            [
             1,
             "#f0f921"
            ]
           ],
           "sequentialminus": [
            [
             0,
             "#0d0887"
            ],
            [
             0.1111111111111111,
             "#46039f"
            ],
            [
             0.2222222222222222,
             "#7201a8"
            ],
            [
             0.3333333333333333,
             "#9c179e"
            ],
            [
             0.4444444444444444,
             "#bd3786"
            ],
            [
             0.5555555555555556,
             "#d8576b"
            ],
            [
             0.6666666666666666,
             "#ed7953"
            ],
            [
             0.7777777777777778,
             "#fb9f3a"
            ],
            [
             0.8888888888888888,
             "#fdca26"
            ],
            [
             1,
             "#f0f921"
            ]
           ]
          },
          "colorway": [
           "#636efa",
           "#EF553B",
           "#00cc96",
           "#ab63fa",
           "#FFA15A",
           "#19d3f3",
           "#FF6692",
           "#B6E880",
           "#FF97FF",
           "#FECB52"
          ],
          "font": {
           "color": "#2a3f5f"
          },
          "geo": {
           "bgcolor": "white",
           "lakecolor": "white",
           "landcolor": "#E5ECF6",
           "showlakes": true,
           "showland": true,
           "subunitcolor": "white"
          },
          "hoverlabel": {
           "align": "left"
          },
          "hovermode": "closest",
          "mapbox": {
           "style": "light"
          },
          "paper_bgcolor": "white",
          "plot_bgcolor": "#E5ECF6",
          "polar": {
           "angularaxis": {
            "gridcolor": "white",
            "linecolor": "white",
            "ticks": ""
           },
           "bgcolor": "#E5ECF6",
           "radialaxis": {
            "gridcolor": "white",
            "linecolor": "white",
            "ticks": ""
           }
          },
          "scene": {
           "xaxis": {
            "backgroundcolor": "#E5ECF6",
            "gridcolor": "white",
            "gridwidth": 2,
            "linecolor": "white",
            "showbackground": true,
            "ticks": "",
            "zerolinecolor": "white"
           },
           "yaxis": {
            "backgroundcolor": "#E5ECF6",
            "gridcolor": "white",
            "gridwidth": 2,
            "linecolor": "white",
            "showbackground": true,
            "ticks": "",
            "zerolinecolor": "white"
           },
           "zaxis": {
            "backgroundcolor": "#E5ECF6",
            "gridcolor": "white",
            "gridwidth": 2,
            "linecolor": "white",
            "showbackground": true,
            "ticks": "",
            "zerolinecolor": "white"
           }
          },
          "shapedefaults": {
           "line": {
            "color": "#2a3f5f"
           }
          },
          "ternary": {
           "aaxis": {
            "gridcolor": "white",
            "linecolor": "white",
            "ticks": ""
           },
           "baxis": {
            "gridcolor": "white",
            "linecolor": "white",
            "ticks": ""
           },
           "bgcolor": "#E5ECF6",
           "caxis": {
            "gridcolor": "white",
            "linecolor": "white",
            "ticks": ""
           }
          },
          "title": {
           "x": 0.05
          },
          "xaxis": {
           "automargin": true,
           "gridcolor": "white",
           "linecolor": "white",
           "ticks": "",
           "title": {
            "standoff": 15
           },
           "zerolinecolor": "white",
           "zerolinewidth": 2
          },
          "yaxis": {
           "automargin": true,
           "gridcolor": "white",
           "linecolor": "white",
           "ticks": "",
           "title": {
            "standoff": 15
           },
           "zerolinecolor": "white",
           "zerolinewidth": 2
          }
         }
        },
        "title": {
         "text": "Distribution of Properties by Type"
        }
       }
      }
     },
     "metadata": {},
     "output_type": "display_data"
    }
   ],
   "source": [
    "pie_fig.show()"
   ]
  },
  {
   "cell_type": "code",
   "execution_count": 34,
   "metadata": {},
   "outputs": [
    {
     "data": {
      "text/html": [
       "<div>\n",
       "<style scoped>\n",
       "    .dataframe tbody tr th:only-of-type {\n",
       "        vertical-align: middle;\n",
       "    }\n",
       "\n",
       "    .dataframe tbody tr th {\n",
       "        vertical-align: top;\n",
       "    }\n",
       "\n",
       "    .dataframe thead th {\n",
       "        text-align: right;\n",
       "    }\n",
       "</style>\n",
       "<table border=\"1\" class=\"dataframe\">\n",
       "  <thead>\n",
       "    <tr style=\"text-align: right;\">\n",
       "      <th></th>\n",
       "      <th>City</th>\n",
       "      <th>Type</th>\n",
       "      <th>Count</th>\n",
       "    </tr>\n",
       "  </thead>\n",
       "  <tbody>\n",
       "    <tr>\n",
       "      <th>0</th>\n",
       "      <td>Aguas Buenas</td>\n",
       "      <td>Casa</td>\n",
       "      <td>1</td>\n",
       "    </tr>\n",
       "    <tr>\n",
       "      <th>1</th>\n",
       "      <td>Arecibo</td>\n",
       "      <td>Apartamento</td>\n",
       "      <td>1</td>\n",
       "    </tr>\n",
       "    <tr>\n",
       "      <th>2</th>\n",
       "      <td>Bayamón</td>\n",
       "      <td>Casa</td>\n",
       "      <td>1</td>\n",
       "    </tr>\n",
       "    <tr>\n",
       "      <th>3</th>\n",
       "      <td>Cabo Rojo</td>\n",
       "      <td>Casa</td>\n",
       "      <td>1</td>\n",
       "    </tr>\n",
       "    <tr>\n",
       "      <th>4</th>\n",
       "      <td>Cayey</td>\n",
       "      <td>Solar</td>\n",
       "      <td>1</td>\n",
       "    </tr>\n",
       "    <tr>\n",
       "      <th>5</th>\n",
       "      <td>Ceiba</td>\n",
       "      <td>Solar</td>\n",
       "      <td>1</td>\n",
       "    </tr>\n",
       "    <tr>\n",
       "      <th>6</th>\n",
       "      <td>Encantada</td>\n",
       "      <td>Apt/WalkUp</td>\n",
       "      <td>1</td>\n",
       "    </tr>\n",
       "    <tr>\n",
       "      <th>7</th>\n",
       "      <td>Fajardo</td>\n",
       "      <td>Apartamento</td>\n",
       "      <td>1</td>\n",
       "    </tr>\n",
       "    <tr>\n",
       "      <th>8</th>\n",
       "      <td>Guaynabo</td>\n",
       "      <td>Apartamento</td>\n",
       "      <td>1</td>\n",
       "    </tr>\n",
       "    <tr>\n",
       "      <th>9</th>\n",
       "      <td>Guaynabo</td>\n",
       "      <td>Casa</td>\n",
       "      <td>1</td>\n",
       "    </tr>\n",
       "    <tr>\n",
       "      <th>10</th>\n",
       "      <td>Gurabo</td>\n",
       "      <td>Casa</td>\n",
       "      <td>1</td>\n",
       "    </tr>\n",
       "    <tr>\n",
       "      <th>11</th>\n",
       "      <td>Humacao</td>\n",
       "      <td>Casa</td>\n",
       "      <td>2</td>\n",
       "    </tr>\n",
       "    <tr>\n",
       "      <th>12</th>\n",
       "      <td>Humacao</td>\n",
       "      <td>Finca</td>\n",
       "      <td>1</td>\n",
       "    </tr>\n",
       "    <tr>\n",
       "      <th>13</th>\n",
       "      <td>Mayagüez</td>\n",
       "      <td>Casa</td>\n",
       "      <td>1</td>\n",
       "    </tr>\n",
       "    <tr>\n",
       "      <th>14</th>\n",
       "      <td>Patillas</td>\n",
       "      <td>Solar</td>\n",
       "      <td>1</td>\n",
       "    </tr>\n",
       "    <tr>\n",
       "      <th>15</th>\n",
       "      <td>Quebradillas</td>\n",
       "      <td>Solar</td>\n",
       "      <td>1</td>\n",
       "    </tr>\n",
       "    <tr>\n",
       "      <th>16</th>\n",
       "      <td>San Juan - Condado-Miramar</td>\n",
       "      <td>MultiFamiliar</td>\n",
       "      <td>1</td>\n",
       "    </tr>\n",
       "    <tr>\n",
       "      <th>17</th>\n",
       "      <td>San Juan - Hato Rey</td>\n",
       "      <td>Apartamento</td>\n",
       "      <td>1</td>\n",
       "    </tr>\n",
       "    <tr>\n",
       "      <th>18</th>\n",
       "      <td>San Juan - Río Piedras</td>\n",
       "      <td>Apartamento</td>\n",
       "      <td>1</td>\n",
       "    </tr>\n",
       "    <tr>\n",
       "      <th>19</th>\n",
       "      <td>San Juan - Río Piedras</td>\n",
       "      <td>Comercial</td>\n",
       "      <td>1</td>\n",
       "    </tr>\n",
       "    <tr>\n",
       "      <th>20</th>\n",
       "      <td>San Juan - Río Piedras</td>\n",
       "      <td>Comercial Repo</td>\n",
       "      <td>1</td>\n",
       "    </tr>\n",
       "    <tr>\n",
       "      <th>21</th>\n",
       "      <td>San Juan - Santurce</td>\n",
       "      <td>Casa</td>\n",
       "      <td>1</td>\n",
       "    </tr>\n",
       "    <tr>\n",
       "      <th>22</th>\n",
       "      <td>San Juan - Viejo SJ</td>\n",
       "      <td>Comercial</td>\n",
       "      <td>2</td>\n",
       "    </tr>\n",
       "    <tr>\n",
       "      <th>23</th>\n",
       "      <td>Toa Alta</td>\n",
       "      <td>Casa</td>\n",
       "      <td>2</td>\n",
       "    </tr>\n",
       "    <tr>\n",
       "      <th>24</th>\n",
       "      <td>Toa Baja - Levittown</td>\n",
       "      <td>Casa</td>\n",
       "      <td>1</td>\n",
       "    </tr>\n",
       "    <tr>\n",
       "      <th>25</th>\n",
       "      <td>Trujillo Alto</td>\n",
       "      <td>Comercial</td>\n",
       "      <td>1</td>\n",
       "    </tr>\n",
       "    <tr>\n",
       "      <th>26</th>\n",
       "      <td>Villalba</td>\n",
       "      <td>Finca</td>\n",
       "      <td>1</td>\n",
       "    </tr>\n",
       "  </tbody>\n",
       "</table>\n",
       "</div>"
      ],
      "text/plain": [
       "                           City            Type  Count\n",
       "0                  Aguas Buenas           Casa       1\n",
       "1                       Arecibo    Apartamento       1\n",
       "2                       Bayamón           Casa       1\n",
       "3                     Cabo Rojo           Casa       1\n",
       "4                         Cayey          Solar       1\n",
       "5                         Ceiba          Solar       1\n",
       "6                    Encantada      Apt/WalkUp       1\n",
       "7                       Fajardo    Apartamento       1\n",
       "8                      Guaynabo    Apartamento       1\n",
       "9                      Guaynabo           Casa       1\n",
       "10                       Gurabo           Casa       1\n",
       "11                      Humacao           Casa       2\n",
       "12                      Humacao          Finca       1\n",
       "13                     Mayagüez           Casa       1\n",
       "14                     Patillas          Solar       1\n",
       "15                 Quebradillas          Solar       1\n",
       "16   San Juan - Condado-Miramar  MultiFamiliar       1\n",
       "17          San Juan - Hato Rey    Apartamento       1\n",
       "18       San Juan - Río Piedras    Apartamento       1\n",
       "19       San Juan - Río Piedras      Comercial       1\n",
       "20       San Juan - Río Piedras  Comercial Repo      1\n",
       "21          San Juan - Santurce           Casa       1\n",
       "22          San Juan - Viejo SJ      Comercial       2\n",
       "23                     Toa Alta           Casa       2\n",
       "24         Toa Baja - Levittown           Casa       1\n",
       "25                Trujillo Alto      Comercial       1\n",
       "26                     Villalba          Finca       1"
      ]
     },
     "execution_count": 34,
     "metadata": {},
     "output_type": "execute_result"
    }
   ],
   "source": [
    "type_per_county"
   ]
  },
  {
   "cell_type": "code",
   "execution_count": null,
   "metadata": {},
   "outputs": [],
   "source": []
  }
 ],
 "metadata": {
  "kernelspec": {
   "display_name": ".venv",
   "language": "python",
   "name": "python3"
  },
  "language_info": {
   "codemirror_mode": {
    "name": "ipython",
    "version": 3
   },
   "file_extension": ".py",
   "mimetype": "text/x-python",
   "name": "python",
   "nbconvert_exporter": "python",
   "pygments_lexer": "ipython3",
   "version": "3.11.5"
  }
 },
 "nbformat": 4,
 "nbformat_minor": 2
}
